{
  "nbformat": 4,
  "nbformat_minor": 0,
  "metadata": {
    "colab": {
      "provenance": [],
      "collapsed_sections": [
        "DtoBh1xjiyv8",
        "nt-uP_vwmrwz",
        "EMq3xAAxmsyA",
        "mnDhc3jsmtoM",
        "mg4fDlTqmujG",
        "UVGvpauUmyy2",
        "vrPxtTdsmz08",
        "9Dad5ky6m0gX",
        "xZCKVyg9m24_",
        "atrFH_DMm3j2",
        "jmVdYskGwDYA"
      ],
      "authorship_tag": "ABX9TyPpfb6HnMXirMpVUBXU89wz",
      "include_colab_link": true
    },
    "kernelspec": {
      "name": "python3",
      "display_name": "Python 3"
    },
    "language_info": {
      "name": "python"
    }
  },
  "cells": [
    {
      "cell_type": "markdown",
      "metadata": {
        "id": "view-in-github",
        "colab_type": "text"
      },
      "source": [
        "<a href=\"https://colab.research.google.com/github/Edubc01/Actividad-7-Regresi-n-Log-stica-/blob/main/Actividad_7_(Regresi%C3%B3n_Log%C3%ADstica).ipynb\" target=\"_parent\"><img src=\"https://colab.research.google.com/assets/colab-badge.svg\" alt=\"Open In Colab\"/></a>"
      ]
    },
    {
      "cell_type": "markdown",
      "source": [
        "#**Actividad 7 (Regresión Logística)**\n",
        "##**Eduardo Ernesto Bolaños Castro A00830782**"
      ],
      "metadata": {
        "id": "PRJrBI4KhBi6"
      }
    },
    {
      "cell_type": "code",
      "execution_count": 350,
      "metadata": {
        "id": "KKtGVmePf5n9"
      },
      "outputs": [],
      "source": [
        "import pandas as pd\n",
        "import numpy as np\n",
        "import matplotlib.pyplot as plt\n",
        "import scipy.special as special\n",
        "from scipy.optimize import curve_fit\n",
        "import seaborn as sns\n",
        "from sklearn.metrics import r2_score\n",
        "from sklearn.model_selection import train_test_split\n",
        "from sklearn.preprocessing import StandardScaler"
      ]
    },
    {
      "cell_type": "code",
      "source": [
        "df = pd.read_csv('cuentas_credicel.csv',encoding='latin')\n",
        "df"
      ],
      "metadata": {
        "colab": {
          "base_uri": "https://localhost:8080/",
          "height": 774
        },
        "id": "J60mbzYKhA2E",
        "outputId": "057231a0-0d2e-4a42-d5db-60033913accb"
      },
      "execution_count": 351,
      "outputs": [
        {
          "output_type": "stream",
          "name": "stderr",
          "text": [
            "<ipython-input-351-b7f43e925989>:1: DtypeWarning: Columns (30) have mixed types. Specify dtype option on import or set low_memory=False.\n",
            "  df = pd.read_csv('cuentas_credicel.csv',encoding='latin')\n"
          ]
        },
        {
          "output_type": "execute_result",
          "data": {
            "text/plain": [
              "       folio       tag  folio_solicitud           fecha     marca  \\\n",
              "0          3  HDNAWQ3A               30  12/11/21 19:00       ZTE   \n",
              "1          4  M418YNR4               33  12/11/21 19:15  MOTOROLA   \n",
              "2          5  SZ7V3NZT               37  13/11/21 14:13       ZTE   \n",
              "3          6  9I08UIQZ               38  13/11/21 15:45       ZTE   \n",
              "4          7  JMF4LKYU               44  13/11/21 16:10  MOTOROLA   \n",
              "...      ...       ...              ...             ...       ...   \n",
              "22730  22967  92KQVRIX            96502  18/04/23 18:45  Motorola   \n",
              "22731  22968  NWB2EA8J            96479  18/04/23 18:46  Motorola   \n",
              "22732  22969  VDTRJ2W6            96442  18/04/23 18:47   Samsung   \n",
              "22733  22970  PETLF56C            96536  18/04/23 18:49   Samsung   \n",
              "22734  22971  2CI4N2WS            96534  18/04/23 18:49   Samsung   \n",
              "\n",
              "                             modelo plazo  precio  enganche  descuento  ...  \\\n",
              "0                Blade A3 2020 RO B   26S  1949.0     780.0        0.0  ...   \n",
              "1      LTE XT2097-12 E7I POWER Azul   13S  2999.0    1050.0        0.0  ...   \n",
              "2                BLADE A3 2020 Gris   13S  1959.0     490.0        0.0  ...   \n",
              "3                BLADE A3 2020 Gris   13S  1959.0     490.0        0.0  ...   \n",
              "4                             G10 B   39S  4299.0    1075.0        0.0  ...   \n",
              "...                             ...   ...     ...       ...        ...  ...   \n",
              "22730                      Moto E13   26S  3349.0     297.0        0.0  ...   \n",
              "22731                     Moto E22i   26S  4100.0    1209.0        0.0  ...   \n",
              "22732                           A13   26S  4849.0    1152.0        0.0  ...   \n",
              "22733                        A53 5G   39S  9799.0    2799.0        0.0  ...   \n",
              "22734                        A22 5G   26S  5399.0    1086.0        0.0  ...   \n",
              "\n",
              "       porc_eng  limite_credito  semana_actual  cp_cliente edad_cliente  \\\n",
              "0         40.02            5000             26         NaN         23.0   \n",
              "1         35.01            6000             13         NaN         60.0   \n",
              "2         25.01               0             74         NaN         58.0   \n",
              "3         25.01            7000             13         NaN         42.0   \n",
              "4         25.01            7000             74         NaN         33.0   \n",
              "...         ...             ...            ...         ...          ...   \n",
              "22730      8.87           10000              0       97880         22.0   \n",
              "22731     29.49            5000              0       37295         27.0   \n",
              "22732     23.76            4750              0       20210         36.0   \n",
              "22733     28.56            7000              0       78434         53.0   \n",
              "22734     20.11            4750              0       43800         19.0   \n",
              "\n",
              "                        cd_cliente  edo_cliente                     cd_venta  \\\n",
              "0                                0            0                    Tantoyuca   \n",
              "1                          PUEBLA          PUE.   Heroica Puebla de Zaragoza   \n",
              "2                        TANTOYUCA         VER.                            0   \n",
              "3                      AMXTLAN PUE          NaN                     Zacatlan   \n",
              "4                       TANTOYUCA          VER.                    Tantoyuca   \n",
              "...                            ...          ...                          ...   \n",
              "22730                    OXKUTZCAB          YUC                    Oxkutzcab   \n",
              "22731                         LEON          GTO                         Leon   \n",
              "22732               AGUASCALIENTES          AGS               Aguascalientes   \n",
              "22733  SOLEDAD DE GRACIANO SANCHEZ          SLP  Soledad De Graciano Sanchez   \n",
              "22734                     TIZAYUCA          HGO            San Jose Del Cabo   \n",
              "\n",
              "                 edo_venta                curp  \n",
              "0                 Veracruz  AEVM980413MVZNDR02  \n",
              "1                   Puebla  ZALC610119MPLPRR07  \n",
              "2                        0                   0  \n",
              "3                   Puebla  SAMJ790115MPLNRS02  \n",
              "4                 Veracruz  TEHF880707HVZRRR07  \n",
              "...                    ...                 ...  \n",
              "22730              Yucatan  PACT990804MYNCCH05  \n",
              "22731           Guanajuato  HEGB950620MGTRMN03  \n",
              "22732       Aguascalientes  GADF870205HASLZL07  \n",
              "22733      San Luis Potosi  DELJ700417HSPLRS03  \n",
              "22734  Baja California Sur  RASI030731HDFMRSA1  \n",
              "\n",
              "[22735 rows x 39 columns]"
            ],
            "text/html": [
              "\n",
              "  <div id=\"df-0feefe4a-4530-4037-94a8-10dc91358aa1\" class=\"colab-df-container\">\n",
              "    <div>\n",
              "<style scoped>\n",
              "    .dataframe tbody tr th:only-of-type {\n",
              "        vertical-align: middle;\n",
              "    }\n",
              "\n",
              "    .dataframe tbody tr th {\n",
              "        vertical-align: top;\n",
              "    }\n",
              "\n",
              "    .dataframe thead th {\n",
              "        text-align: right;\n",
              "    }\n",
              "</style>\n",
              "<table border=\"1\" class=\"dataframe\">\n",
              "  <thead>\n",
              "    <tr style=\"text-align: right;\">\n",
              "      <th></th>\n",
              "      <th>folio</th>\n",
              "      <th>tag</th>\n",
              "      <th>folio_solicitud</th>\n",
              "      <th>fecha</th>\n",
              "      <th>marca</th>\n",
              "      <th>modelo</th>\n",
              "      <th>plazo</th>\n",
              "      <th>precio</th>\n",
              "      <th>enganche</th>\n",
              "      <th>descuento</th>\n",
              "      <th>...</th>\n",
              "      <th>porc_eng</th>\n",
              "      <th>limite_credito</th>\n",
              "      <th>semana_actual</th>\n",
              "      <th>cp_cliente</th>\n",
              "      <th>edad_cliente</th>\n",
              "      <th>cd_cliente</th>\n",
              "      <th>edo_cliente</th>\n",
              "      <th>cd_venta</th>\n",
              "      <th>edo_venta</th>\n",
              "      <th>curp</th>\n",
              "    </tr>\n",
              "  </thead>\n",
              "  <tbody>\n",
              "    <tr>\n",
              "      <th>0</th>\n",
              "      <td>3</td>\n",
              "      <td>HDNAWQ3A</td>\n",
              "      <td>30</td>\n",
              "      <td>12/11/21 19:00</td>\n",
              "      <td>ZTE</td>\n",
              "      <td>Blade A3 2020 RO B</td>\n",
              "      <td>26S</td>\n",
              "      <td>1949.0</td>\n",
              "      <td>780.0</td>\n",
              "      <td>0.0</td>\n",
              "      <td>...</td>\n",
              "      <td>40.02</td>\n",
              "      <td>5000</td>\n",
              "      <td>26</td>\n",
              "      <td>NaN</td>\n",
              "      <td>23.0</td>\n",
              "      <td>0</td>\n",
              "      <td>0</td>\n",
              "      <td>Tantoyuca</td>\n",
              "      <td>Veracruz</td>\n",
              "      <td>AEVM980413MVZNDR02</td>\n",
              "    </tr>\n",
              "    <tr>\n",
              "      <th>1</th>\n",
              "      <td>4</td>\n",
              "      <td>M418YNR4</td>\n",
              "      <td>33</td>\n",
              "      <td>12/11/21 19:15</td>\n",
              "      <td>MOTOROLA</td>\n",
              "      <td>LTE XT2097-12 E7I POWER Azul</td>\n",
              "      <td>13S</td>\n",
              "      <td>2999.0</td>\n",
              "      <td>1050.0</td>\n",
              "      <td>0.0</td>\n",
              "      <td>...</td>\n",
              "      <td>35.01</td>\n",
              "      <td>6000</td>\n",
              "      <td>13</td>\n",
              "      <td>NaN</td>\n",
              "      <td>60.0</td>\n",
              "      <td>PUEBLA</td>\n",
              "      <td>PUE.</td>\n",
              "      <td>Heroica Puebla de Zaragoza</td>\n",
              "      <td>Puebla</td>\n",
              "      <td>ZALC610119MPLPRR07</td>\n",
              "    </tr>\n",
              "    <tr>\n",
              "      <th>2</th>\n",
              "      <td>5</td>\n",
              "      <td>SZ7V3NZT</td>\n",
              "      <td>37</td>\n",
              "      <td>13/11/21 14:13</td>\n",
              "      <td>ZTE</td>\n",
              "      <td>BLADE A3 2020 Gris</td>\n",
              "      <td>13S</td>\n",
              "      <td>1959.0</td>\n",
              "      <td>490.0</td>\n",
              "      <td>0.0</td>\n",
              "      <td>...</td>\n",
              "      <td>25.01</td>\n",
              "      <td>0</td>\n",
              "      <td>74</td>\n",
              "      <td>NaN</td>\n",
              "      <td>58.0</td>\n",
              "      <td>TANTOYUCA</td>\n",
              "      <td>VER.</td>\n",
              "      <td>0</td>\n",
              "      <td>0</td>\n",
              "      <td>0</td>\n",
              "    </tr>\n",
              "    <tr>\n",
              "      <th>3</th>\n",
              "      <td>6</td>\n",
              "      <td>9I08UIQZ</td>\n",
              "      <td>38</td>\n",
              "      <td>13/11/21 15:45</td>\n",
              "      <td>ZTE</td>\n",
              "      <td>BLADE A3 2020 Gris</td>\n",
              "      <td>13S</td>\n",
              "      <td>1959.0</td>\n",
              "      <td>490.0</td>\n",
              "      <td>0.0</td>\n",
              "      <td>...</td>\n",
              "      <td>25.01</td>\n",
              "      <td>7000</td>\n",
              "      <td>13</td>\n",
              "      <td>NaN</td>\n",
              "      <td>42.0</td>\n",
              "      <td>AMXTLAN PUE</td>\n",
              "      <td>NaN</td>\n",
              "      <td>Zacatlan</td>\n",
              "      <td>Puebla</td>\n",
              "      <td>SAMJ790115MPLNRS02</td>\n",
              "    </tr>\n",
              "    <tr>\n",
              "      <th>4</th>\n",
              "      <td>7</td>\n",
              "      <td>JMF4LKYU</td>\n",
              "      <td>44</td>\n",
              "      <td>13/11/21 16:10</td>\n",
              "      <td>MOTOROLA</td>\n",
              "      <td>G10 B</td>\n",
              "      <td>39S</td>\n",
              "      <td>4299.0</td>\n",
              "      <td>1075.0</td>\n",
              "      <td>0.0</td>\n",
              "      <td>...</td>\n",
              "      <td>25.01</td>\n",
              "      <td>7000</td>\n",
              "      <td>74</td>\n",
              "      <td>NaN</td>\n",
              "      <td>33.0</td>\n",
              "      <td>TANTOYUCA</td>\n",
              "      <td>VER.</td>\n",
              "      <td>Tantoyuca</td>\n",
              "      <td>Veracruz</td>\n",
              "      <td>TEHF880707HVZRRR07</td>\n",
              "    </tr>\n",
              "    <tr>\n",
              "      <th>...</th>\n",
              "      <td>...</td>\n",
              "      <td>...</td>\n",
              "      <td>...</td>\n",
              "      <td>...</td>\n",
              "      <td>...</td>\n",
              "      <td>...</td>\n",
              "      <td>...</td>\n",
              "      <td>...</td>\n",
              "      <td>...</td>\n",
              "      <td>...</td>\n",
              "      <td>...</td>\n",
              "      <td>...</td>\n",
              "      <td>...</td>\n",
              "      <td>...</td>\n",
              "      <td>...</td>\n",
              "      <td>...</td>\n",
              "      <td>...</td>\n",
              "      <td>...</td>\n",
              "      <td>...</td>\n",
              "      <td>...</td>\n",
              "      <td>...</td>\n",
              "    </tr>\n",
              "    <tr>\n",
              "      <th>22730</th>\n",
              "      <td>22967</td>\n",
              "      <td>92KQVRIX</td>\n",
              "      <td>96502</td>\n",
              "      <td>18/04/23 18:45</td>\n",
              "      <td>Motorola</td>\n",
              "      <td>Moto E13</td>\n",
              "      <td>26S</td>\n",
              "      <td>3349.0</td>\n",
              "      <td>297.0</td>\n",
              "      <td>0.0</td>\n",
              "      <td>...</td>\n",
              "      <td>8.87</td>\n",
              "      <td>10000</td>\n",
              "      <td>0</td>\n",
              "      <td>97880</td>\n",
              "      <td>22.0</td>\n",
              "      <td>OXKUTZCAB</td>\n",
              "      <td>YUC</td>\n",
              "      <td>Oxkutzcab</td>\n",
              "      <td>Yucatan</td>\n",
              "      <td>PACT990804MYNCCH05</td>\n",
              "    </tr>\n",
              "    <tr>\n",
              "      <th>22731</th>\n",
              "      <td>22968</td>\n",
              "      <td>NWB2EA8J</td>\n",
              "      <td>96479</td>\n",
              "      <td>18/04/23 18:46</td>\n",
              "      <td>Motorola</td>\n",
              "      <td>Moto E22i</td>\n",
              "      <td>26S</td>\n",
              "      <td>4100.0</td>\n",
              "      <td>1209.0</td>\n",
              "      <td>0.0</td>\n",
              "      <td>...</td>\n",
              "      <td>29.49</td>\n",
              "      <td>5000</td>\n",
              "      <td>0</td>\n",
              "      <td>37295</td>\n",
              "      <td>27.0</td>\n",
              "      <td>LEON</td>\n",
              "      <td>GTO</td>\n",
              "      <td>Leon</td>\n",
              "      <td>Guanajuato</td>\n",
              "      <td>HEGB950620MGTRMN03</td>\n",
              "    </tr>\n",
              "    <tr>\n",
              "      <th>22732</th>\n",
              "      <td>22969</td>\n",
              "      <td>VDTRJ2W6</td>\n",
              "      <td>96442</td>\n",
              "      <td>18/04/23 18:47</td>\n",
              "      <td>Samsung</td>\n",
              "      <td>A13</td>\n",
              "      <td>26S</td>\n",
              "      <td>4849.0</td>\n",
              "      <td>1152.0</td>\n",
              "      <td>0.0</td>\n",
              "      <td>...</td>\n",
              "      <td>23.76</td>\n",
              "      <td>4750</td>\n",
              "      <td>0</td>\n",
              "      <td>20210</td>\n",
              "      <td>36.0</td>\n",
              "      <td>AGUASCALIENTES</td>\n",
              "      <td>AGS</td>\n",
              "      <td>Aguascalientes</td>\n",
              "      <td>Aguascalientes</td>\n",
              "      <td>GADF870205HASLZL07</td>\n",
              "    </tr>\n",
              "    <tr>\n",
              "      <th>22733</th>\n",
              "      <td>22970</td>\n",
              "      <td>PETLF56C</td>\n",
              "      <td>96536</td>\n",
              "      <td>18/04/23 18:49</td>\n",
              "      <td>Samsung</td>\n",
              "      <td>A53 5G</td>\n",
              "      <td>39S</td>\n",
              "      <td>9799.0</td>\n",
              "      <td>2799.0</td>\n",
              "      <td>0.0</td>\n",
              "      <td>...</td>\n",
              "      <td>28.56</td>\n",
              "      <td>7000</td>\n",
              "      <td>0</td>\n",
              "      <td>78434</td>\n",
              "      <td>53.0</td>\n",
              "      <td>SOLEDAD DE GRACIANO SANCHEZ</td>\n",
              "      <td>SLP</td>\n",
              "      <td>Soledad De Graciano Sanchez</td>\n",
              "      <td>San Luis Potosi</td>\n",
              "      <td>DELJ700417HSPLRS03</td>\n",
              "    </tr>\n",
              "    <tr>\n",
              "      <th>22734</th>\n",
              "      <td>22971</td>\n",
              "      <td>2CI4N2WS</td>\n",
              "      <td>96534</td>\n",
              "      <td>18/04/23 18:49</td>\n",
              "      <td>Samsung</td>\n",
              "      <td>A22 5G</td>\n",
              "      <td>26S</td>\n",
              "      <td>5399.0</td>\n",
              "      <td>1086.0</td>\n",
              "      <td>0.0</td>\n",
              "      <td>...</td>\n",
              "      <td>20.11</td>\n",
              "      <td>4750</td>\n",
              "      <td>0</td>\n",
              "      <td>43800</td>\n",
              "      <td>19.0</td>\n",
              "      <td>TIZAYUCA</td>\n",
              "      <td>HGO</td>\n",
              "      <td>San Jose Del Cabo</td>\n",
              "      <td>Baja California Sur</td>\n",
              "      <td>RASI030731HDFMRSA1</td>\n",
              "    </tr>\n",
              "  </tbody>\n",
              "</table>\n",
              "<p>22735 rows × 39 columns</p>\n",
              "</div>\n",
              "    <div class=\"colab-df-buttons\">\n",
              "\n",
              "  <div class=\"colab-df-container\">\n",
              "    <button class=\"colab-df-convert\" onclick=\"convertToInteractive('df-0feefe4a-4530-4037-94a8-10dc91358aa1')\"\n",
              "            title=\"Convert this dataframe to an interactive table.\"\n",
              "            style=\"display:none;\">\n",
              "\n",
              "  <svg xmlns=\"http://www.w3.org/2000/svg\" height=\"24px\" viewBox=\"0 -960 960 960\">\n",
              "    <path d=\"M120-120v-720h720v720H120Zm60-500h600v-160H180v160Zm220 220h160v-160H400v160Zm0 220h160v-160H400v160ZM180-400h160v-160H180v160Zm440 0h160v-160H620v160ZM180-180h160v-160H180v160Zm440 0h160v-160H620v160Z\"/>\n",
              "  </svg>\n",
              "    </button>\n",
              "\n",
              "  <style>\n",
              "    .colab-df-container {\n",
              "      display:flex;\n",
              "      gap: 12px;\n",
              "    }\n",
              "\n",
              "    .colab-df-convert {\n",
              "      background-color: #E8F0FE;\n",
              "      border: none;\n",
              "      border-radius: 50%;\n",
              "      cursor: pointer;\n",
              "      display: none;\n",
              "      fill: #1967D2;\n",
              "      height: 32px;\n",
              "      padding: 0 0 0 0;\n",
              "      width: 32px;\n",
              "    }\n",
              "\n",
              "    .colab-df-convert:hover {\n",
              "      background-color: #E2EBFA;\n",
              "      box-shadow: 0px 1px 2px rgba(60, 64, 67, 0.3), 0px 1px 3px 1px rgba(60, 64, 67, 0.15);\n",
              "      fill: #174EA6;\n",
              "    }\n",
              "\n",
              "    .colab-df-buttons div {\n",
              "      margin-bottom: 4px;\n",
              "    }\n",
              "\n",
              "    [theme=dark] .colab-df-convert {\n",
              "      background-color: #3B4455;\n",
              "      fill: #D2E3FC;\n",
              "    }\n",
              "\n",
              "    [theme=dark] .colab-df-convert:hover {\n",
              "      background-color: #434B5C;\n",
              "      box-shadow: 0px 1px 3px 1px rgba(0, 0, 0, 0.15);\n",
              "      filter: drop-shadow(0px 1px 2px rgba(0, 0, 0, 0.3));\n",
              "      fill: #FFFFFF;\n",
              "    }\n",
              "  </style>\n",
              "\n",
              "    <script>\n",
              "      const buttonEl =\n",
              "        document.querySelector('#df-0feefe4a-4530-4037-94a8-10dc91358aa1 button.colab-df-convert');\n",
              "      buttonEl.style.display =\n",
              "        google.colab.kernel.accessAllowed ? 'block' : 'none';\n",
              "\n",
              "      async function convertToInteractive(key) {\n",
              "        const element = document.querySelector('#df-0feefe4a-4530-4037-94a8-10dc91358aa1');\n",
              "        const dataTable =\n",
              "          await google.colab.kernel.invokeFunction('convertToInteractive',\n",
              "                                                    [key], {});\n",
              "        if (!dataTable) return;\n",
              "\n",
              "        const docLinkHtml = 'Like what you see? Visit the ' +\n",
              "          '<a target=\"_blank\" href=https://colab.research.google.com/notebooks/data_table.ipynb>data table notebook</a>'\n",
              "          + ' to learn more about interactive tables.';\n",
              "        element.innerHTML = '';\n",
              "        dataTable['output_type'] = 'display_data';\n",
              "        await google.colab.output.renderOutput(dataTable, element);\n",
              "        const docLink = document.createElement('div');\n",
              "        docLink.innerHTML = docLinkHtml;\n",
              "        element.appendChild(docLink);\n",
              "      }\n",
              "    </script>\n",
              "  </div>\n",
              "\n",
              "\n",
              "<div id=\"df-c11dfe2c-b4fa-4bae-a996-fa02a134f49c\">\n",
              "  <button class=\"colab-df-quickchart\" onclick=\"quickchart('df-c11dfe2c-b4fa-4bae-a996-fa02a134f49c')\"\n",
              "            title=\"Suggest charts.\"\n",
              "            style=\"display:none;\">\n",
              "\n",
              "<svg xmlns=\"http://www.w3.org/2000/svg\" height=\"24px\"viewBox=\"0 0 24 24\"\n",
              "     width=\"24px\">\n",
              "    <g>\n",
              "        <path d=\"M19 3H5c-1.1 0-2 .9-2 2v14c0 1.1.9 2 2 2h14c1.1 0 2-.9 2-2V5c0-1.1-.9-2-2-2zM9 17H7v-7h2v7zm4 0h-2V7h2v10zm4 0h-2v-4h2v4z\"/>\n",
              "    </g>\n",
              "</svg>\n",
              "  </button>\n",
              "\n",
              "<style>\n",
              "  .colab-df-quickchart {\n",
              "      --bg-color: #E8F0FE;\n",
              "      --fill-color: #1967D2;\n",
              "      --hover-bg-color: #E2EBFA;\n",
              "      --hover-fill-color: #174EA6;\n",
              "      --disabled-fill-color: #AAA;\n",
              "      --disabled-bg-color: #DDD;\n",
              "  }\n",
              "\n",
              "  [theme=dark] .colab-df-quickchart {\n",
              "      --bg-color: #3B4455;\n",
              "      --fill-color: #D2E3FC;\n",
              "      --hover-bg-color: #434B5C;\n",
              "      --hover-fill-color: #FFFFFF;\n",
              "      --disabled-bg-color: #3B4455;\n",
              "      --disabled-fill-color: #666;\n",
              "  }\n",
              "\n",
              "  .colab-df-quickchart {\n",
              "    background-color: var(--bg-color);\n",
              "    border: none;\n",
              "    border-radius: 50%;\n",
              "    cursor: pointer;\n",
              "    display: none;\n",
              "    fill: var(--fill-color);\n",
              "    height: 32px;\n",
              "    padding: 0;\n",
              "    width: 32px;\n",
              "  }\n",
              "\n",
              "  .colab-df-quickchart:hover {\n",
              "    background-color: var(--hover-bg-color);\n",
              "    box-shadow: 0 1px 2px rgba(60, 64, 67, 0.3), 0 1px 3px 1px rgba(60, 64, 67, 0.15);\n",
              "    fill: var(--button-hover-fill-color);\n",
              "  }\n",
              "\n",
              "  .colab-df-quickchart-complete:disabled,\n",
              "  .colab-df-quickchart-complete:disabled:hover {\n",
              "    background-color: var(--disabled-bg-color);\n",
              "    fill: var(--disabled-fill-color);\n",
              "    box-shadow: none;\n",
              "  }\n",
              "\n",
              "  .colab-df-spinner {\n",
              "    border: 2px solid var(--fill-color);\n",
              "    border-color: transparent;\n",
              "    border-bottom-color: var(--fill-color);\n",
              "    animation:\n",
              "      spin 1s steps(1) infinite;\n",
              "  }\n",
              "\n",
              "  @keyframes spin {\n",
              "    0% {\n",
              "      border-color: transparent;\n",
              "      border-bottom-color: var(--fill-color);\n",
              "      border-left-color: var(--fill-color);\n",
              "    }\n",
              "    20% {\n",
              "      border-color: transparent;\n",
              "      border-left-color: var(--fill-color);\n",
              "      border-top-color: var(--fill-color);\n",
              "    }\n",
              "    30% {\n",
              "      border-color: transparent;\n",
              "      border-left-color: var(--fill-color);\n",
              "      border-top-color: var(--fill-color);\n",
              "      border-right-color: var(--fill-color);\n",
              "    }\n",
              "    40% {\n",
              "      border-color: transparent;\n",
              "      border-right-color: var(--fill-color);\n",
              "      border-top-color: var(--fill-color);\n",
              "    }\n",
              "    60% {\n",
              "      border-color: transparent;\n",
              "      border-right-color: var(--fill-color);\n",
              "    }\n",
              "    80% {\n",
              "      border-color: transparent;\n",
              "      border-right-color: var(--fill-color);\n",
              "      border-bottom-color: var(--fill-color);\n",
              "    }\n",
              "    90% {\n",
              "      border-color: transparent;\n",
              "      border-bottom-color: var(--fill-color);\n",
              "    }\n",
              "  }\n",
              "</style>\n",
              "\n",
              "  <script>\n",
              "    async function quickchart(key) {\n",
              "      const quickchartButtonEl =\n",
              "        document.querySelector('#' + key + ' button');\n",
              "      quickchartButtonEl.disabled = true;  // To prevent multiple clicks.\n",
              "      quickchartButtonEl.classList.add('colab-df-spinner');\n",
              "      try {\n",
              "        const charts = await google.colab.kernel.invokeFunction(\n",
              "            'suggestCharts', [key], {});\n",
              "      } catch (error) {\n",
              "        console.error('Error during call to suggestCharts:', error);\n",
              "      }\n",
              "      quickchartButtonEl.classList.remove('colab-df-spinner');\n",
              "      quickchartButtonEl.classList.add('colab-df-quickchart-complete');\n",
              "    }\n",
              "    (() => {\n",
              "      let quickchartButtonEl =\n",
              "        document.querySelector('#df-c11dfe2c-b4fa-4bae-a996-fa02a134f49c button');\n",
              "      quickchartButtonEl.style.display =\n",
              "        google.colab.kernel.accessAllowed ? 'block' : 'none';\n",
              "    })();\n",
              "  </script>\n",
              "</div>\n",
              "    </div>\n",
              "  </div>\n"
            ]
          },
          "metadata": {},
          "execution_count": 351
        }
      ]
    },
    {
      "cell_type": "code",
      "source": [
        "df.info()"
      ],
      "metadata": {
        "colab": {
          "base_uri": "https://localhost:8080/"
        },
        "id": "Ksk1LuHuhU9P",
        "outputId": "c634869f-d98e-4f11-bbad-647504a90d49"
      },
      "execution_count": 352,
      "outputs": [
        {
          "output_type": "stream",
          "name": "stdout",
          "text": [
            "<class 'pandas.core.frame.DataFrame'>\n",
            "RangeIndex: 22735 entries, 0 to 22734\n",
            "Data columns (total 39 columns):\n",
            " #   Column              Non-Null Count  Dtype  \n",
            "---  ------              --------------  -----  \n",
            " 0   folio               22735 non-null  int64  \n",
            " 1   tag                 22735 non-null  object \n",
            " 2   folio_solicitud     22735 non-null  int64  \n",
            " 3   fecha               22735 non-null  object \n",
            " 4   marca               22735 non-null  object \n",
            " 5   modelo              22735 non-null  object \n",
            " 6   plazo               22735 non-null  object \n",
            " 7   precio              22735 non-null  float64\n",
            " 8   enganche            22735 non-null  float64\n",
            " 9   descuento           22735 non-null  float64\n",
            " 10  semana              22735 non-null  int64  \n",
            " 11  monto_financiado    22735 non-null  float64\n",
            " 12  costo_total         22735 non-null  int64  \n",
            " 13  monto_accesorios    22735 non-null  float64\n",
            " 14  agente_venta        22735 non-null  object \n",
            " 15  dis_venta           22735 non-null  object \n",
            " 16  status              22735 non-null  int64  \n",
            " 17  fraude              22735 non-null  int64  \n",
            " 18  empresa             22722 non-null  object \n",
            " 19  inversion           22735 non-null  int64  \n",
            " 20  pagos_realizados    22735 non-null  int64  \n",
            " 21  reautorizacion      22735 non-null  int64  \n",
            " 22  fecha_ultimo_pago   19379 non-null  object \n",
            " 23  fecha_pago_proximo  19379 non-null  object \n",
            " 24  status_cuenta       19421 non-null  object \n",
            " 25  puntos              22735 non-null  int64  \n",
            " 26  riesgo              22735 non-null  float64\n",
            " 27  score_buro          22735 non-null  int64  \n",
            " 28  razones_buro        15395 non-null  object \n",
            " 29  porc_eng            22735 non-null  float64\n",
            " 30  limite_credito      22735 non-null  object \n",
            " 31  semana_actual       22735 non-null  int64  \n",
            " 32  cp_cliente          15492 non-null  object \n",
            " 33  edad_cliente        22726 non-null  float64\n",
            " 34  cd_cliente          22735 non-null  object \n",
            " 35  edo_cliente         22727 non-null  object \n",
            " 36  cd_venta            22735 non-null  object \n",
            " 37  edo_venta           22735 non-null  object \n",
            " 38  curp                22735 non-null  object \n",
            "dtypes: float64(8), int64(12), object(19)\n",
            "memory usage: 6.8+ MB\n"
          ]
        }
      ]
    },
    {
      "cell_type": "code",
      "source": [
        "df.isnull().sum()"
      ],
      "metadata": {
        "colab": {
          "base_uri": "https://localhost:8080/"
        },
        "id": "wPc4RIPshO7M",
        "outputId": "359dea56-2984-4125-9154-2e67b94eb595"
      },
      "execution_count": 353,
      "outputs": [
        {
          "output_type": "execute_result",
          "data": {
            "text/plain": [
              "folio                    0\n",
              "tag                      0\n",
              "folio_solicitud          0\n",
              "fecha                    0\n",
              "marca                    0\n",
              "modelo                   0\n",
              "plazo                    0\n",
              "precio                   0\n",
              "enganche                 0\n",
              "descuento                0\n",
              "semana                   0\n",
              "monto_financiado         0\n",
              "costo_total              0\n",
              "monto_accesorios         0\n",
              "agente_venta             0\n",
              "dis_venta                0\n",
              "status                   0\n",
              "fraude                   0\n",
              "empresa                 13\n",
              "inversion                0\n",
              "pagos_realizados         0\n",
              "reautorizacion           0\n",
              "fecha_ultimo_pago     3356\n",
              "fecha_pago_proximo    3356\n",
              "status_cuenta         3314\n",
              "puntos                   0\n",
              "riesgo                   0\n",
              "score_buro               0\n",
              "razones_buro          7340\n",
              "porc_eng                 0\n",
              "limite_credito           0\n",
              "semana_actual            0\n",
              "cp_cliente            7243\n",
              "edad_cliente             9\n",
              "cd_cliente               0\n",
              "edo_cliente              8\n",
              "cd_venta                 0\n",
              "edo_venta                0\n",
              "curp                     0\n",
              "dtype: int64"
            ]
          },
          "metadata": {},
          "execution_count": 353
        }
      ]
    },
    {
      "cell_type": "code",
      "source": [
        "df['empresa'] = df['empresa'].fillna(method = 'ffill')\n",
        "df['fecha_ultimo_pago'] = df['fecha_ultimo_pago'].fillna('01/01/1900 00:00')\n",
        "df['fecha_pago_proximo'] = df['fecha_pago_proximo'].fillna('01/01/1900 00:00')\n",
        "df['status_cuenta'] = df['status_cuenta'].fillna('Corriente')\n",
        "df['razones_buro'] = df['razones_buro'].fillna(method = 'bfill')\n",
        "df['edo_cliente'] = df['edo_cliente'].fillna(method = 'bfill')\n",
        "df['cp_cliente'] = df['cp_cliente'].fillna(method = 'bfill')\n",
        "df['edad_cliente'] = df['edad_cliente'].fillna(round(df['edad_cliente'].mean(),0))\n",
        "df['limite_credito'] = df['limite_credito'].fillna(7000)"
      ],
      "metadata": {
        "id": "ZTxGS-zMhWwe"
      },
      "execution_count": 354,
      "outputs": []
    },
    {
      "cell_type": "code",
      "source": [
        "df.info()"
      ],
      "metadata": {
        "colab": {
          "base_uri": "https://localhost:8080/"
        },
        "id": "erupCpsnhnpN",
        "outputId": "37f0e550-a415-4b78-ae5e-b7f0a0b5b80d"
      },
      "execution_count": 355,
      "outputs": [
        {
          "output_type": "stream",
          "name": "stdout",
          "text": [
            "<class 'pandas.core.frame.DataFrame'>\n",
            "RangeIndex: 22735 entries, 0 to 22734\n",
            "Data columns (total 39 columns):\n",
            " #   Column              Non-Null Count  Dtype  \n",
            "---  ------              --------------  -----  \n",
            " 0   folio               22735 non-null  int64  \n",
            " 1   tag                 22735 non-null  object \n",
            " 2   folio_solicitud     22735 non-null  int64  \n",
            " 3   fecha               22735 non-null  object \n",
            " 4   marca               22735 non-null  object \n",
            " 5   modelo              22735 non-null  object \n",
            " 6   plazo               22735 non-null  object \n",
            " 7   precio              22735 non-null  float64\n",
            " 8   enganche            22735 non-null  float64\n",
            " 9   descuento           22735 non-null  float64\n",
            " 10  semana              22735 non-null  int64  \n",
            " 11  monto_financiado    22735 non-null  float64\n",
            " 12  costo_total         22735 non-null  int64  \n",
            " 13  monto_accesorios    22735 non-null  float64\n",
            " 14  agente_venta        22735 non-null  object \n",
            " 15  dis_venta           22735 non-null  object \n",
            " 16  status              22735 non-null  int64  \n",
            " 17  fraude              22735 non-null  int64  \n",
            " 18  empresa             22735 non-null  object \n",
            " 19  inversion           22735 non-null  int64  \n",
            " 20  pagos_realizados    22735 non-null  int64  \n",
            " 21  reautorizacion      22735 non-null  int64  \n",
            " 22  fecha_ultimo_pago   22735 non-null  object \n",
            " 23  fecha_pago_proximo  22735 non-null  object \n",
            " 24  status_cuenta       22735 non-null  object \n",
            " 25  puntos              22735 non-null  int64  \n",
            " 26  riesgo              22735 non-null  float64\n",
            " 27  score_buro          22735 non-null  int64  \n",
            " 28  razones_buro        22735 non-null  object \n",
            " 29  porc_eng            22735 non-null  float64\n",
            " 30  limite_credito      22735 non-null  object \n",
            " 31  semana_actual       22735 non-null  int64  \n",
            " 32  cp_cliente          22735 non-null  object \n",
            " 33  edad_cliente        22735 non-null  float64\n",
            " 34  cd_cliente          22735 non-null  object \n",
            " 35  edo_cliente         22735 non-null  object \n",
            " 36  cd_venta            22735 non-null  object \n",
            " 37  edo_venta           22735 non-null  object \n",
            " 38  curp                22735 non-null  object \n",
            "dtypes: float64(8), int64(12), object(19)\n",
            "memory usage: 6.8+ MB\n"
          ]
        }
      ]
    },
    {
      "cell_type": "code",
      "source": [
        "import matplotlib.pyplot as plt\n",
        "fig = plt.figure(figsize =(30, 50))\n",
        "df.plot(kind='box', vert=False)\n",
        "plt.title(\"Valores Atípicos\")\n",
        "plt.show()"
      ],
      "metadata": {
        "colab": {
          "base_uri": "https://localhost:8080/",
          "height": 470
        },
        "id": "pIQ9GV12hqdh",
        "outputId": "c8d5e59b-6579-4669-e5b2-43b43b3271c1"
      },
      "execution_count": 356,
      "outputs": [
        {
          "output_type": "display_data",
          "data": {
            "text/plain": [
              "<Figure size 3000x5000 with 0 Axes>"
            ]
          },
          "metadata": {}
        },
        {
          "output_type": "display_data",
          "data": {
            "text/plain": [
              "<Figure size 640x480 with 1 Axes>"
            ],
            "image/png": "[encoded data removed]"
          },
          "metadata": {}
        }
      ]
    },
    {
      "cell_type": "code",
      "source": [
        "y=df\n",
        "percentile25=y.quantile(0.25) #Q1\n",
        "percentile75=y.quantile(0.75) #Q3\n",
        "iqr= percentile75 - percentile25\n",
        "\n",
        "Limite_Superior= percentile75 + 1.5*iqr\n",
        "Limite_Inferior= percentile25 - 1.5*iqr\n",
        "print(\"Limite Superior: \", Limite_Superior)\n",
        "print(\"Limite Inferior: \", Limite_Inferior)"
      ],
      "metadata": {
        "colab": {
          "base_uri": "https://localhost:8080/"
        },
        "id": "3IvRwQDZhsvU",
        "outputId": "7c676c3e-9925-4fbd-e32b-688e470a2bde"
      },
      "execution_count": 357,
      "outputs": [
        {
          "output_type": "stream",
          "name": "stdout",
          "text": [
            "Limite Superior:  folio                34333.500\n",
            "folio_solicitud     139392.000\n",
            "precio                7674.000\n",
            "enganche              1841.750\n",
            "descuento              500.000\n",
            "semana                 457.500\n",
            "monto_financiado      5703.000\n",
            "costo_total          11108.500\n",
            "monto_accesorios         0.000\n",
            "status                   1.000\n",
            "fraude                   0.000\n",
            "inversion                0.000\n",
            "pagos_realizados        34.500\n",
            "reautorizacion           0.000\n",
            "puntos                  20.000\n",
            "riesgo                  60.300\n",
            "score_buro            1370.000\n",
            "porc_eng                36.825\n",
            "semana_actual           48.500\n",
            "edad_cliente            68.500\n",
            "dtype: float64\n",
            "Limite Inferior:  folio              -11290.500\n",
            "folio_solicitud    -49692.000\n",
            "precio                274.000\n",
            "enganche             -104.250\n",
            "descuento            -300.000\n",
            "semana                 -2.500\n",
            "monto_financiado      359.000\n",
            "costo_total          -175.500\n",
            "monto_accesorios        0.000\n",
            "status                  1.000\n",
            "fraude                  0.000\n",
            "inversion               0.000\n",
            "pagos_realizados      -17.500\n",
            "reautorizacion          0.000\n",
            "puntos                  4.000\n",
            "riesgo                -45.300\n",
            "score_buro           -822.000\n",
            "porc_eng                7.425\n",
            "semana_actual         -11.500\n",
            "edad_cliente            0.500\n",
            "dtype: float64\n"
          ]
        },
        {
          "output_type": "stream",
          "name": "stderr",
          "text": [
            "<ipython-input-357-76d2ed3a9723>:2: FutureWarning: The default value of numeric_only in DataFrame.quantile is deprecated. In a future version, it will default to False. Select only valid columns or specify the value of numeric_only to silence this warning.\n",
            "  percentile25=y.quantile(0.25) #Q1\n",
            "<ipython-input-357-76d2ed3a9723>:3: FutureWarning: The default value of numeric_only in DataFrame.quantile is deprecated. In a future version, it will default to False. Select only valid columns or specify the value of numeric_only to silence this warning.\n",
            "  percentile75=y.quantile(0.75) #Q3\n"
          ]
        }
      ]
    },
    {
      "cell_type": "code",
      "source": [
        "dfL= df[(y<=Limite_Superior)&(y>=Limite_Inferior)]\n",
        "dfL"
      ],
      "metadata": {
        "colab": {
          "base_uri": "https://localhost:8080/",
          "height": 478
        },
        "id": "B5Tbbm-1hvkF",
        "outputId": "5da9c139-9f25-4f79-a79f-b5b97de70eb4"
      },
      "execution_count": 358,
      "outputs": [
        {
          "output_type": "stream",
          "name": "stderr",
          "text": [
            "<ipython-input-358-967c8171ad5c>:1: FutureWarning: Automatic reindexing on DataFrame vs Series comparisons is deprecated and will raise ValueError in a future version. Do `left, right = left.align(right, axis=1, copy=False)` before e.g. `left == right`\n",
            "  dfL= df[(y<=Limite_Superior)&(y>=Limite_Inferior)]\n"
          ]
        },
        {
          "output_type": "execute_result",
          "data": {
            "text/plain": [
              "       folio  tag  folio_solicitud fecha marca modelo plazo  precio  enganche  \\\n",
              "0          3  NaN               30   NaN   NaN    NaN   NaN  1949.0     780.0   \n",
              "1          4  NaN               33   NaN   NaN    NaN   NaN  2999.0    1050.0   \n",
              "2          5  NaN               37   NaN   NaN    NaN   NaN  1959.0     490.0   \n",
              "3          6  NaN               38   NaN   NaN    NaN   NaN  1959.0     490.0   \n",
              "4          7  NaN               44   NaN   NaN    NaN   NaN  4299.0    1075.0   \n",
              "...      ...  ...              ...   ...   ...    ...   ...     ...       ...   \n",
              "22730  22967  NaN            96502   NaN   NaN    NaN   NaN  3349.0     297.0   \n",
              "22731  22968  NaN            96479   NaN   NaN    NaN   NaN  4100.0    1209.0   \n",
              "22732  22969  NaN            96442   NaN   NaN    NaN   NaN  4849.0    1152.0   \n",
              "22733  22970  NaN            96536   NaN   NaN    NaN   NaN     NaN       NaN   \n",
              "22734  22971  NaN            96534   NaN   NaN    NaN   NaN  5399.0    1086.0   \n",
              "\n",
              "       descuento  ...  porc_eng  limite_credito  semana_actual  cp_cliente  \\\n",
              "0            0.0  ...       NaN             NaN           26.0         NaN   \n",
              "1            0.0  ...     35.01             NaN           13.0         NaN   \n",
              "2            0.0  ...     25.01             NaN            NaN         NaN   \n",
              "3            0.0  ...     25.01             NaN           13.0         NaN   \n",
              "4            0.0  ...     25.01             NaN            NaN         NaN   \n",
              "...          ...  ...       ...             ...            ...         ...   \n",
              "22730        0.0  ...      8.87             NaN            0.0         NaN   \n",
              "22731        0.0  ...     29.49             NaN            0.0         NaN   \n",
              "22732        0.0  ...     23.76             NaN            0.0         NaN   \n",
              "22733        0.0  ...     28.56             NaN            0.0         NaN   \n",
              "22734        0.0  ...     20.11             NaN            0.0         NaN   \n",
              "\n",
              "      edad_cliente cd_cliente  edo_cliente  cd_venta edo_venta  curp  \n",
              "0             23.0        NaN          NaN       NaN       NaN   NaN  \n",
              "1             60.0        NaN          NaN       NaN       NaN   NaN  \n",
              "2             58.0        NaN          NaN       NaN       NaN   NaN  \n",
              "3             42.0        NaN          NaN       NaN       NaN   NaN  \n",
              "4             33.0        NaN          NaN       NaN       NaN   NaN  \n",
              "...            ...        ...          ...       ...       ...   ...  \n",
              "22730         22.0        NaN          NaN       NaN       NaN   NaN  \n",
              "22731         27.0        NaN          NaN       NaN       NaN   NaN  \n",
              "22732         36.0        NaN          NaN       NaN       NaN   NaN  \n",
              "22733         53.0        NaN          NaN       NaN       NaN   NaN  \n",
              "22734         19.0        NaN          NaN       NaN       NaN   NaN  \n",
              "\n",
              "[22735 rows x 39 columns]"
            ],
            "text/html": [
              "\n",
              "  <div id=\"df-84c7b704-bab5-406b-b814-c6614601d73d\" class=\"colab-df-container\">\n",
              "    <div>\n",
              "<style scoped>\n",
              "    .dataframe tbody tr th:only-of-type {\n",
              "        vertical-align: middle;\n",
              "    }\n",
              "\n",
              "    .dataframe tbody tr th {\n",
              "        vertical-align: top;\n",
              "    }\n",
              "\n",
              "    .dataframe thead th {\n",
              "        text-align: right;\n",
              "    }\n",
              "</style>\n",
              "<table border=\"1\" class=\"dataframe\">\n",
              "  <thead>\n",
              "    <tr style=\"text-align: right;\">\n",
              "      <th></th>\n",
              "      <th>folio</th>\n",
              "      <th>tag</th>\n",
              "      <th>folio_solicitud</th>\n",
              "      <th>fecha</th>\n",
              "      <th>marca</th>\n",
              "      <th>modelo</th>\n",
              "      <th>plazo</th>\n",
              "      <th>precio</th>\n",
              "      <th>enganche</th>\n",
              "      <th>descuento</th>\n",
              "      <th>...</th>\n",
              "      <th>porc_eng</th>\n",
              "      <th>limite_credito</th>\n",
              "      <th>semana_actual</th>\n",
              "      <th>cp_cliente</th>\n",
              "      <th>edad_cliente</th>\n",
              "      <th>cd_cliente</th>\n",
              "      <th>edo_cliente</th>\n",
              "      <th>cd_venta</th>\n",
              "      <th>edo_venta</th>\n",
              "      <th>curp</th>\n",
              "    </tr>\n",
              "  </thead>\n",
              "  <tbody>\n",
              "    <tr>\n",
              "      <th>0</th>\n",
              "      <td>3</td>\n",
              "      <td>NaN</td>\n",
              "      <td>30</td>\n",
              "      <td>NaN</td>\n",
              "      <td>NaN</td>\n",
              "      <td>NaN</td>\n",
              "      <td>NaN</td>\n",
              "      <td>1949.0</td>\n",
              "      <td>780.0</td>\n",
              "      <td>0.0</td>\n",
              "      <td>...</td>\n",
              "      <td>NaN</td>\n",
              "      <td>NaN</td>\n",
              "      <td>26.0</td>\n",
              "      <td>NaN</td>\n",
              "      <td>23.0</td>\n",
              "      <td>NaN</td>\n",
              "      <td>NaN</td>\n",
              "      <td>NaN</td>\n",
              "      <td>NaN</td>\n",
              "      <td>NaN</td>\n",
              "    </tr>\n",
              "    <tr>\n",
              "      <th>1</th>\n",
              "      <td>4</td>\n",
              "      <td>NaN</td>\n",
              "      <td>33</td>\n",
              "      <td>NaN</td>\n",
              "      <td>NaN</td>\n",
              "      <td>NaN</td>\n",
              "      <td>NaN</td>\n",
              "      <td>2999.0</td>\n",
              "      <td>1050.0</td>\n",
              "      <td>0.0</td>\n",
              "      <td>...</td>\n",
              "      <td>35.01</td>\n",
              "      <td>NaN</td>\n",
              "      <td>13.0</td>\n",
              "      <td>NaN</td>\n",
              "      <td>60.0</td>\n",
              "      <td>NaN</td>\n",
              "      <td>NaN</td>\n",
              "      <td>NaN</td>\n",
              "      <td>NaN</td>\n",
              "      <td>NaN</td>\n",
              "    </tr>\n",
              "    <tr>\n",
              "      <th>2</th>\n",
              "      <td>5</td>\n",
              "      <td>NaN</td>\n",
              "      <td>37</td>\n",
              "      <td>NaN</td>\n",
              "      <td>NaN</td>\n",
              "      <td>NaN</td>\n",
              "      <td>NaN</td>\n",
              "      <td>1959.0</td>\n",
              "      <td>490.0</td>\n",
              "      <td>0.0</td>\n",
              "      <td>...</td>\n",
              "      <td>25.01</td>\n",
              "      <td>NaN</td>\n",
              "      <td>NaN</td>\n",
              "      <td>NaN</td>\n",
              "      <td>58.0</td>\n",
              "      <td>NaN</td>\n",
              "      <td>NaN</td>\n",
              "      <td>NaN</td>\n",
              "      <td>NaN</td>\n",
              "      <td>NaN</td>\n",
              "    </tr>\n",
              "    <tr>\n",
              "      <th>3</th>\n",
              "      <td>6</td>\n",
              "      <td>NaN</td>\n",
              "      <td>38</td>\n",
              "      <td>NaN</td>\n",
              "      <td>NaN</td>\n",
              "      <td>NaN</td>\n",
              "      <td>NaN</td>\n",
              "      <td>1959.0</td>\n",
              "      <td>490.0</td>\n",
              "      <td>0.0</td>\n",
              "      <td>...</td>\n",
              "      <td>25.01</td>\n",
              "      <td>NaN</td>\n",
              "      <td>13.0</td>\n",
              "      <td>NaN</td>\n",
              "      <td>42.0</td>\n",
              "      <td>NaN</td>\n",
              "      <td>NaN</td>\n",
              "      <td>NaN</td>\n",
              "      <td>NaN</td>\n",
              "      <td>NaN</td>\n",
              "    </tr>\n",
              "    <tr>\n",
              "      <th>4</th>\n",
              "      <td>7</td>\n",
              "      <td>NaN</td>\n",
              "      <td>44</td>\n",
              "      <td>NaN</td>\n",
              "      <td>NaN</td>\n",
              "      <td>NaN</td>\n",
              "      <td>NaN</td>\n",
              "      <td>4299.0</td>\n",
              "      <td>1075.0</td>\n",
              "      <td>0.0</td>\n",
              "      <td>...</td>\n",
              "      <td>25.01</td>\n",
              "      <td>NaN</td>\n",
              "      <td>NaN</td>\n",
              "      <td>NaN</td>\n",
              "      <td>33.0</td>\n",
              "      <td>NaN</td>\n",
              "      <td>NaN</td>\n",
              "      <td>NaN</td>\n",
              "      <td>NaN</td>\n",
              "      <td>NaN</td>\n",
              "    </tr>\n",
              "    <tr>\n",
              "      <th>...</th>\n",
              "      <td>...</td>\n",
              "      <td>...</td>\n",
              "      <td>...</td>\n",
              "      <td>...</td>\n",
              "      <td>...</td>\n",
              "      <td>...</td>\n",
              "      <td>...</td>\n",
              "      <td>...</td>\n",
              "      <td>...</td>\n",
              "      <td>...</td>\n",
              "      <td>...</td>\n",
              "      <td>...</td>\n",
              "      <td>...</td>\n",
              "      <td>...</td>\n",
              "      <td>...</td>\n",
              "      <td>...</td>\n",
              "      <td>...</td>\n",
              "      <td>...</td>\n",
              "      <td>...</td>\n",
              "      <td>...</td>\n",
              "      <td>...</td>\n",
              "    </tr>\n",
              "    <tr>\n",
              "      <th>22730</th>\n",
              "      <td>22967</td>\n",
              "      <td>NaN</td>\n",
              "      <td>96502</td>\n",
              "      <td>NaN</td>\n",
              "      <td>NaN</td>\n",
              "      <td>NaN</td>\n",
              "      <td>NaN</td>\n",
              "      <td>3349.0</td>\n",
              "      <td>297.0</td>\n",
              "      <td>0.0</td>\n",
              "      <td>...</td>\n",
              "      <td>8.87</td>\n",
              "      <td>NaN</td>\n",
              "      <td>0.0</td>\n",
              "      <td>NaN</td>\n",
              "      <td>22.0</td>\n",
              "      <td>NaN</td>\n",
              "      <td>NaN</td>\n",
              "      <td>NaN</td>\n",
              "      <td>NaN</td>\n",
              "      <td>NaN</td>\n",
              "    </tr>\n",
              "    <tr>\n",
              "      <th>22731</th>\n",
              "      <td>22968</td>\n",
              "      <td>NaN</td>\n",
              "      <td>96479</td>\n",
              "      <td>NaN</td>\n",
              "      <td>NaN</td>\n",
              "      <td>NaN</td>\n",
              "      <td>NaN</td>\n",
              "      <td>4100.0</td>\n",
              "      <td>1209.0</td>\n",
              "      <td>0.0</td>\n",
              "      <td>...</td>\n",
              "      <td>29.49</td>\n",
              "      <td>NaN</td>\n",
              "      <td>0.0</td>\n",
              "      <td>NaN</td>\n",
              "      <td>27.0</td>\n",
              "      <td>NaN</td>\n",
              "      <td>NaN</td>\n",
              "      <td>NaN</td>\n",
              "      <td>NaN</td>\n",
              "      <td>NaN</td>\n",
              "    </tr>\n",
              "    <tr>\n",
              "      <th>22732</th>\n",
              "      <td>22969</td>\n",
              "      <td>NaN</td>\n",
              "      <td>96442</td>\n",
              "      <td>NaN</td>\n",
              "      <td>NaN</td>\n",
              "      <td>NaN</td>\n",
              "      <td>NaN</td>\n",
              "      <td>4849.0</td>\n",
              "      <td>1152.0</td>\n",
              "      <td>0.0</td>\n",
              "      <td>...</td>\n",
              "      <td>23.76</td>\n",
              "      <td>NaN</td>\n",
              "      <td>0.0</td>\n",
              "      <td>NaN</td>\n",
              "      <td>36.0</td>\n",
              "      <td>NaN</td>\n",
              "      <td>NaN</td>\n",
              "      <td>NaN</td>\n",
              "      <td>NaN</td>\n",
              "      <td>NaN</td>\n",
              "    </tr>\n",
              "    <tr>\n",
              "      <th>22733</th>\n",
              "      <td>22970</td>\n",
              "      <td>NaN</td>\n",
              "      <td>96536</td>\n",
              "      <td>NaN</td>\n",
              "      <td>NaN</td>\n",
              "      <td>NaN</td>\n",
              "      <td>NaN</td>\n",
              "      <td>NaN</td>\n",
              "      <td>NaN</td>\n",
              "      <td>0.0</td>\n",
              "      <td>...</td>\n",
              "      <td>28.56</td>\n",
              "      <td>NaN</td>\n",
              "      <td>0.0</td>\n",
              "      <td>NaN</td>\n",
              "      <td>53.0</td>\n",
              "      <td>NaN</td>\n",
              "      <td>NaN</td>\n",
              "      <td>NaN</td>\n",
              "      <td>NaN</td>\n",
              "      <td>NaN</td>\n",
              "    </tr>\n",
              "    <tr>\n",
              "      <th>22734</th>\n",
              "      <td>22971</td>\n",
              "      <td>NaN</td>\n",
              "      <td>96534</td>\n",
              "      <td>NaN</td>\n",
              "      <td>NaN</td>\n",
              "      <td>NaN</td>\n",
              "      <td>NaN</td>\n",
              "      <td>5399.0</td>\n",
              "      <td>1086.0</td>\n",
              "      <td>0.0</td>\n",
              "      <td>...</td>\n",
              "      <td>20.11</td>\n",
              "      <td>NaN</td>\n",
              "      <td>0.0</td>\n",
              "      <td>NaN</td>\n",
              "      <td>19.0</td>\n",
              "      <td>NaN</td>\n",
              "      <td>NaN</td>\n",
              "      <td>NaN</td>\n",
              "      <td>NaN</td>\n",
              "      <td>NaN</td>\n",
              "    </tr>\n",
              "  </tbody>\n",
              "</table>\n",
              "<p>22735 rows × 39 columns</p>\n",
              "</div>\n",
              "    <div class=\"colab-df-buttons\">\n",
              "\n",
              "  <div class=\"colab-df-container\">\n",
              "    <button class=\"colab-df-convert\" onclick=\"convertToInteractive('df-84c7b704-bab5-406b-b814-c6614601d73d')\"\n",
              "            title=\"Convert this dataframe to an interactive table.\"\n",
              "            style=\"display:none;\">\n",
              "\n",
              "  <svg xmlns=\"http://www.w3.org/2000/svg\" height=\"24px\" viewBox=\"0 -960 960 960\">\n",
              "    <path d=\"M120-120v-720h720v720H120Zm60-500h600v-160H180v160Zm220 220h160v-160H400v160Zm0 220h160v-160H400v160ZM180-400h160v-160H180v160Zm440 0h160v-160H620v160ZM180-180h160v-160H180v160Zm440 0h160v-160H620v160Z\"/>\n",
              "  </svg>\n",
              "    </button>\n",
              "\n",
              "  <style>\n",
              "    .colab-df-container {\n",
              "      display:flex;\n",
              "      gap: 12px;\n",
              "    }\n",
              "\n",
              "    .colab-df-convert {\n",
              "      background-color: #E8F0FE;\n",
              "      border: none;\n",
              "      border-radius: 50%;\n",
              "      cursor: pointer;\n",
              "      display: none;\n",
              "      fill: #1967D2;\n",
              "      height: 32px;\n",
              "      padding: 0 0 0 0;\n",
              "      width: 32px;\n",
              "    }\n",
              "\n",
              "    .colab-df-convert:hover {\n",
              "      background-color: #E2EBFA;\n",
              "      box-shadow: 0px 1px 2px rgba(60, 64, 67, 0.3), 0px 1px 3px 1px rgba(60, 64, 67, 0.15);\n",
              "      fill: #174EA6;\n",
              "    }\n",
              "\n",
              "    .colab-df-buttons div {\n",
              "      margin-bottom: 4px;\n",
              "    }\n",
              "\n",
              "    [theme=dark] .colab-df-convert {\n",
              "      background-color: #3B4455;\n",
              "      fill: #D2E3FC;\n",
              "    }\n",
              "\n",
              "    [theme=dark] .colab-df-convert:hover {\n",
              "      background-color: #434B5C;\n",
              "      box-shadow: 0px 1px 3px 1px rgba(0, 0, 0, 0.15);\n",
              "      filter: drop-shadow(0px 1px 2px rgba(0, 0, 0, 0.3));\n",
              "      fill: #FFFFFF;\n",
              "    }\n",
              "  </style>\n",
              "\n",
              "    <script>\n",
              "      const buttonEl =\n",
              "        document.querySelector('#df-84c7b704-bab5-406b-b814-c6614601d73d button.colab-df-convert');\n",
              "      buttonEl.style.display =\n",
              "        google.colab.kernel.accessAllowed ? 'block' : 'none';\n",
              "\n",
              "      async function convertToInteractive(key) {\n",
              "        const element = document.querySelector('#df-84c7b704-bab5-406b-b814-c6614601d73d');\n",
              "        const dataTable =\n",
              "          await google.colab.kernel.invokeFunction('convertToInteractive',\n",
              "                                                    [key], {});\n",
              "        if (!dataTable) return;\n",
              "\n",
              "        const docLinkHtml = 'Like what you see? Visit the ' +\n",
              "          '<a target=\"_blank\" href=https://colab.research.google.com/notebooks/data_table.ipynb>data table notebook</a>'\n",
              "          + ' to learn more about interactive tables.';\n",
              "        element.innerHTML = '';\n",
              "        dataTable['output_type'] = 'display_data';\n",
              "        await google.colab.output.renderOutput(dataTable, element);\n",
              "        const docLink = document.createElement('div');\n",
              "        docLink.innerHTML = docLinkHtml;\n",
              "        element.appendChild(docLink);\n",
              "      }\n",
              "    </script>\n",
              "  </div>\n",
              "\n",
              "\n",
              "<div id=\"df-241fb81e-b675-45c1-85dc-be56873f4a0a\">\n",
              "  <button class=\"colab-df-quickchart\" onclick=\"quickchart('df-241fb81e-b675-45c1-85dc-be56873f4a0a')\"\n",
              "            title=\"Suggest charts.\"\n",
              "            style=\"display:none;\">\n",
              "\n",
              "<svg xmlns=\"http://www.w3.org/2000/svg\" height=\"24px\"viewBox=\"0 0 24 24\"\n",
              "     width=\"24px\">\n",
              "    <g>\n",
              "        <path d=\"M19 3H5c-1.1 0-2 .9-2 2v14c0 1.1.9 2 2 2h14c1.1 0 2-.9 2-2V5c0-1.1-.9-2-2-2zM9 17H7v-7h2v7zm4 0h-2V7h2v10zm4 0h-2v-4h2v4z\"/>\n",
              "    </g>\n",
              "</svg>\n",
              "  </button>\n",
              "\n",
              "<style>\n",
              "  .colab-df-quickchart {\n",
              "      --bg-color: #E8F0FE;\n",
              "      --fill-color: #1967D2;\n",
              "      --hover-bg-color: #E2EBFA;\n",
              "      --hover-fill-color: #174EA6;\n",
              "      --disabled-fill-color: #AAA;\n",
              "      --disabled-bg-color: #DDD;\n",
              "  }\n",
              "\n",
              "  [theme=dark] .colab-df-quickchart {\n",
              "      --bg-color: #3B4455;\n",
              "      --fill-color: #D2E3FC;\n",
              "      --hover-bg-color: #434B5C;\n",
              "      --hover-fill-color: #FFFFFF;\n",
              "      --disabled-bg-color: #3B4455;\n",
              "      --disabled-fill-color: #666;\n",
              "  }\n",
              "\n",
              "  .colab-df-quickchart {\n",
              "    background-color: var(--bg-color);\n",
              "    border: none;\n",
              "    border-radius: 50%;\n",
              "    cursor: pointer;\n",
              "    display: none;\n",
              "    fill: var(--fill-color);\n",
              "    height: 32px;\n",
              "    padding: 0;\n",
              "    width: 32px;\n",
              "  }\n",
              "\n",
              "  .colab-df-quickchart:hover {\n",
              "    background-color: var(--hover-bg-color);\n",
              "    box-shadow: 0 1px 2px rgba(60, 64, 67, 0.3), 0 1px 3px 1px rgba(60, 64, 67, 0.15);\n",
              "    fill: var(--button-hover-fill-color);\n",
              "  }\n",
              "\n",
              "  .colab-df-quickchart-complete:disabled,\n",
              "  .colab-df-quickchart-complete:disabled:hover {\n",
              "    background-color: var(--disabled-bg-color);\n",
              "    fill: var(--disabled-fill-color);\n",
              "    box-shadow: none;\n",
              "  }\n",
              "\n",
              "  .colab-df-spinner {\n",
              "    border: 2px solid var(--fill-color);\n",
              "    border-color: transparent;\n",
              "    border-bottom-color: var(--fill-color);\n",
              "    animation:\n",
              "      spin 1s steps(1) infinite;\n",
              "  }\n",
              "\n",
              "  @keyframes spin {\n",
              "    0% {\n",
              "      border-color: transparent;\n",
              "      border-bottom-color: var(--fill-color);\n",
              "      border-left-color: var(--fill-color);\n",
              "    }\n",
              "    20% {\n",
              "      border-color: transparent;\n",
              "      border-left-color: var(--fill-color);\n",
              "      border-top-color: var(--fill-color);\n",
              "    }\n",
              "    30% {\n",
              "      border-color: transparent;\n",
              "      border-left-color: var(--fill-color);\n",
              "      border-top-color: var(--fill-color);\n",
              "      border-right-color: var(--fill-color);\n",
              "    }\n",
              "    40% {\n",
              "      border-color: transparent;\n",
              "      border-right-color: var(--fill-color);\n",
              "      border-top-color: var(--fill-color);\n",
              "    }\n",
              "    60% {\n",
              "      border-color: transparent;\n",
              "      border-right-color: var(--fill-color);\n",
              "    }\n",
              "    80% {\n",
              "      border-color: transparent;\n",
              "      border-right-color: var(--fill-color);\n",
              "      border-bottom-color: var(--fill-color);\n",
              "    }\n",
              "    90% {\n",
              "      border-color: transparent;\n",
              "      border-bottom-color: var(--fill-color);\n",
              "    }\n",
              "  }\n",
              "</style>\n",
              "\n",
              "  <script>\n",
              "    async function quickchart(key) {\n",
              "      const quickchartButtonEl =\n",
              "        document.querySelector('#' + key + ' button');\n",
              "      quickchartButtonEl.disabled = true;  // To prevent multiple clicks.\n",
              "      quickchartButtonEl.classList.add('colab-df-spinner');\n",
              "      try {\n",
              "        const charts = await google.colab.kernel.invokeFunction(\n",
              "            'suggestCharts', [key], {});\n",
              "      } catch (error) {\n",
              "        console.error('Error during call to suggestCharts:', error);\n",
              "      }\n",
              "      quickchartButtonEl.classList.remove('colab-df-spinner');\n",
              "      quickchartButtonEl.classList.add('colab-df-quickchart-complete');\n",
              "    }\n",
              "    (() => {\n",
              "      let quickchartButtonEl =\n",
              "        document.querySelector('#df-241fb81e-b675-45c1-85dc-be56873f4a0a button');\n",
              "      quickchartButtonEl.style.display =\n",
              "        google.colab.kernel.accessAllowed ? 'block' : 'none';\n",
              "    })();\n",
              "  </script>\n",
              "</div>\n",
              "    </div>\n",
              "  </div>\n"
            ]
          },
          "metadata": {},
          "execution_count": 358
        }
      ]
    },
    {
      "cell_type": "code",
      "source": [
        "dfL.isnull().sum()"
      ],
      "metadata": {
        "colab": {
          "base_uri": "https://localhost:8080/"
        },
        "id": "-KzmZZYihy1Q",
        "outputId": "fd91d8a3-b961-4cb0-8cdb-83c8da104401"
      },
      "execution_count": 359,
      "outputs": [
        {
          "output_type": "execute_result",
          "data": {
            "text/plain": [
              "folio                     0\n",
              "tag                   22735\n",
              "folio_solicitud           0\n",
              "fecha                 22735\n",
              "marca                 22735\n",
              "modelo                22735\n",
              "plazo                 22735\n",
              "precio                  309\n",
              "enganche                871\n",
              "descuento                 0\n",
              "semana                  946\n",
              "monto_financiado        497\n",
              "costo_total             787\n",
              "monto_accesorios       1854\n",
              "agente_venta          22735\n",
              "dis_venta             22735\n",
              "status                 5649\n",
              "fraude                 1701\n",
              "empresa               22735\n",
              "inversion              5379\n",
              "pagos_realizados        534\n",
              "reautorizacion          774\n",
              "fecha_ultimo_pago     22735\n",
              "fecha_pago_proximo    22735\n",
              "status_cuenta         22735\n",
              "puntos                 7044\n",
              "riesgo                   70\n",
              "score_buro                0\n",
              "razones_buro          22735\n",
              "porc_eng                959\n",
              "limite_credito        22735\n",
              "semana_actual          1029\n",
              "cp_cliente            22735\n",
              "edad_cliente            283\n",
              "cd_cliente            22735\n",
              "edo_cliente           22735\n",
              "cd_venta              22735\n",
              "edo_venta             22735\n",
              "curp                  22735\n",
              "dtype: int64"
            ]
          },
          "metadata": {},
          "execution_count": 359
        }
      ]
    },
    {
      "cell_type": "code",
      "source": [
        "dfL= df.drop(['tag', 'fecha', 'marca', 'modelo', 'plazo', 'agente_venta', 'dis_venta', 'empresa', 'fecha_ultimo_pago', 'fecha_pago_proximo', 'status_cuenta', 'razones_buro', 'limite_credito', 'cp_cliente', 'cd_cliente', 'edo_cliente', 'cd_venta', 'edo_venta', 'curp'], axis=1)\n",
        "dfL"
      ],
      "metadata": {
        "colab": {
          "base_uri": "https://localhost:8080/",
          "height": 444
        },
        "id": "5gopi_G3h1x_",
        "outputId": "76f9ee52-2b48-49c7-ed9c-5493b518a97a"
      },
      "execution_count": 360,
      "outputs": [
        {
          "output_type": "execute_result",
          "data": {
            "text/plain": [
              "       folio  folio_solicitud  precio  enganche  descuento  semana  \\\n",
              "0          3               30  1949.0     780.0        0.0      81   \n",
              "1          4               33  2999.0    1050.0        0.0     225   \n",
              "2          5               37  1959.0     490.0        0.0     170   \n",
              "3          6               38  1959.0     490.0        0.0     170   \n",
              "4          7               44  4299.0    1075.0        0.0     178   \n",
              "...      ...              ...     ...       ...        ...     ...   \n",
              "22730  22967            96502  3349.0     297.0        0.0     211   \n",
              "22731  22968            96479  4100.0    1209.0        0.0     200   \n",
              "22732  22969            96442  4849.0    1152.0        0.0     256   \n",
              "22733  22970            96536  9799.0    2799.0        0.0     386   \n",
              "22734  22971            96534  5399.0    1086.0        0.0     299   \n",
              "\n",
              "       monto_financiado  costo_total  monto_accesorios  status  fraude  \\\n",
              "0                1169.0         2106               0.0       2       0   \n",
              "1                1949.0         2925               0.0       2       0   \n",
              "2                1469.0         2210               0.0       3       0   \n",
              "3                1469.0         2210               0.0       2       0   \n",
              "4                3224.0         6942               0.0       1       0   \n",
              "...                 ...          ...               ...     ...     ...   \n",
              "22730            3052.0         5486               0.0       1       0   \n",
              "22731            2891.0         5200               0.0       1       0   \n",
              "22732            3697.0         6656               0.0       1       0   \n",
              "22733            7000.0        15054               0.0       1       0   \n",
              "22734            4313.0         7774               0.0       1       0   \n",
              "\n",
              "       inversion  pagos_realizados  reautorizacion  puntos  riesgo  \\\n",
              "0              0                 0               0       0    0.00   \n",
              "1              0                 0               0       0    0.00   \n",
              "2              0                 0               0       0    0.00   \n",
              "3              0                 0               0       0    0.00   \n",
              "4              0                 0               0       0    0.00   \n",
              "...          ...               ...             ...     ...     ...   \n",
              "22730          0                 0               0      10   27.40   \n",
              "22731          0                 0               0       9   19.00   \n",
              "22732          0                 0               0      11   26.65   \n",
              "22733          0                 0               0      14  -17.35   \n",
              "22734          1                 0               0      12   21.80   \n",
              "\n",
              "       score_buro  porc_eng  semana_actual  edad_cliente  \n",
              "0               0     40.02             26          23.0  \n",
              "1               0     35.01             13          60.0  \n",
              "2               0     25.01             74          58.0  \n",
              "3               0     25.01             13          42.0  \n",
              "4               0     25.01             74          33.0  \n",
              "...           ...       ...            ...           ...  \n",
              "22730         469      8.87              0          22.0  \n",
              "22731         502     29.49              0          27.0  \n",
              "22732         459     23.76              0          36.0  \n",
              "22733         699     28.56              0          53.0  \n",
              "22734           0     20.11              0          19.0  \n",
              "\n",
              "[22735 rows x 20 columns]"
            ],
            "text/html": [
              "\n",
              "  <div id=\"df-225b697d-551b-42f8-9170-e2aa3ea7ed0e\" class=\"colab-df-container\">\n",
              "    <div>\n",
              "<style scoped>\n",
              "    .dataframe tbody tr th:only-of-type {\n",
              "        vertical-align: middle;\n",
              "    }\n",
              "\n",
              "    .dataframe tbody tr th {\n",
              "        vertical-align: top;\n",
              "    }\n",
              "\n",
              "    .dataframe thead th {\n",
              "        text-align: right;\n",
              "    }\n",
              "</style>\n",
              "<table border=\"1\" class=\"dataframe\">\n",
              "  <thead>\n",
              "    <tr style=\"text-align: right;\">\n",
              "      <th></th>\n",
              "      <th>folio</th>\n",
              "      <th>folio_solicitud</th>\n",
              "      <th>precio</th>\n",
              "      <th>enganche</th>\n",
              "      <th>descuento</th>\n",
              "      <th>semana</th>\n",
              "      <th>monto_financiado</th>\n",
              "      <th>costo_total</th>\n",
              "      <th>monto_accesorios</th>\n",
              "      <th>status</th>\n",
              "      <th>fraude</th>\n",
              "      <th>inversion</th>\n",
              "      <th>pagos_realizados</th>\n",
              "      <th>reautorizacion</th>\n",
              "      <th>puntos</th>\n",
              "      <th>riesgo</th>\n",
              "      <th>score_buro</th>\n",
              "      <th>porc_eng</th>\n",
              "      <th>semana_actual</th>\n",
              "      <th>edad_cliente</th>\n",
              "    </tr>\n",
              "  </thead>\n",
              "  <tbody>\n",
              "    <tr>\n",
              "      <th>0</th>\n",
              "      <td>3</td>\n",
              "      <td>30</td>\n",
              "      <td>1949.0</td>\n",
              "      <td>780.0</td>\n",
              "      <td>0.0</td>\n",
              "      <td>81</td>\n",
              "      <td>1169.0</td>\n",
              "      <td>2106</td>\n",
              "      <td>0.0</td>\n",
              "      <td>2</td>\n",
              "      <td>0</td>\n",
              "      <td>0</td>\n",
              "      <td>0</td>\n",
              "      <td>0</td>\n",
              "      <td>0</td>\n",
              "      <td>0.00</td>\n",
              "      <td>0</td>\n",
              "      <td>40.02</td>\n",
              "      <td>26</td>\n",
              "      <td>23.0</td>\n",
              "    </tr>\n",
              "    <tr>\n",
              "      <th>1</th>\n",
              "      <td>4</td>\n",
              "      <td>33</td>\n",
              "      <td>2999.0</td>\n",
              "      <td>1050.0</td>\n",
              "      <td>0.0</td>\n",
              "      <td>225</td>\n",
              "      <td>1949.0</td>\n",
              "      <td>2925</td>\n",
              "      <td>0.0</td>\n",
              "      <td>2</td>\n",
              "      <td>0</td>\n",
              "      <td>0</td>\n",
              "      <td>0</td>\n",
              "      <td>0</td>\n",
              "      <td>0</td>\n",
              "      <td>0.00</td>\n",
              "      <td>0</td>\n",
              "      <td>35.01</td>\n",
              "      <td>13</td>\n",
              "      <td>60.0</td>\n",
              "    </tr>\n",
              "    <tr>\n",
              "      <th>2</th>\n",
              "      <td>5</td>\n",
              "      <td>37</td>\n",
              "      <td>1959.0</td>\n",
              "      <td>490.0</td>\n",
              "      <td>0.0</td>\n",
              "      <td>170</td>\n",
              "      <td>1469.0</td>\n",
              "      <td>2210</td>\n",
              "      <td>0.0</td>\n",
              "      <td>3</td>\n",
              "      <td>0</td>\n",
              "      <td>0</td>\n",
              "      <td>0</td>\n",
              "      <td>0</td>\n",
              "      <td>0</td>\n",
              "      <td>0.00</td>\n",
              "      <td>0</td>\n",
              "      <td>25.01</td>\n",
              "      <td>74</td>\n",
              "      <td>58.0</td>\n",
              "    </tr>\n",
              "    <tr>\n",
              "      <th>3</th>\n",
              "      <td>6</td>\n",
              "      <td>38</td>\n",
              "      <td>1959.0</td>\n",
              "      <td>490.0</td>\n",
              "      <td>0.0</td>\n",
              "      <td>170</td>\n",
              "      <td>1469.0</td>\n",
              "      <td>2210</td>\n",
              "      <td>0.0</td>\n",
              "      <td>2</td>\n",
              "      <td>0</td>\n",
              "      <td>0</td>\n",
              "      <td>0</td>\n",
              "      <td>0</td>\n",
              "      <td>0</td>\n",
              "      <td>0.00</td>\n",
              "      <td>0</td>\n",
              "      <td>25.01</td>\n",
              "      <td>13</td>\n",
              "      <td>42.0</td>\n",
              "    </tr>\n",
              "    <tr>\n",
              "      <th>4</th>\n",
              "      <td>7</td>\n",
              "      <td>44</td>\n",
              "      <td>4299.0</td>\n",
              "      <td>1075.0</td>\n",
              "      <td>0.0</td>\n",
              "      <td>178</td>\n",
              "      <td>3224.0</td>\n",
              "      <td>6942</td>\n",
              "      <td>0.0</td>\n",
              "      <td>1</td>\n",
              "      <td>0</td>\n",
              "      <td>0</td>\n",
              "      <td>0</td>\n",
              "      <td>0</td>\n",
              "      <td>0</td>\n",
              "      <td>0.00</td>\n",
              "      <td>0</td>\n",
              "      <td>25.01</td>\n",
              "      <td>74</td>\n",
              "      <td>33.0</td>\n",
              "    </tr>\n",
              "    <tr>\n",
              "      <th>...</th>\n",
              "      <td>...</td>\n",
              "      <td>...</td>\n",
              "      <td>...</td>\n",
              "      <td>...</td>\n",
              "      <td>...</td>\n",
              "      <td>...</td>\n",
              "      <td>...</td>\n",
              "      <td>...</td>\n",
              "      <td>...</td>\n",
              "      <td>...</td>\n",
              "      <td>...</td>\n",
              "      <td>...</td>\n",
              "      <td>...</td>\n",
              "      <td>...</td>\n",
              "      <td>...</td>\n",
              "      <td>...</td>\n",
              "      <td>...</td>\n",
              "      <td>...</td>\n",
              "      <td>...</td>\n",
              "      <td>...</td>\n",
              "    </tr>\n",
              "    <tr>\n",
              "      <th>22730</th>\n",
              "      <td>22967</td>\n",
              "      <td>96502</td>\n",
              "      <td>3349.0</td>\n",
              "      <td>297.0</td>\n",
              "      <td>0.0</td>\n",
              "      <td>211</td>\n",
              "      <td>3052.0</td>\n",
              "      <td>5486</td>\n",
              "      <td>0.0</td>\n",
              "      <td>1</td>\n",
              "      <td>0</td>\n",
              "      <td>0</td>\n",
              "      <td>0</td>\n",
              "      <td>0</td>\n",
              "      <td>10</td>\n",
              "      <td>27.40</td>\n",
              "      <td>469</td>\n",
              "      <td>8.87</td>\n",
              "      <td>0</td>\n",
              "      <td>22.0</td>\n",
              "    </tr>\n",
              "    <tr>\n",
              "      <th>22731</th>\n",
              "      <td>22968</td>\n",
              "      <td>96479</td>\n",
              "      <td>4100.0</td>\n",
              "      <td>1209.0</td>\n",
              "      <td>0.0</td>\n",
              "      <td>200</td>\n",
              "      <td>2891.0</td>\n",
              "      <td>5200</td>\n",
              "      <td>0.0</td>\n",
              "      <td>1</td>\n",
              "      <td>0</td>\n",
              "      <td>0</td>\n",
              "      <td>0</td>\n",
              "      <td>0</td>\n",
              "      <td>9</td>\n",
              "      <td>19.00</td>\n",
              "      <td>502</td>\n",
              "      <td>29.49</td>\n",
              "      <td>0</td>\n",
              "      <td>27.0</td>\n",
              "    </tr>\n",
              "    <tr>\n",
              "      <th>22732</th>\n",
              "      <td>22969</td>\n",
              "      <td>96442</td>\n",
              "      <td>4849.0</td>\n",
              "      <td>1152.0</td>\n",
              "      <td>0.0</td>\n",
              "      <td>256</td>\n",
              "      <td>3697.0</td>\n",
              "      <td>6656</td>\n",
              "      <td>0.0</td>\n",
              "      <td>1</td>\n",
              "      <td>0</td>\n",
              "      <td>0</td>\n",
              "      <td>0</td>\n",
              "      <td>0</td>\n",
              "      <td>11</td>\n",
              "      <td>26.65</td>\n",
              "      <td>459</td>\n",
              "      <td>23.76</td>\n",
              "      <td>0</td>\n",
              "      <td>36.0</td>\n",
              "    </tr>\n",
              "    <tr>\n",
              "      <th>22733</th>\n",
              "      <td>22970</td>\n",
              "      <td>96536</td>\n",
              "      <td>9799.0</td>\n",
              "      <td>2799.0</td>\n",
              "      <td>0.0</td>\n",
              "      <td>386</td>\n",
              "      <td>7000.0</td>\n",
              "      <td>15054</td>\n",
              "      <td>0.0</td>\n",
              "      <td>1</td>\n",
              "      <td>0</td>\n",
              "      <td>0</td>\n",
              "      <td>0</td>\n",
              "      <td>0</td>\n",
              "      <td>14</td>\n",
              "      <td>-17.35</td>\n",
              "      <td>699</td>\n",
              "      <td>28.56</td>\n",
              "      <td>0</td>\n",
              "      <td>53.0</td>\n",
              "    </tr>\n",
              "    <tr>\n",
              "      <th>22734</th>\n",
              "      <td>22971</td>\n",
              "      <td>96534</td>\n",
              "      <td>5399.0</td>\n",
              "      <td>1086.0</td>\n",
              "      <td>0.0</td>\n",
              "      <td>299</td>\n",
              "      <td>4313.0</td>\n",
              "      <td>7774</td>\n",
              "      <td>0.0</td>\n",
              "      <td>1</td>\n",
              "      <td>0</td>\n",
              "      <td>1</td>\n",
              "      <td>0</td>\n",
              "      <td>0</td>\n",
              "      <td>12</td>\n",
              "      <td>21.80</td>\n",
              "      <td>0</td>\n",
              "      <td>20.11</td>\n",
              "      <td>0</td>\n",
              "      <td>19.0</td>\n",
              "    </tr>\n",
              "  </tbody>\n",
              "</table>\n",
              "<p>22735 rows × 20 columns</p>\n",
              "</div>\n",
              "    <div class=\"colab-df-buttons\">\n",
              "\n",
              "  <div class=\"colab-df-container\">\n",
              "    <button class=\"colab-df-convert\" onclick=\"convertToInteractive('df-225b697d-551b-42f8-9170-e2aa3ea7ed0e')\"\n",
              "            title=\"Convert this dataframe to an interactive table.\"\n",
              "            style=\"display:none;\">\n",
              "\n",
              "  <svg xmlns=\"http://www.w3.org/2000/svg\" height=\"24px\" viewBox=\"0 -960 960 960\">\n",
              "    <path d=\"M120-120v-720h720v720H120Zm60-500h600v-160H180v160Zm220 220h160v-160H400v160Zm0 220h160v-160H400v160ZM180-400h160v-160H180v160Zm440 0h160v-160H620v160ZM180-180h160v-160H180v160Zm440 0h160v-160H620v160Z\"/>\n",
              "  </svg>\n",
              "    </button>\n",
              "\n",
              "  <style>\n",
              "    .colab-df-container {\n",
              "      display:flex;\n",
              "      gap: 12px;\n",
              "    }\n",
              "\n",
              "    .colab-df-convert {\n",
              "      background-color: #E8F0FE;\n",
              "      border: none;\n",
              "      border-radius: 50%;\n",
              "      cursor: pointer;\n",
              "      display: none;\n",
              "      fill: #1967D2;\n",
              "      height: 32px;\n",
              "      padding: 0 0 0 0;\n",
              "      width: 32px;\n",
              "    }\n",
              "\n",
              "    .colab-df-convert:hover {\n",
              "      background-color: #E2EBFA;\n",
              "      box-shadow: 0px 1px 2px rgba(60, 64, 67, 0.3), 0px 1px 3px 1px rgba(60, 64, 67, 0.15);\n",
              "      fill: #174EA6;\n",
              "    }\n",
              "\n",
              "    .colab-df-buttons div {\n",
              "      margin-bottom: 4px;\n",
              "    }\n",
              "\n",
              "    [theme=dark] .colab-df-convert {\n",
              "      background-color: #3B4455;\n",
              "      fill: #D2E3FC;\n",
              "    }\n",
              "\n",
              "    [theme=dark] .colab-df-convert:hover {\n",
              "      background-color: #434B5C;\n",
              "      box-shadow: 0px 1px 3px 1px rgba(0, 0, 0, 0.15);\n",
              "      filter: drop-shadow(0px 1px 2px rgba(0, 0, 0, 0.3));\n",
              "      fill: #FFFFFF;\n",
              "    }\n",
              "  </style>\n",
              "\n",
              "    <script>\n",
              "      const buttonEl =\n",
              "        document.querySelector('#df-225b697d-551b-42f8-9170-e2aa3ea7ed0e button.colab-df-convert');\n",
              "      buttonEl.style.display =\n",
              "        google.colab.kernel.accessAllowed ? 'block' : 'none';\n",
              "\n",
              "      async function convertToInteractive(key) {\n",
              "        const element = document.querySelector('#df-225b697d-551b-42f8-9170-e2aa3ea7ed0e');\n",
              "        const dataTable =\n",
              "          await google.colab.kernel.invokeFunction('convertToInteractive',\n",
              "                                                    [key], {});\n",
              "        if (!dataTable) return;\n",
              "\n",
              "        const docLinkHtml = 'Like what you see? Visit the ' +\n",
              "          '<a target=\"_blank\" href=https://colab.research.google.com/notebooks/data_table.ipynb>data table notebook</a>'\n",
              "          + ' to learn more about interactive tables.';\n",
              "        element.innerHTML = '';\n",
              "        dataTable['output_type'] = 'display_data';\n",
              "        await google.colab.output.renderOutput(dataTable, element);\n",
              "        const docLink = document.createElement('div');\n",
              "        docLink.innerHTML = docLinkHtml;\n",
              "        element.appendChild(docLink);\n",
              "      }\n",
              "    </script>\n",
              "  </div>\n",
              "\n",
              "\n",
              "<div id=\"df-dd7bbd0c-28e3-4431-a842-e2371ca6b9e1\">\n",
              "  <button class=\"colab-df-quickchart\" onclick=\"quickchart('df-dd7bbd0c-28e3-4431-a842-e2371ca6b9e1')\"\n",
              "            title=\"Suggest charts.\"\n",
              "            style=\"display:none;\">\n",
              "\n",
              "<svg xmlns=\"http://www.w3.org/2000/svg\" height=\"24px\"viewBox=\"0 0 24 24\"\n",
              "     width=\"24px\">\n",
              "    <g>\n",
              "        <path d=\"M19 3H5c-1.1 0-2 .9-2 2v14c0 1.1.9 2 2 2h14c1.1 0 2-.9 2-2V5c0-1.1-.9-2-2-2zM9 17H7v-7h2v7zm4 0h-2V7h2v10zm4 0h-2v-4h2v4z\"/>\n",
              "    </g>\n",
              "</svg>\n",
              "  </button>\n",
              "\n",
              "<style>\n",
              "  .colab-df-quickchart {\n",
              "      --bg-color: #E8F0FE;\n",
              "      --fill-color: #1967D2;\n",
              "      --hover-bg-color: #E2EBFA;\n",
              "      --hover-fill-color: #174EA6;\n",
              "      --disabled-fill-color: #AAA;\n",
              "      --disabled-bg-color: #DDD;\n",
              "  }\n",
              "\n",
              "  [theme=dark] .colab-df-quickchart {\n",
              "      --bg-color: #3B4455;\n",
              "      --fill-color: #D2E3FC;\n",
              "      --hover-bg-color: #434B5C;\n",
              "      --hover-fill-color: #FFFFFF;\n",
              "      --disabled-bg-color: #3B4455;\n",
              "      --disabled-fill-color: #666;\n",
              "  }\n",
              "\n",
              "  .colab-df-quickchart {\n",
              "    background-color: var(--bg-color);\n",
              "    border: none;\n",
              "    border-radius: 50%;\n",
              "    cursor: pointer;\n",
              "    display: none;\n",
              "    fill: var(--fill-color);\n",
              "    height: 32px;\n",
              "    padding: 0;\n",
              "    width: 32px;\n",
              "  }\n",
              "\n",
              "  .colab-df-quickchart:hover {\n",
              "    background-color: var(--hover-bg-color);\n",
              "    box-shadow: 0 1px 2px rgba(60, 64, 67, 0.3), 0 1px 3px 1px rgba(60, 64, 67, 0.15);\n",
              "    fill: var(--button-hover-fill-color);\n",
              "  }\n",
              "\n",
              "  .colab-df-quickchart-complete:disabled,\n",
              "  .colab-df-quickchart-complete:disabled:hover {\n",
              "    background-color: var(--disabled-bg-color);\n",
              "    fill: var(--disabled-fill-color);\n",
              "    box-shadow: none;\n",
              "  }\n",
              "\n",
              "  .colab-df-spinner {\n",
              "    border: 2px solid var(--fill-color);\n",
              "    border-color: transparent;\n",
              "    border-bottom-color: var(--fill-color);\n",
              "    animation:\n",
              "      spin 1s steps(1) infinite;\n",
              "  }\n",
              "\n",
              "  @keyframes spin {\n",
              "    0% {\n",
              "      border-color: transparent;\n",
              "      border-bottom-color: var(--fill-color);\n",
              "      border-left-color: var(--fill-color);\n",
              "    }\n",
              "    20% {\n",
              "      border-color: transparent;\n",
              "      border-left-color: var(--fill-color);\n",
              "      border-top-color: var(--fill-color);\n",
              "    }\n",
              "    30% {\n",
              "      border-color: transparent;\n",
              "      border-left-color: var(--fill-color);\n",
              "      border-top-color: var(--fill-color);\n",
              "      border-right-color: var(--fill-color);\n",
              "    }\n",
              "    40% {\n",
              "      border-color: transparent;\n",
              "      border-right-color: var(--fill-color);\n",
              "      border-top-color: var(--fill-color);\n",
              "    }\n",
              "    60% {\n",
              "      border-color: transparent;\n",
              "      border-right-color: var(--fill-color);\n",
              "    }\n",
              "    80% {\n",
              "      border-color: transparent;\n",
              "      border-right-color: var(--fill-color);\n",
              "      border-bottom-color: var(--fill-color);\n",
              "    }\n",
              "    90% {\n",
              "      border-color: transparent;\n",
              "      border-bottom-color: var(--fill-color);\n",
              "    }\n",
              "  }\n",
              "</style>\n",
              "\n",
              "  <script>\n",
              "    async function quickchart(key) {\n",
              "      const quickchartButtonEl =\n",
              "        document.querySelector('#' + key + ' button');\n",
              "      quickchartButtonEl.disabled = true;  // To prevent multiple clicks.\n",
              "      quickchartButtonEl.classList.add('colab-df-spinner');\n",
              "      try {\n",
              "        const charts = await google.colab.kernel.invokeFunction(\n",
              "            'suggestCharts', [key], {});\n",
              "      } catch (error) {\n",
              "        console.error('Error during call to suggestCharts:', error);\n",
              "      }\n",
              "      quickchartButtonEl.classList.remove('colab-df-spinner');\n",
              "      quickchartButtonEl.classList.add('colab-df-quickchart-complete');\n",
              "    }\n",
              "    (() => {\n",
              "      let quickchartButtonEl =\n",
              "        document.querySelector('#df-dd7bbd0c-28e3-4431-a842-e2371ca6b9e1 button');\n",
              "      quickchartButtonEl.style.display =\n",
              "        google.colab.kernel.accessAllowed ? 'block' : 'none';\n",
              "    })();\n",
              "  </script>\n",
              "</div>\n",
              "    </div>\n",
              "  </div>\n"
            ]
          },
          "metadata": {},
          "execution_count": 360
        }
      ]
    },
    {
      "cell_type": "code",
      "source": [
        "dfL = dfL.fillna(df.mean())\n",
        "dfL"
      ],
      "metadata": {
        "colab": {
          "base_uri": "https://localhost:8080/",
          "height": 478
        },
        "id": "9IHPaFazh4E3",
        "outputId": "451fb7f2-e0ce-422b-8f66-700813f60ccf"
      },
      "execution_count": 361,
      "outputs": [
        {
          "output_type": "stream",
          "name": "stderr",
          "text": [
            "<ipython-input-361-1d5d672020da>:1: FutureWarning: The default value of numeric_only in DataFrame.mean is deprecated. In a future version, it will default to False. In addition, specifying 'numeric_only=None' is deprecated. Select only valid columns or specify the value of numeric_only to silence this warning.\n",
            "  dfL = dfL.fillna(df.mean())\n"
          ]
        },
        {
          "output_type": "execute_result",
          "data": {
            "text/plain": [
              "       folio  folio_solicitud  precio  enganche  descuento  semana  \\\n",
              "0          3               30  1949.0     780.0        0.0      81   \n",
              "1          4               33  2999.0    1050.0        0.0     225   \n",
              "2          5               37  1959.0     490.0        0.0     170   \n",
              "3          6               38  1959.0     490.0        0.0     170   \n",
              "4          7               44  4299.0    1075.0        0.0     178   \n",
              "...      ...              ...     ...       ...        ...     ...   \n",
              "22730  22967            96502  3349.0     297.0        0.0     211   \n",
              "22731  22968            96479  4100.0    1209.0        0.0     200   \n",
              "22732  22969            96442  4849.0    1152.0        0.0     256   \n",
              "22733  22970            96536  9799.0    2799.0        0.0     386   \n",
              "22734  22971            96534  5399.0    1086.0        0.0     299   \n",
              "\n",
              "       monto_financiado  costo_total  monto_accesorios  status  fraude  \\\n",
              "0                1169.0         2106               0.0       2       0   \n",
              "1                1949.0         2925               0.0       2       0   \n",
              "2                1469.0         2210               0.0       3       0   \n",
              "3                1469.0         2210               0.0       2       0   \n",
              "4                3224.0         6942               0.0       1       0   \n",
              "...                 ...          ...               ...     ...     ...   \n",
              "22730            3052.0         5486               0.0       1       0   \n",
              "22731            2891.0         5200               0.0       1       0   \n",
              "22732            3697.0         6656               0.0       1       0   \n",
              "22733            7000.0        15054               0.0       1       0   \n",
              "22734            4313.0         7774               0.0       1       0   \n",
              "\n",
              "       inversion  pagos_realizados  reautorizacion  puntos  riesgo  \\\n",
              "0              0                 0               0       0    0.00   \n",
              "1              0                 0               0       0    0.00   \n",
              "2              0                 0               0       0    0.00   \n",
              "3              0                 0               0       0    0.00   \n",
              "4              0                 0               0       0    0.00   \n",
              "...          ...               ...             ...     ...     ...   \n",
              "22730          0                 0               0      10   27.40   \n",
              "22731          0                 0               0       9   19.00   \n",
              "22732          0                 0               0      11   26.65   \n",
              "22733          0                 0               0      14  -17.35   \n",
              "22734          1                 0               0      12   21.80   \n",
              "\n",
              "       score_buro  porc_eng  semana_actual  edad_cliente  \n",
              "0               0     40.02             26          23.0  \n",
              "1               0     35.01             13          60.0  \n",
              "2               0     25.01             74          58.0  \n",
              "3               0     25.01             13          42.0  \n",
              "4               0     25.01             74          33.0  \n",
              "...           ...       ...            ...           ...  \n",
              "22730         469      8.87              0          22.0  \n",
              "22731         502     29.49              0          27.0  \n",
              "22732         459     23.76              0          36.0  \n",
              "22733         699     28.56              0          53.0  \n",
              "22734           0     20.11              0          19.0  \n",
              "\n",
              "[22735 rows x 20 columns]"
            ],
            "text/html": [
              "\n",
              "  <div id=\"df-67abda02-4001-44c7-af3a-968daf0acfa7\" class=\"colab-df-container\">\n",
              "    <div>\n",
              "<style scoped>\n",
              "    .dataframe tbody tr th:only-of-type {\n",
              "        vertical-align: middle;\n",
              "    }\n",
              "\n",
              "    .dataframe tbody tr th {\n",
              "        vertical-align: top;\n",
              "    }\n",
              "\n",
              "    .dataframe thead th {\n",
              "        text-align: right;\n",
              "    }\n",
              "</style>\n",
              "<table border=\"1\" class=\"dataframe\">\n",
              "  <thead>\n",
              "    <tr style=\"text-align: right;\">\n",
              "      <th></th>\n",
              "      <th>folio</th>\n",
              "      <th>folio_solicitud</th>\n",
              "      <th>precio</th>\n",
              "      <th>enganche</th>\n",
              "      <th>descuento</th>\n",
              "      <th>semana</th>\n",
              "      <th>monto_financiado</th>\n",
              "      <th>costo_total</th>\n",
              "      <th>monto_accesorios</th>\n",
              "      <th>status</th>\n",
              "      <th>fraude</th>\n",
              "      <th>inversion</th>\n",
              "      <th>pagos_realizados</th>\n",
              "      <th>reautorizacion</th>\n",
              "      <th>puntos</th>\n",
              "      <th>riesgo</th>\n",
              "      <th>score_buro</th>\n",
              "      <th>porc_eng</th>\n",
              "      <th>semana_actual</th>\n",
              "      <th>edad_cliente</th>\n",
              "    </tr>\n",
              "  </thead>\n",
              "  <tbody>\n",
              "    <tr>\n",
              "      <th>0</th>\n",
              "      <td>3</td>\n",
              "      <td>30</td>\n",
              "      <td>1949.0</td>\n",
              "      <td>780.0</td>\n",
              "      <td>0.0</td>\n",
              "      <td>81</td>\n",
              "      <td>1169.0</td>\n",
              "      <td>2106</td>\n",
              "      <td>0.0</td>\n",
              "      <td>2</td>\n",
              "      <td>0</td>\n",
              "      <td>0</td>\n",
              "      <td>0</td>\n",
              "      <td>0</td>\n",
              "      <td>0</td>\n",
              "      <td>0.00</td>\n",
              "      <td>0</td>\n",
              "      <td>40.02</td>\n",
              "      <td>26</td>\n",
              "      <td>23.0</td>\n",
              "    </tr>\n",
              "    <tr>\n",
              "      <th>1</th>\n",
              "      <td>4</td>\n",
              "      <td>33</td>\n",
              "      <td>2999.0</td>\n",
              "      <td>1050.0</td>\n",
              "      <td>0.0</td>\n",
              "      <td>225</td>\n",
              "      <td>1949.0</td>\n",
              "      <td>2925</td>\n",
              "      <td>0.0</td>\n",
              "      <td>2</td>\n",
              "      <td>0</td>\n",
              "      <td>0</td>\n",
              "      <td>0</td>\n",
              "      <td>0</td>\n",
              "      <td>0</td>\n",
              "      <td>0.00</td>\n",
              "      <td>0</td>\n",
              "      <td>35.01</td>\n",
              "      <td>13</td>\n",
              "      <td>60.0</td>\n",
              "    </tr>\n",
              "    <tr>\n",
              "      <th>2</th>\n",
              "      <td>5</td>\n",
              "      <td>37</td>\n",
              "      <td>1959.0</td>\n",
              "      <td>490.0</td>\n",
              "      <td>0.0</td>\n",
              "      <td>170</td>\n",
              "      <td>1469.0</td>\n",
              "      <td>2210</td>\n",
              "      <td>0.0</td>\n",
              "      <td>3</td>\n",
              "      <td>0</td>\n",
              "      <td>0</td>\n",
              "      <td>0</td>\n",
              "      <td>0</td>\n",
              "      <td>0</td>\n",
              "      <td>0.00</td>\n",
              "      <td>0</td>\n",
              "      <td>25.01</td>\n",
              "      <td>74</td>\n",
              "      <td>58.0</td>\n",
              "    </tr>\n",
              "    <tr>\n",
              "      <th>3</th>\n",
              "      <td>6</td>\n",
              "      <td>38</td>\n",
              "      <td>1959.0</td>\n",
              "      <td>490.0</td>\n",
              "      <td>0.0</td>\n",
              "      <td>170</td>\n",
              "      <td>1469.0</td>\n",
              "      <td>2210</td>\n",
              "      <td>0.0</td>\n",
              "      <td>2</td>\n",
              "      <td>0</td>\n",
              "      <td>0</td>\n",
              "      <td>0</td>\n",
              "      <td>0</td>\n",
              "      <td>0</td>\n",
              "      <td>0.00</td>\n",
              "      <td>0</td>\n",
              "      <td>25.01</td>\n",
              "      <td>13</td>\n",
              "      <td>42.0</td>\n",
              "    </tr>\n",
              "    <tr>\n",
              "      <th>4</th>\n",
              "      <td>7</td>\n",
              "      <td>44</td>\n",
              "      <td>4299.0</td>\n",
              "      <td>1075.0</td>\n",
              "      <td>0.0</td>\n",
              "      <td>178</td>\n",
              "      <td>3224.0</td>\n",
              "      <td>6942</td>\n",
              "      <td>0.0</td>\n",
              "      <td>1</td>\n",
              "      <td>0</td>\n",
              "      <td>0</td>\n",
              "      <td>0</td>\n",
              "      <td>0</td>\n",
              "      <td>0</td>\n",
              "      <td>0.00</td>\n",
              "      <td>0</td>\n",
              "      <td>25.01</td>\n",
              "      <td>74</td>\n",
              "      <td>33.0</td>\n",
              "    </tr>\n",
              "    <tr>\n",
              "      <th>...</th>\n",
              "      <td>...</td>\n",
              "      <td>...</td>\n",
              "      <td>...</td>\n",
              "      <td>...</td>\n",
              "      <td>...</td>\n",
              "      <td>...</td>\n",
              "      <td>...</td>\n",
              "      <td>...</td>\n",
              "      <td>...</td>\n",
              "      <td>...</td>\n",
              "      <td>...</td>\n",
              "      <td>...</td>\n",
              "      <td>...</td>\n",
              "      <td>...</td>\n",
              "      <td>...</td>\n",
              "      <td>...</td>\n",
              "      <td>...</td>\n",
              "      <td>...</td>\n",
              "      <td>...</td>\n",
              "      <td>...</td>\n",
              "    </tr>\n",
              "    <tr>\n",
              "      <th>22730</th>\n",
              "      <td>22967</td>\n",
              "      <td>96502</td>\n",
              "      <td>3349.0</td>\n",
              "      <td>297.0</td>\n",
              "      <td>0.0</td>\n",
              "      <td>211</td>\n",
              "      <td>3052.0</td>\n",
              "      <td>5486</td>\n",
              "      <td>0.0</td>\n",
              "      <td>1</td>\n",
              "      <td>0</td>\n",
              "      <td>0</td>\n",
              "      <td>0</td>\n",
              "      <td>0</td>\n",
              "      <td>10</td>\n",
              "      <td>27.40</td>\n",
              "      <td>469</td>\n",
              "      <td>8.87</td>\n",
              "      <td>0</td>\n",
              "      <td>22.0</td>\n",
              "    </tr>\n",
              "    <tr>\n",
              "      <th>22731</th>\n",
              "      <td>22968</td>\n",
              "      <td>96479</td>\n",
              "      <td>4100.0</td>\n",
              "      <td>1209.0</td>\n",
              "      <td>0.0</td>\n",
              "      <td>200</td>\n",
              "      <td>2891.0</td>\n",
              "      <td>5200</td>\n",
              "      <td>0.0</td>\n",
              "      <td>1</td>\n",
              "      <td>0</td>\n",
              "      <td>0</td>\n",
              "      <td>0</td>\n",
              "      <td>0</td>\n",
              "      <td>9</td>\n",
              "      <td>19.00</td>\n",
              "      <td>502</td>\n",
              "      <td>29.49</td>\n",
              "      <td>0</td>\n",
              "      <td>27.0</td>\n",
              "    </tr>\n",
              "    <tr>\n",
              "      <th>22732</th>\n",
              "      <td>22969</td>\n",
              "      <td>96442</td>\n",
              "      <td>4849.0</td>\n",
              "      <td>1152.0</td>\n",
              "      <td>0.0</td>\n",
              "      <td>256</td>\n",
              "      <td>3697.0</td>\n",
              "      <td>6656</td>\n",
              "      <td>0.0</td>\n",
              "      <td>1</td>\n",
              "      <td>0</td>\n",
              "      <td>0</td>\n",
              "      <td>0</td>\n",
              "      <td>0</td>\n",
              "      <td>11</td>\n",
              "      <td>26.65</td>\n",
              "      <td>459</td>\n",
              "      <td>23.76</td>\n",
              "      <td>0</td>\n",
              "      <td>36.0</td>\n",
              "    </tr>\n",
              "    <tr>\n",
              "      <th>22733</th>\n",
              "      <td>22970</td>\n",
              "      <td>96536</td>\n",
              "      <td>9799.0</td>\n",
              "      <td>2799.0</td>\n",
              "      <td>0.0</td>\n",
              "      <td>386</td>\n",
              "      <td>7000.0</td>\n",
              "      <td>15054</td>\n",
              "      <td>0.0</td>\n",
              "      <td>1</td>\n",
              "      <td>0</td>\n",
              "      <td>0</td>\n",
              "      <td>0</td>\n",
              "      <td>0</td>\n",
              "      <td>14</td>\n",
              "      <td>-17.35</td>\n",
              "      <td>699</td>\n",
              "      <td>28.56</td>\n",
              "      <td>0</td>\n",
              "      <td>53.0</td>\n",
              "    </tr>\n",
              "    <tr>\n",
              "      <th>22734</th>\n",
              "      <td>22971</td>\n",
              "      <td>96534</td>\n",
              "      <td>5399.0</td>\n",
              "      <td>1086.0</td>\n",
              "      <td>0.0</td>\n",
              "      <td>299</td>\n",
              "      <td>4313.0</td>\n",
              "      <td>7774</td>\n",
              "      <td>0.0</td>\n",
              "      <td>1</td>\n",
              "      <td>0</td>\n",
              "      <td>1</td>\n",
              "      <td>0</td>\n",
              "      <td>0</td>\n",
              "      <td>12</td>\n",
              "      <td>21.80</td>\n",
              "      <td>0</td>\n",
              "      <td>20.11</td>\n",
              "      <td>0</td>\n",
              "      <td>19.0</td>\n",
              "    </tr>\n",
              "  </tbody>\n",
              "</table>\n",
              "<p>22735 rows × 20 columns</p>\n",
              "</div>\n",
              "    <div class=\"colab-df-buttons\">\n",
              "\n",
              "  <div class=\"colab-df-container\">\n",
              "    <button class=\"colab-df-convert\" onclick=\"convertToInteractive('df-67abda02-4001-44c7-af3a-968daf0acfa7')\"\n",
              "            title=\"Convert this dataframe to an interactive table.\"\n",
              "            style=\"display:none;\">\n",
              "\n",
              "  <svg xmlns=\"http://www.w3.org/2000/svg\" height=\"24px\" viewBox=\"0 -960 960 960\">\n",
              "    <path d=\"M120-120v-720h720v720H120Zm60-500h600v-160H180v160Zm220 220h160v-160H400v160Zm0 220h160v-160H400v160ZM180-400h160v-160H180v160Zm440 0h160v-160H620v160ZM180-180h160v-160H180v160Zm440 0h160v-160H620v160Z\"/>\n",
              "  </svg>\n",
              "    </button>\n",
              "\n",
              "  <style>\n",
              "    .colab-df-container {\n",
              "      display:flex;\n",
              "      gap: 12px;\n",
              "    }\n",
              "\n",
              "    .colab-df-convert {\n",
              "      background-color: #E8F0FE;\n",
              "      border: none;\n",
              "      border-radius: 50%;\n",
              "      cursor: pointer;\n",
              "      display: none;\n",
              "      fill: #1967D2;\n",
              "      height: 32px;\n",
              "      padding: 0 0 0 0;\n",
              "      width: 32px;\n",
              "    }\n",
              "\n",
              "    .colab-df-convert:hover {\n",
              "      background-color: #E2EBFA;\n",
              "      box-shadow: 0px 1px 2px rgba(60, 64, 67, 0.3), 0px 1px 3px 1px rgba(60, 64, 67, 0.15);\n",
              "      fill: #174EA6;\n",
              "    }\n",
              "\n",
              "    .colab-df-buttons div {\n",
              "      margin-bottom: 4px;\n",
              "    }\n",
              "\n",
              "    [theme=dark] .colab-df-convert {\n",
              "      background-color: #3B4455;\n",
              "      fill: #D2E3FC;\n",
              "    }\n",
              "\n",
              "    [theme=dark] .colab-df-convert:hover {\n",
              "      background-color: #434B5C;\n",
              "      box-shadow: 0px 1px 3px 1px rgba(0, 0, 0, 0.15);\n",
              "      filter: drop-shadow(0px 1px 2px rgba(0, 0, 0, 0.3));\n",
              "      fill: #FFFFFF;\n",
              "    }\n",
              "  </style>\n",
              "\n",
              "    <script>\n",
              "      const buttonEl =\n",
              "        document.querySelector('#df-67abda02-4001-44c7-af3a-968daf0acfa7 button.colab-df-convert');\n",
              "      buttonEl.style.display =\n",
              "        google.colab.kernel.accessAllowed ? 'block' : 'none';\n",
              "\n",
              "      async function convertToInteractive(key) {\n",
              "        const element = document.querySelector('#df-67abda02-4001-44c7-af3a-968daf0acfa7');\n",
              "        const dataTable =\n",
              "          await google.colab.kernel.invokeFunction('convertToInteractive',\n",
              "                                                    [key], {});\n",
              "        if (!dataTable) return;\n",
              "\n",
              "        const docLinkHtml = 'Like what you see? Visit the ' +\n",
              "          '<a target=\"_blank\" href=https://colab.research.google.com/notebooks/data_table.ipynb>data table notebook</a>'\n",
              "          + ' to learn more about interactive tables.';\n",
              "        element.innerHTML = '';\n",
              "        dataTable['output_type'] = 'display_data';\n",
              "        await google.colab.output.renderOutput(dataTable, element);\n",
              "        const docLink = document.createElement('div');\n",
              "        docLink.innerHTML = docLinkHtml;\n",
              "        element.appendChild(docLink);\n",
              "      }\n",
              "    </script>\n",
              "  </div>\n",
              "\n",
              "\n",
              "<div id=\"df-110d75a1-b47b-4345-b0c6-d3eee0ff46d1\">\n",
              "  <button class=\"colab-df-quickchart\" onclick=\"quickchart('df-110d75a1-b47b-4345-b0c6-d3eee0ff46d1')\"\n",
              "            title=\"Suggest charts.\"\n",
              "            style=\"display:none;\">\n",
              "\n",
              "<svg xmlns=\"http://www.w3.org/2000/svg\" height=\"24px\"viewBox=\"0 0 24 24\"\n",
              "     width=\"24px\">\n",
              "    <g>\n",
              "        <path d=\"M19 3H5c-1.1 0-2 .9-2 2v14c0 1.1.9 2 2 2h14c1.1 0 2-.9 2-2V5c0-1.1-.9-2-2-2zM9 17H7v-7h2v7zm4 0h-2V7h2v10zm4 0h-2v-4h2v4z\"/>\n",
              "    </g>\n",
              "</svg>\n",
              "  </button>\n",
              "\n",
              "<style>\n",
              "  .colab-df-quickchart {\n",
              "      --bg-color: #E8F0FE;\n",
              "      --fill-color: #1967D2;\n",
              "      --hover-bg-color: #E2EBFA;\n",
              "      --hover-fill-color: #174EA6;\n",
              "      --disabled-fill-color: #AAA;\n",
              "      --disabled-bg-color: #DDD;\n",
              "  }\n",
              "\n",
              "  [theme=dark] .colab-df-quickchart {\n",
              "      --bg-color: #3B4455;\n",
              "      --fill-color: #D2E3FC;\n",
              "      --hover-bg-color: #434B5C;\n",
              "      --hover-fill-color: #FFFFFF;\n",
              "      --disabled-bg-color: #3B4455;\n",
              "      --disabled-fill-color: #666;\n",
              "  }\n",
              "\n",
              "  .colab-df-quickchart {\n",
              "    background-color: var(--bg-color);\n",
              "    border: none;\n",
              "    border-radius: 50%;\n",
              "    cursor: pointer;\n",
              "    display: none;\n",
              "    fill: var(--fill-color);\n",
              "    height: 32px;\n",
              "    padding: 0;\n",
              "    width: 32px;\n",
              "  }\n",
              "\n",
              "  .colab-df-quickchart:hover {\n",
              "    background-color: var(--hover-bg-color);\n",
              "    box-shadow: 0 1px 2px rgba(60, 64, 67, 0.3), 0 1px 3px 1px rgba(60, 64, 67, 0.15);\n",
              "    fill: var(--button-hover-fill-color);\n",
              "  }\n",
              "\n",
              "  .colab-df-quickchart-complete:disabled,\n",
              "  .colab-df-quickchart-complete:disabled:hover {\n",
              "    background-color: var(--disabled-bg-color);\n",
              "    fill: var(--disabled-fill-color);\n",
              "    box-shadow: none;\n",
              "  }\n",
              "\n",
              "  .colab-df-spinner {\n",
              "    border: 2px solid var(--fill-color);\n",
              "    border-color: transparent;\n",
              "    border-bottom-color: var(--fill-color);\n",
              "    animation:\n",
              "      spin 1s steps(1) infinite;\n",
              "  }\n",
              "\n",
              "  @keyframes spin {\n",
              "    0% {\n",
              "      border-color: transparent;\n",
              "      border-bottom-color: var(--fill-color);\n",
              "      border-left-color: var(--fill-color);\n",
              "    }\n",
              "    20% {\n",
              "      border-color: transparent;\n",
              "      border-left-color: var(--fill-color);\n",
              "      border-top-color: var(--fill-color);\n",
              "    }\n",
              "    30% {\n",
              "      border-color: transparent;\n",
              "      border-left-color: var(--fill-color);\n",
              "      border-top-color: var(--fill-color);\n",
              "      border-right-color: var(--fill-color);\n",
              "    }\n",
              "    40% {\n",
              "      border-color: transparent;\n",
              "      border-right-color: var(--fill-color);\n",
              "      border-top-color: var(--fill-color);\n",
              "    }\n",
              "    60% {\n",
              "      border-color: transparent;\n",
              "      border-right-color: var(--fill-color);\n",
              "    }\n",
              "    80% {\n",
              "      border-color: transparent;\n",
              "      border-right-color: var(--fill-color);\n",
              "      border-bottom-color: var(--fill-color);\n",
              "    }\n",
              "    90% {\n",
              "      border-color: transparent;\n",
              "      border-bottom-color: var(--fill-color);\n",
              "    }\n",
              "  }\n",
              "</style>\n",
              "\n",
              "  <script>\n",
              "    async function quickchart(key) {\n",
              "      const quickchartButtonEl =\n",
              "        document.querySelector('#' + key + ' button');\n",
              "      quickchartButtonEl.disabled = true;  // To prevent multiple clicks.\n",
              "      quickchartButtonEl.classList.add('colab-df-spinner');\n",
              "      try {\n",
              "        const charts = await google.colab.kernel.invokeFunction(\n",
              "            'suggestCharts', [key], {});\n",
              "      } catch (error) {\n",
              "        console.error('Error during call to suggestCharts:', error);\n",
              "      }\n",
              "      quickchartButtonEl.classList.remove('colab-df-spinner');\n",
              "      quickchartButtonEl.classList.add('colab-df-quickchart-complete');\n",
              "    }\n",
              "    (() => {\n",
              "      let quickchartButtonEl =\n",
              "        document.querySelector('#df-110d75a1-b47b-4345-b0c6-d3eee0ff46d1 button');\n",
              "      quickchartButtonEl.style.display =\n",
              "        google.colab.kernel.accessAllowed ? 'block' : 'none';\n",
              "    })();\n",
              "  </script>\n",
              "</div>\n",
              "    </div>\n",
              "  </div>\n"
            ]
          },
          "metadata": {},
          "execution_count": 361
        }
      ]
    },
    {
      "cell_type": "code",
      "source": [
        "dfL.isnull().sum()"
      ],
      "metadata": {
        "colab": {
          "base_uri": "https://localhost:8080/"
        },
        "id": "R5-Y13wrh6nX",
        "outputId": "60608201-3b99-497b-a979-f92dbae58d29"
      },
      "execution_count": 362,
      "outputs": [
        {
          "output_type": "execute_result",
          "data": {
            "text/plain": [
              "folio               0\n",
              "folio_solicitud     0\n",
              "precio              0\n",
              "enganche            0\n",
              "descuento           0\n",
              "semana              0\n",
              "monto_financiado    0\n",
              "costo_total         0\n",
              "monto_accesorios    0\n",
              "status              0\n",
              "fraude              0\n",
              "inversion           0\n",
              "pagos_realizados    0\n",
              "reautorizacion      0\n",
              "puntos              0\n",
              "riesgo              0\n",
              "score_buro          0\n",
              "porc_eng            0\n",
              "semana_actual       0\n",
              "edad_cliente        0\n",
              "dtype: int64"
            ]
          },
          "metadata": {},
          "execution_count": 362
        }
      ]
    },
    {
      "cell_type": "code",
      "source": [
        "n_col=df[['tag', 'fecha', 'marca', 'modelo', 'plazo', 'agente_venta', 'dis_venta', 'empresa', 'fecha_ultimo_pago', 'fecha_pago_proximo', 'status_cuenta', 'razones_buro', 'limite_credito', 'cp_cliente', 'cd_cliente', 'edo_cliente', 'cd_venta', 'edo_venta', 'curp']]\n",
        "df = pd.concat([n_col, dfL], axis=1)\n",
        "df"
      ],
      "metadata": {
        "colab": {
          "base_uri": "https://localhost:8080/",
          "height": 878
        },
        "id": "4PueoS7Qh8tU",
        "outputId": "3b504cdb-22eb-4618-e21f-c37da54f6869"
      },
      "execution_count": 363,
      "outputs": [
        {
          "output_type": "execute_result",
          "data": {
            "text/plain": [
              "            tag           fecha     marca                        modelo plazo  \\\n",
              "0      HDNAWQ3A  12/11/21 19:00       ZTE            Blade A3 2020 RO B   26S   \n",
              "1      M418YNR4  12/11/21 19:15  MOTOROLA  LTE XT2097-12 E7I POWER Azul   13S   \n",
              "2      SZ7V3NZT  13/11/21 14:13       ZTE            BLADE A3 2020 Gris   13S   \n",
              "3      9I08UIQZ  13/11/21 15:45       ZTE            BLADE A3 2020 Gris   13S   \n",
              "4      JMF4LKYU  13/11/21 16:10  MOTOROLA                         G10 B   39S   \n",
              "...         ...             ...       ...                           ...   ...   \n",
              "22730  92KQVRIX  18/04/23 18:45  Motorola                      Moto E13   26S   \n",
              "22731  NWB2EA8J  18/04/23 18:46  Motorola                     Moto E22i   26S   \n",
              "22732  VDTRJ2W6  18/04/23 18:47   Samsung                           A13   26S   \n",
              "22733  PETLF56C  18/04/23 18:49   Samsung                        A53 5G   39S   \n",
              "22734  2CI4N2WS  18/04/23 18:49   Samsung                        A22 5G   26S   \n",
              "\n",
              "                           agente_venta dis_venta      empresa  \\\n",
              "0       Sintia Verenice Tenorio Perez E   mic0437     microtec   \n",
              "1                 Alvaro Rafael Pascual    mic015     microtec   \n",
              "2       Sintia Verenice Tenorio Perez E   mic0437     microtec   \n",
              "3            Luz Aylin Hernandez Lopez1   mic0748     microtec   \n",
              "4       Sintia Verenice Tenorio Perez E   mic0437     microtec   \n",
              "...                                 ...       ...          ...   \n",
              "22730  Mildred Asuncion Arguello Caamal    svc044     servicel   \n",
              "22731      Maria Guadalupe Vargas Lopez    PXC004  pixelulares   \n",
              "22732           Nicolás Jiménez Sánchez    gph008  pixelulares   \n",
              "22733           Maribel Ulibarri Medina    gph014      grupoph   \n",
              "22734              Netza Fierros Mateos    php005     phonepay   \n",
              "\n",
              "      fecha_ultimo_pago fecha_pago_proximo  ... fraude inversion  \\\n",
              "0      01/01/1900 00:00   01/01/1900 00:00  ...      0         0   \n",
              "1      01/01/1900 00:00   01/01/1900 00:00  ...      0         0   \n",
              "2      01/01/1900 00:00   01/01/1900 00:00  ...      0         0   \n",
              "3      01/01/1900 00:00   01/01/1900 00:00  ...      0         0   \n",
              "4         05/03/22 0:00      12/03/22 0:00  ...      0         0   \n",
              "...                 ...                ...  ...    ...       ...   \n",
              "22730    18/04/23 18:45      25/04/23 0:00  ...      0         0   \n",
              "22731    18/04/23 18:46      25/04/23 0:00  ...      0         0   \n",
              "22732    18/04/23 18:47      25/04/23 0:00  ...      0         0   \n",
              "22733    18/04/23 18:49      25/04/23 0:00  ...      0         0   \n",
              "22734    18/04/23 18:49      25/04/23 0:00  ...      0         1   \n",
              "\n",
              "      pagos_realizados reautorizacion puntos riesgo score_buro porc_eng  \\\n",
              "0                    0              0      0   0.00          0    40.02   \n",
              "1                    0              0      0   0.00          0    35.01   \n",
              "2                    0              0      0   0.00          0    25.01   \n",
              "3                    0              0      0   0.00          0    25.01   \n",
              "4                    0              0      0   0.00          0    25.01   \n",
              "...                ...            ...    ...    ...        ...      ...   \n",
              "22730                0              0     10  27.40        469     8.87   \n",
              "22731                0              0      9  19.00        502    29.49   \n",
              "22732                0              0     11  26.65        459    23.76   \n",
              "22733                0              0     14 -17.35        699    28.56   \n",
              "22734                0              0     12  21.80          0    20.11   \n",
              "\n",
              "      semana_actual  edad_cliente  \n",
              "0                26          23.0  \n",
              "1                13          60.0  \n",
              "2                74          58.0  \n",
              "3                13          42.0  \n",
              "4                74          33.0  \n",
              "...             ...           ...  \n",
              "22730             0          22.0  \n",
              "22731             0          27.0  \n",
              "22732             0          36.0  \n",
              "22733             0          53.0  \n",
              "22734             0          19.0  \n",
              "\n",
              "[22735 rows x 39 columns]"
            ],
            "text/html": [
              "\n",
              "  <div id=\"df-30f27ac4-d7e0-4157-82a8-752f7785dd3d\" class=\"colab-df-container\">\n",
              "    <div>\n",
              "<style scoped>\n",
              "    .dataframe tbody tr th:only-of-type {\n",
              "        vertical-align: middle;\n",
              "    }\n",
              "\n",
              "    .dataframe tbody tr th {\n",
              "        vertical-align: top;\n",
              "    }\n",
              "\n",
              "    .dataframe thead th {\n",
              "        text-align: right;\n",
              "    }\n",
              "</style>\n",
              "<table border=\"1\" class=\"dataframe\">\n",
              "  <thead>\n",
              "    <tr style=\"text-align: right;\">\n",
              "      <th></th>\n",
              "      <th>tag</th>\n",
              "      <th>fecha</th>\n",
              "      <th>marca</th>\n",
              "      <th>modelo</th>\n",
              "      <th>plazo</th>\n",
              "      <th>agente_venta</th>\n",
              "      <th>dis_venta</th>\n",
              "      <th>empresa</th>\n",
              "      <th>fecha_ultimo_pago</th>\n",
              "      <th>fecha_pago_proximo</th>\n",
              "      <th>...</th>\n",
              "      <th>fraude</th>\n",
              "      <th>inversion</th>\n",
              "      <th>pagos_realizados</th>\n",
              "      <th>reautorizacion</th>\n",
              "      <th>puntos</th>\n",
              "      <th>riesgo</th>\n",
              "      <th>score_buro</th>\n",
              "      <th>porc_eng</th>\n",
              "      <th>semana_actual</th>\n",
              "      <th>edad_cliente</th>\n",
              "    </tr>\n",
              "  </thead>\n",
              "  <tbody>\n",
              "    <tr>\n",
              "      <th>0</th>\n",
              "      <td>HDNAWQ3A</td>\n",
              "      <td>12/11/21 19:00</td>\n",
              "      <td>ZTE</td>\n",
              "      <td>Blade A3 2020 RO B</td>\n",
              "      <td>26S</td>\n",
              "      <td>Sintia Verenice Tenorio Perez E</td>\n",
              "      <td>mic0437</td>\n",
              "      <td>microtec</td>\n",
              "      <td>01/01/1900 00:00</td>\n",
              "      <td>01/01/1900 00:00</td>\n",
              "      <td>...</td>\n",
              "      <td>0</td>\n",
              "      <td>0</td>\n",
              "      <td>0</td>\n",
              "      <td>0</td>\n",
              "      <td>0</td>\n",
              "      <td>0.00</td>\n",
              "      <td>0</td>\n",
              "      <td>40.02</td>\n",
              "      <td>26</td>\n",
              "      <td>23.0</td>\n",
              "    </tr>\n",
              "    <tr>\n",
              "      <th>1</th>\n",
              "      <td>M418YNR4</td>\n",
              "      <td>12/11/21 19:15</td>\n",
              "      <td>MOTOROLA</td>\n",
              "      <td>LTE XT2097-12 E7I POWER Azul</td>\n",
              "      <td>13S</td>\n",
              "      <td>Alvaro Rafael Pascual</td>\n",
              "      <td>mic015</td>\n",
              "      <td>microtec</td>\n",
              "      <td>01/01/1900 00:00</td>\n",
              "      <td>01/01/1900 00:00</td>\n",
              "      <td>...</td>\n",
              "      <td>0</td>\n",
              "      <td>0</td>\n",
              "      <td>0</td>\n",
              "      <td>0</td>\n",
              "      <td>0</td>\n",
              "      <td>0.00</td>\n",
              "      <td>0</td>\n",
              "      <td>35.01</td>\n",
              "      <td>13</td>\n",
              "      <td>60.0</td>\n",
              "    </tr>\n",
              "    <tr>\n",
              "      <th>2</th>\n",
              "      <td>SZ7V3NZT</td>\n",
              "      <td>13/11/21 14:13</td>\n",
              "      <td>ZTE</td>\n",
              "      <td>BLADE A3 2020 Gris</td>\n",
              "      <td>13S</td>\n",
              "      <td>Sintia Verenice Tenorio Perez E</td>\n",
              "      <td>mic0437</td>\n",
              "      <td>microtec</td>\n",
              "      <td>01/01/1900 00:00</td>\n",
              "      <td>01/01/1900 00:00</td>\n",
              "      <td>...</td>\n",
              "      <td>0</td>\n",
              "      <td>0</td>\n",
              "      <td>0</td>\n",
              "      <td>0</td>\n",
              "      <td>0</td>\n",
              "      <td>0.00</td>\n",
              "      <td>0</td>\n",
              "      <td>25.01</td>\n",
              "      <td>74</td>\n",
              "      <td>58.0</td>\n",
              "    </tr>\n",
              "    <tr>\n",
              "      <th>3</th>\n",
              "      <td>9I08UIQZ</td>\n",
              "      <td>13/11/21 15:45</td>\n",
              "      <td>ZTE</td>\n",
              "      <td>BLADE A3 2020 Gris</td>\n",
              "      <td>13S</td>\n",
              "      <td>Luz Aylin Hernandez Lopez1</td>\n",
              "      <td>mic0748</td>\n",
              "      <td>microtec</td>\n",
              "      <td>01/01/1900 00:00</td>\n",
              "      <td>01/01/1900 00:00</td>\n",
              "      <td>...</td>\n",
              "      <td>0</td>\n",
              "      <td>0</td>\n",
              "      <td>0</td>\n",
              "      <td>0</td>\n",
              "      <td>0</td>\n",
              "      <td>0.00</td>\n",
              "      <td>0</td>\n",
              "      <td>25.01</td>\n",
              "      <td>13</td>\n",
              "      <td>42.0</td>\n",
              "    </tr>\n",
              "    <tr>\n",
              "      <th>4</th>\n",
              "      <td>JMF4LKYU</td>\n",
              "      <td>13/11/21 16:10</td>\n",
              "      <td>MOTOROLA</td>\n",
              "      <td>G10 B</td>\n",
              "      <td>39S</td>\n",
              "      <td>Sintia Verenice Tenorio Perez E</td>\n",
              "      <td>mic0437</td>\n",
              "      <td>microtec</td>\n",
              "      <td>05/03/22 0:00</td>\n",
              "      <td>12/03/22 0:00</td>\n",
              "      <td>...</td>\n",
              "      <td>0</td>\n",
              "      <td>0</td>\n",
              "      <td>0</td>\n",
              "      <td>0</td>\n",
              "      <td>0</td>\n",
              "      <td>0.00</td>\n",
              "      <td>0</td>\n",
              "      <td>25.01</td>\n",
              "      <td>74</td>\n",
              "      <td>33.0</td>\n",
              "    </tr>\n",
              "    <tr>\n",
              "      <th>...</th>\n",
              "      <td>...</td>\n",
              "      <td>...</td>\n",
              "      <td>...</td>\n",
              "      <td>...</td>\n",
              "      <td>...</td>\n",
              "      <td>...</td>\n",
              "      <td>...</td>\n",
              "      <td>...</td>\n",
              "      <td>...</td>\n",
              "      <td>...</td>\n",
              "      <td>...</td>\n",
              "      <td>...</td>\n",
              "      <td>...</td>\n",
              "      <td>...</td>\n",
              "      <td>...</td>\n",
              "      <td>...</td>\n",
              "      <td>...</td>\n",
              "      <td>...</td>\n",
              "      <td>...</td>\n",
              "      <td>...</td>\n",
              "      <td>...</td>\n",
              "    </tr>\n",
              "    <tr>\n",
              "      <th>22730</th>\n",
              "      <td>92KQVRIX</td>\n",
              "      <td>18/04/23 18:45</td>\n",
              "      <td>Motorola</td>\n",
              "      <td>Moto E13</td>\n",
              "      <td>26S</td>\n",
              "      <td>Mildred Asuncion Arguello Caamal</td>\n",
              "      <td>svc044</td>\n",
              "      <td>servicel</td>\n",
              "      <td>18/04/23 18:45</td>\n",
              "      <td>25/04/23 0:00</td>\n",
              "      <td>...</td>\n",
              "      <td>0</td>\n",
              "      <td>0</td>\n",
              "      <td>0</td>\n",
              "      <td>0</td>\n",
              "      <td>10</td>\n",
              "      <td>27.40</td>\n",
              "      <td>469</td>\n",
              "      <td>8.87</td>\n",
              "      <td>0</td>\n",
              "      <td>22.0</td>\n",
              "    </tr>\n",
              "    <tr>\n",
              "      <th>22731</th>\n",
              "      <td>NWB2EA8J</td>\n",
              "      <td>18/04/23 18:46</td>\n",
              "      <td>Motorola</td>\n",
              "      <td>Moto E22i</td>\n",
              "      <td>26S</td>\n",
              "      <td>Maria Guadalupe Vargas Lopez</td>\n",
              "      <td>PXC004</td>\n",
              "      <td>pixelulares</td>\n",
              "      <td>18/04/23 18:46</td>\n",
              "      <td>25/04/23 0:00</td>\n",
              "      <td>...</td>\n",
              "      <td>0</td>\n",
              "      <td>0</td>\n",
              "      <td>0</td>\n",
              "      <td>0</td>\n",
              "      <td>9</td>\n",
              "      <td>19.00</td>\n",
              "      <td>502</td>\n",
              "      <td>29.49</td>\n",
              "      <td>0</td>\n",
              "      <td>27.0</td>\n",
              "    </tr>\n",
              "    <tr>\n",
              "      <th>22732</th>\n",
              "      <td>VDTRJ2W6</td>\n",
              "      <td>18/04/23 18:47</td>\n",
              "      <td>Samsung</td>\n",
              "      <td>A13</td>\n",
              "      <td>26S</td>\n",
              "      <td>Nicolás Jiménez Sánchez</td>\n",
              "      <td>gph008</td>\n",
              "      <td>pixelulares</td>\n",
              "      <td>18/04/23 18:47</td>\n",
              "      <td>25/04/23 0:00</td>\n",
              "      <td>...</td>\n",
              "      <td>0</td>\n",
              "      <td>0</td>\n",
              "      <td>0</td>\n",
              "      <td>0</td>\n",
              "      <td>11</td>\n",
              "      <td>26.65</td>\n",
              "      <td>459</td>\n",
              "      <td>23.76</td>\n",
              "      <td>0</td>\n",
              "      <td>36.0</td>\n",
              "    </tr>\n",
              "    <tr>\n",
              "      <th>22733</th>\n",
              "      <td>PETLF56C</td>\n",
              "      <td>18/04/23 18:49</td>\n",
              "      <td>Samsung</td>\n",
              "      <td>A53 5G</td>\n",
              "      <td>39S</td>\n",
              "      <td>Maribel Ulibarri Medina</td>\n",
              "      <td>gph014</td>\n",
              "      <td>grupoph</td>\n",
              "      <td>18/04/23 18:49</td>\n",
              "      <td>25/04/23 0:00</td>\n",
              "      <td>...</td>\n",
              "      <td>0</td>\n",
              "      <td>0</td>\n",
              "      <td>0</td>\n",
              "      <td>0</td>\n",
              "      <td>14</td>\n",
              "      <td>-17.35</td>\n",
              "      <td>699</td>\n",
              "      <td>28.56</td>\n",
              "      <td>0</td>\n",
              "      <td>53.0</td>\n",
              "    </tr>\n",
              "    <tr>\n",
              "      <th>22734</th>\n",
              "      <td>2CI4N2WS</td>\n",
              "      <td>18/04/23 18:49</td>\n",
              "      <td>Samsung</td>\n",
              "      <td>A22 5G</td>\n",
              "      <td>26S</td>\n",
              "      <td>Netza Fierros Mateos</td>\n",
              "      <td>php005</td>\n",
              "      <td>phonepay</td>\n",
              "      <td>18/04/23 18:49</td>\n",
              "      <td>25/04/23 0:00</td>\n",
              "      <td>...</td>\n",
              "      <td>0</td>\n",
              "      <td>1</td>\n",
              "      <td>0</td>\n",
              "      <td>0</td>\n",
              "      <td>12</td>\n",
              "      <td>21.80</td>\n",
              "      <td>0</td>\n",
              "      <td>20.11</td>\n",
              "      <td>0</td>\n",
              "      <td>19.0</td>\n",
              "    </tr>\n",
              "  </tbody>\n",
              "</table>\n",
              "<p>22735 rows × 39 columns</p>\n",
              "</div>\n",
              "    <div class=\"colab-df-buttons\">\n",
              "\n",
              "  <div class=\"colab-df-container\">\n",
              "    <button class=\"colab-df-convert\" onclick=\"convertToInteractive('df-30f27ac4-d7e0-4157-82a8-752f7785dd3d')\"\n",
              "            title=\"Convert this dataframe to an interactive table.\"\n",
              "            style=\"display:none;\">\n",
              "\n",
              "  <svg xmlns=\"http://www.w3.org/2000/svg\" height=\"24px\" viewBox=\"0 -960 960 960\">\n",
              "    <path d=\"M120-120v-720h720v720H120Zm60-500h600v-160H180v160Zm220 220h160v-160H400v160Zm0 220h160v-160H400v160ZM180-400h160v-160H180v160Zm440 0h160v-160H620v160ZM180-180h160v-160H180v160Zm440 0h160v-160H620v160Z\"/>\n",
              "  </svg>\n",
              "    </button>\n",
              "\n",
              "  <style>\n",
              "    .colab-df-container {\n",
              "      display:flex;\n",
              "      gap: 12px;\n",
              "    }\n",
              "\n",
              "    .colab-df-convert {\n",
              "      background-color: #E8F0FE;\n",
              "      border: none;\n",
              "      border-radius: 50%;\n",
              "      cursor: pointer;\n",
              "      display: none;\n",
              "      fill: #1967D2;\n",
              "      height: 32px;\n",
              "      padding: 0 0 0 0;\n",
              "      width: 32px;\n",
              "    }\n",
              "\n",
              "    .colab-df-convert:hover {\n",
              "      background-color: #E2EBFA;\n",
              "      box-shadow: 0px 1px 2px rgba(60, 64, 67, 0.3), 0px 1px 3px 1px rgba(60, 64, 67, 0.15);\n",
              "      fill: #174EA6;\n",
              "    }\n",
              "\n",
              "    .colab-df-buttons div {\n",
              "      margin-bottom: 4px;\n",
              "    }\n",
              "\n",
              "    [theme=dark] .colab-df-convert {\n",
              "      background-color: #3B4455;\n",
              "      fill: #D2E3FC;\n",
              "    }\n",
              "\n",
              "    [theme=dark] .colab-df-convert:hover {\n",
              "      background-color: #434B5C;\n",
              "      box-shadow: 0px 1px 3px 1px rgba(0, 0, 0, 0.15);\n",
              "      filter: drop-shadow(0px 1px 2px rgba(0, 0, 0, 0.3));\n",
              "      fill: #FFFFFF;\n",
              "    }\n",
              "  </style>\n",
              "\n",
              "    <script>\n",
              "      const buttonEl =\n",
              "        document.querySelector('#df-30f27ac4-d7e0-4157-82a8-752f7785dd3d button.colab-df-convert');\n",
              "      buttonEl.style.display =\n",
              "        google.colab.kernel.accessAllowed ? 'block' : 'none';\n",
              "\n",
              "      async function convertToInteractive(key) {\n",
              "        const element = document.querySelector('#df-30f27ac4-d7e0-4157-82a8-752f7785dd3d');\n",
              "        const dataTable =\n",
              "          await google.colab.kernel.invokeFunction('convertToInteractive',\n",
              "                                                    [key], {});\n",
              "        if (!dataTable) return;\n",
              "\n",
              "        const docLinkHtml = 'Like what you see? Visit the ' +\n",
              "          '<a target=\"_blank\" href=https://colab.research.google.com/notebooks/data_table.ipynb>data table notebook</a>'\n",
              "          + ' to learn more about interactive tables.';\n",
              "        element.innerHTML = '';\n",
              "        dataTable['output_type'] = 'display_data';\n",
              "        await google.colab.output.renderOutput(dataTable, element);\n",
              "        const docLink = document.createElement('div');\n",
              "        docLink.innerHTML = docLinkHtml;\n",
              "        element.appendChild(docLink);\n",
              "      }\n",
              "    </script>\n",
              "  </div>\n",
              "\n",
              "\n",
              "<div id=\"df-3d835242-5eee-4786-a6f3-7849acb11f2e\">\n",
              "  <button class=\"colab-df-quickchart\" onclick=\"quickchart('df-3d835242-5eee-4786-a6f3-7849acb11f2e')\"\n",
              "            title=\"Suggest charts.\"\n",
              "            style=\"display:none;\">\n",
              "\n",
              "<svg xmlns=\"http://www.w3.org/2000/svg\" height=\"24px\"viewBox=\"0 0 24 24\"\n",
              "     width=\"24px\">\n",
              "    <g>\n",
              "        <path d=\"M19 3H5c-1.1 0-2 .9-2 2v14c0 1.1.9 2 2 2h14c1.1 0 2-.9 2-2V5c0-1.1-.9-2-2-2zM9 17H7v-7h2v7zm4 0h-2V7h2v10zm4 0h-2v-4h2v4z\"/>\n",
              "    </g>\n",
              "</svg>\n",
              "  </button>\n",
              "\n",
              "<style>\n",
              "  .colab-df-quickchart {\n",
              "      --bg-color: #E8F0FE;\n",
              "      --fill-color: #1967D2;\n",
              "      --hover-bg-color: #E2EBFA;\n",
              "      --hover-fill-color: #174EA6;\n",
              "      --disabled-fill-color: #AAA;\n",
              "      --disabled-bg-color: #DDD;\n",
              "  }\n",
              "\n",
              "  [theme=dark] .colab-df-quickchart {\n",
              "      --bg-color: #3B4455;\n",
              "      --fill-color: #D2E3FC;\n",
              "      --hover-bg-color: #434B5C;\n",
              "      --hover-fill-color: #FFFFFF;\n",
              "      --disabled-bg-color: #3B4455;\n",
              "      --disabled-fill-color: #666;\n",
              "  }\n",
              "\n",
              "  .colab-df-quickchart {\n",
              "    background-color: var(--bg-color);\n",
              "    border: none;\n",
              "    border-radius: 50%;\n",
              "    cursor: pointer;\n",
              "    display: none;\n",
              "    fill: var(--fill-color);\n",
              "    height: 32px;\n",
              "    padding: 0;\n",
              "    width: 32px;\n",
              "  }\n",
              "\n",
              "  .colab-df-quickchart:hover {\n",
              "    background-color: var(--hover-bg-color);\n",
              "    box-shadow: 0 1px 2px rgba(60, 64, 67, 0.3), 0 1px 3px 1px rgba(60, 64, 67, 0.15);\n",
              "    fill: var(--button-hover-fill-color);\n",
              "  }\n",
              "\n",
              "  .colab-df-quickchart-complete:disabled,\n",
              "  .colab-df-quickchart-complete:disabled:hover {\n",
              "    background-color: var(--disabled-bg-color);\n",
              "    fill: var(--disabled-fill-color);\n",
              "    box-shadow: none;\n",
              "  }\n",
              "\n",
              "  .colab-df-spinner {\n",
              "    border: 2px solid var(--fill-color);\n",
              "    border-color: transparent;\n",
              "    border-bottom-color: var(--fill-color);\n",
              "    animation:\n",
              "      spin 1s steps(1) infinite;\n",
              "  }\n",
              "\n",
              "  @keyframes spin {\n",
              "    0% {\n",
              "      border-color: transparent;\n",
              "      border-bottom-color: var(--fill-color);\n",
              "      border-left-color: var(--fill-color);\n",
              "    }\n",
              "    20% {\n",
              "      border-color: transparent;\n",
              "      border-left-color: var(--fill-color);\n",
              "      border-top-color: var(--fill-color);\n",
              "    }\n",
              "    30% {\n",
              "      border-color: transparent;\n",
              "      border-left-color: var(--fill-color);\n",
              "      border-top-color: var(--fill-color);\n",
              "      border-right-color: var(--fill-color);\n",
              "    }\n",
              "    40% {\n",
              "      border-color: transparent;\n",
              "      border-right-color: var(--fill-color);\n",
              "      border-top-color: var(--fill-color);\n",
              "    }\n",
              "    60% {\n",
              "      border-color: transparent;\n",
              "      border-right-color: var(--fill-color);\n",
              "    }\n",
              "    80% {\n",
              "      border-color: transparent;\n",
              "      border-right-color: var(--fill-color);\n",
              "      border-bottom-color: var(--fill-color);\n",
              "    }\n",
              "    90% {\n",
              "      border-color: transparent;\n",
              "      border-bottom-color: var(--fill-color);\n",
              "    }\n",
              "  }\n",
              "</style>\n",
              "\n",
              "  <script>\n",
              "    async function quickchart(key) {\n",
              "      const quickchartButtonEl =\n",
              "        document.querySelector('#' + key + ' button');\n",
              "      quickchartButtonEl.disabled = true;  // To prevent multiple clicks.\n",
              "      quickchartButtonEl.classList.add('colab-df-spinner');\n",
              "      try {\n",
              "        const charts = await google.colab.kernel.invokeFunction(\n",
              "            'suggestCharts', [key], {});\n",
              "      } catch (error) {\n",
              "        console.error('Error during call to suggestCharts:', error);\n",
              "      }\n",
              "      quickchartButtonEl.classList.remove('colab-df-spinner');\n",
              "      quickchartButtonEl.classList.add('colab-df-quickchart-complete');\n",
              "    }\n",
              "    (() => {\n",
              "      let quickchartButtonEl =\n",
              "        document.querySelector('#df-3d835242-5eee-4786-a6f3-7849acb11f2e button');\n",
              "      quickchartButtonEl.style.display =\n",
              "        google.colab.kernel.accessAllowed ? 'block' : 'none';\n",
              "    })();\n",
              "  </script>\n",
              "</div>\n",
              "    </div>\n",
              "  </div>\n"
            ]
          },
          "metadata": {},
          "execution_count": 363
        }
      ]
    },
    {
      "cell_type": "code",
      "source": [
        "df.isnull().sum()"
      ],
      "metadata": {
        "colab": {
          "base_uri": "https://localhost:8080/"
        },
        "id": "7R1yiVBKiC4B",
        "outputId": "68402d10-096e-4cc9-c24f-209c404175a9"
      },
      "execution_count": 364,
      "outputs": [
        {
          "output_type": "execute_result",
          "data": {
            "text/plain": [
              "tag                   0\n",
              "fecha                 0\n",
              "marca                 0\n",
              "modelo                0\n",
              "plazo                 0\n",
              "agente_venta          0\n",
              "dis_venta             0\n",
              "empresa               0\n",
              "fecha_ultimo_pago     0\n",
              "fecha_pago_proximo    0\n",
              "status_cuenta         0\n",
              "razones_buro          0\n",
              "limite_credito        0\n",
              "cp_cliente            0\n",
              "cd_cliente            0\n",
              "edo_cliente           0\n",
              "cd_venta              0\n",
              "edo_venta             0\n",
              "curp                  0\n",
              "folio                 0\n",
              "folio_solicitud       0\n",
              "precio                0\n",
              "enganche              0\n",
              "descuento             0\n",
              "semana                0\n",
              "monto_financiado      0\n",
              "costo_total           0\n",
              "monto_accesorios      0\n",
              "status                0\n",
              "fraude                0\n",
              "inversion             0\n",
              "pagos_realizados      0\n",
              "reautorizacion        0\n",
              "puntos                0\n",
              "riesgo                0\n",
              "score_buro            0\n",
              "porc_eng              0\n",
              "semana_actual         0\n",
              "edad_cliente          0\n",
              "dtype: int64"
            ]
          },
          "metadata": {},
          "execution_count": 364
        }
      ]
    },
    {
      "cell_type": "code",
      "source": [
        "df.info()"
      ],
      "metadata": {
        "colab": {
          "base_uri": "https://localhost:8080/"
        },
        "id": "d9T8wtLXiAvX",
        "outputId": "9d87dfb3-ae83-4151-83d6-927108d34523"
      },
      "execution_count": 365,
      "outputs": [
        {
          "output_type": "stream",
          "name": "stdout",
          "text": [
            "<class 'pandas.core.frame.DataFrame'>\n",
            "RangeIndex: 22735 entries, 0 to 22734\n",
            "Data columns (total 39 columns):\n",
            " #   Column              Non-Null Count  Dtype  \n",
            "---  ------              --------------  -----  \n",
            " 0   tag                 22735 non-null  object \n",
            " 1   fecha               22735 non-null  object \n",
            " 2   marca               22735 non-null  object \n",
            " 3   modelo              22735 non-null  object \n",
            " 4   plazo               22735 non-null  object \n",
            " 5   agente_venta        22735 non-null  object \n",
            " 6   dis_venta           22735 non-null  object \n",
            " 7   empresa             22735 non-null  object \n",
            " 8   fecha_ultimo_pago   22735 non-null  object \n",
            " 9   fecha_pago_proximo  22735 non-null  object \n",
            " 10  status_cuenta       22735 non-null  object \n",
            " 11  razones_buro        22735 non-null  object \n",
            " 12  limite_credito      22735 non-null  object \n",
            " 13  cp_cliente          22735 non-null  object \n",
            " 14  cd_cliente          22735 non-null  object \n",
            " 15  edo_cliente         22735 non-null  object \n",
            " 16  cd_venta            22735 non-null  object \n",
            " 17  edo_venta           22735 non-null  object \n",
            " 18  curp                22735 non-null  object \n",
            " 19  folio               22735 non-null  int64  \n",
            " 20  folio_solicitud     22735 non-null  int64  \n",
            " 21  precio              22735 non-null  float64\n",
            " 22  enganche            22735 non-null  float64\n",
            " 23  descuento           22735 non-null  float64\n",
            " 24  semana              22735 non-null  int64  \n",
            " 25  monto_financiado    22735 non-null  float64\n",
            " 26  costo_total         22735 non-null  int64  \n",
            " 27  monto_accesorios    22735 non-null  float64\n",
            " 28  status              22735 non-null  int64  \n",
            " 29  fraude              22735 non-null  int64  \n",
            " 30  inversion           22735 non-null  int64  \n",
            " 31  pagos_realizados    22735 non-null  int64  \n",
            " 32  reautorizacion      22735 non-null  int64  \n",
            " 33  puntos              22735 non-null  int64  \n",
            " 34  riesgo              22735 non-null  float64\n",
            " 35  score_buro          22735 non-null  int64  \n",
            " 36  porc_eng            22735 non-null  float64\n",
            " 37  semana_actual       22735 non-null  int64  \n",
            " 38  edad_cliente        22735 non-null  float64\n",
            "dtypes: float64(8), int64(12), object(19)\n",
            "memory usage: 6.8+ MB\n"
          ]
        }
      ]
    },
    {
      "cell_type": "code",
      "source": [
        "matriz = df.corr()\n",
        "matriz"
      ],
      "metadata": {
        "colab": {
          "base_uri": "https://localhost:8080/",
          "height": 731
        },
        "id": "QSojmbDRiG0v",
        "outputId": "2518f847-ea6d-4fb6-ff55-5b94de0c6787"
      },
      "execution_count": 366,
      "outputs": [
        {
          "output_type": "stream",
          "name": "stderr",
          "text": [
            "<ipython-input-366-7668110952fa>:1: FutureWarning: The default value of numeric_only in DataFrame.corr is deprecated. In a future version, it will default to False. Select only valid columns or specify the value of numeric_only to silence this warning.\n",
            "  matriz = df.corr()\n"
          ]
        },
        {
          "output_type": "execute_result",
          "data": {
            "text/plain": [
              "                     folio  folio_solicitud    precio  enganche  descuento  \\\n",
              "folio             1.000000         0.971332  0.098971  0.124622   0.130377   \n",
              "folio_solicitud   0.971332         1.000000  0.099934  0.121863   0.127074   \n",
              "precio            0.098971         0.099934  1.000000  0.678519   0.009883   \n",
              "enganche          0.124622         0.121863  0.678519  1.000000  -0.025689   \n",
              "descuento         0.130377         0.127074  0.009883 -0.025689   1.000000   \n",
              "semana            0.094659         0.097633  0.672673  0.339912  -0.026317   \n",
              "monto_financiado  0.075446         0.077342  0.947080  0.408276   0.024136   \n",
              "costo_total       0.027103         0.029438  0.872403  0.355694   0.036940   \n",
              "monto_accesorios  0.081637         0.071465  0.019097  0.031409  -0.006212   \n",
              "status           -0.381641        -0.378045 -0.096183 -0.032450  -0.076093   \n",
              "fraude           -0.051590        -0.051017  0.060723  0.051645  -0.035743   \n",
              "inversion        -0.139744        -0.130940  0.004445 -0.071798   0.240813   \n",
              "pagos_realizados -0.477863        -0.467299  0.017000 -0.080730   0.040920   \n",
              "reautorizacion   -0.267134        -0.250896 -0.057546 -0.022209  -0.016730   \n",
              "puntos           -0.120736        -0.136859  0.073077 -0.175815  -0.087252   \n",
              "riesgo            0.352654         0.340098 -0.042888  0.272575   0.036555   \n",
              "score_buro        0.548206         0.527624  0.080220  0.059764   0.103998   \n",
              "porc_eng          0.069327         0.063868 -0.011328  0.676520  -0.050813   \n",
              "semana_actual    -0.819061        -0.796687 -0.030421 -0.094174  -0.112215   \n",
              "edad_cliente      0.047807         0.050747 -0.017580 -0.013917   0.012399   \n",
              "\n",
              "                    semana  monto_financiado  costo_total  monto_accesorios  \\\n",
              "folio             0.094659          0.075446     0.027103          0.081637   \n",
              "folio_solicitud   0.097633          0.077342     0.029438          0.071465   \n",
              "precio            0.672673          0.947080     0.872403          0.019097   \n",
              "enganche          0.339912          0.408276     0.355694          0.031409   \n",
              "descuento        -0.026317          0.024136     0.036940         -0.006212   \n",
              "semana            1.000000          0.688111     0.411911          0.028635   \n",
              "monto_financiado  0.688111          1.000000     0.929859          0.030831   \n",
              "costo_total       0.411911          0.929859     1.000000          0.063101   \n",
              "monto_accesorios  0.028635          0.030831     0.063101          1.000000   \n",
              "status            0.143145         -0.108464    -0.195627         -0.043031   \n",
              "fraude            0.028683          0.052949     0.060782          0.029445   \n",
              "inversion         0.036724          0.036326     0.024614         -0.050677   \n",
              "pagos_realizados -0.133589          0.052593     0.132380         -0.062232   \n",
              "reautorizacion    0.006011         -0.062734    -0.086438         -0.026971   \n",
              "puntos            0.084821          0.165852     0.159682         -0.040392   \n",
              "riesgo           -0.091175         -0.169037    -0.171733          0.078120   \n",
              "score_buro        0.072555          0.076027     0.060079          0.039010   \n",
              "porc_eng         -0.158246         -0.307681    -0.305885          0.029359   \n",
              "semana_actual    -0.189936         -0.002362     0.104572         -0.059894   \n",
              "edad_cliente     -0.018346         -0.014611    -0.008483          0.034490   \n",
              "\n",
              "                    status    fraude  inversion  pagos_realizados  \\\n",
              "folio            -0.381641 -0.051590  -0.139744         -0.477863   \n",
              "folio_solicitud  -0.378045 -0.051017  -0.130940         -0.467299   \n",
              "precio           -0.096183  0.060723   0.004445          0.017000   \n",
              "enganche         -0.032450  0.051645  -0.071798         -0.080730   \n",
              "descuento        -0.076093 -0.035743   0.240813          0.040920   \n",
              "semana            0.143145  0.028683   0.036724         -0.133589   \n",
              "monto_financiado -0.108464  0.052949   0.036326          0.052593   \n",
              "costo_total      -0.195627  0.060782   0.024614          0.132380   \n",
              "monto_accesorios -0.043031  0.029445  -0.050677         -0.062232   \n",
              "status            1.000000 -0.155148   0.077710          0.251670   \n",
              "fraude           -0.155148  1.000000  -0.045808         -0.290140   \n",
              "inversion         0.077710 -0.045808   1.000000          0.183455   \n",
              "pagos_realizados  0.251670 -0.290140   0.183455          1.000000   \n",
              "reautorizacion    0.281953 -0.053387   0.083254          0.191830   \n",
              "puntos            0.062583 -0.000143   0.079687          0.173756   \n",
              "riesgo           -0.143361  0.033686  -0.134503         -0.239008   \n",
              "score_buro       -0.240651 -0.024286  -0.097543         -0.220372   \n",
              "porc_eng          0.049292  0.023888  -0.131851         -0.143488   \n",
              "semana_actual    -0.006862  0.131246   0.091410          0.383564   \n",
              "edad_cliente     -0.018195  0.008995  -0.021410         -0.014689   \n",
              "\n",
              "                  reautorizacion    puntos    riesgo  score_buro  porc_eng  \\\n",
              "folio                  -0.267134 -0.120736  0.352654    0.548206  0.069327   \n",
              "folio_solicitud        -0.250896 -0.136859  0.340098    0.527624  0.063868   \n",
              "precio                 -0.057546  0.073077 -0.042888    0.080220 -0.011328   \n",
              "enganche               -0.022209 -0.175815  0.272575    0.059764  0.676520   \n",
              "descuento              -0.016730 -0.087252  0.036555    0.103998 -0.050813   \n",
              "semana                  0.006011  0.084821 -0.091175    0.072555 -0.158246   \n",
              "monto_financiado       -0.062734  0.165852 -0.169037    0.076027 -0.307681   \n",
              "costo_total            -0.086438  0.159682 -0.171733    0.060079 -0.305885   \n",
              "monto_accesorios       -0.026971 -0.040392  0.078120    0.039010  0.029359   \n",
              "status                  0.281953  0.062583 -0.143361   -0.240651  0.049292   \n",
              "fraude                 -0.053387 -0.000143  0.033686   -0.024286  0.023888   \n",
              "inversion               0.083254  0.079687 -0.134503   -0.097543 -0.131851   \n",
              "pagos_realizados        0.191830  0.173756 -0.239008   -0.220372 -0.143488   \n",
              "reautorizacion          1.000000 -0.203217 -0.057144   -0.188628  0.027921   \n",
              "puntos                 -0.203217  1.000000 -0.455606   -0.224206 -0.357969   \n",
              "riesgo                 -0.057144 -0.455606  1.000000   -0.067350  0.474009   \n",
              "score_buro             -0.188628 -0.224206 -0.067350    1.000000  0.006687   \n",
              "porc_eng                0.027921 -0.357969  0.474009    0.006687  1.000000   \n",
              "semana_actual           0.026692  0.119593 -0.304266   -0.454738 -0.095722   \n",
              "edad_cliente           -0.010285 -0.000916  0.019927   -0.028241 -0.004220   \n",
              "\n",
              "                  semana_actual  edad_cliente  \n",
              "folio                 -0.819061      0.047807  \n",
              "folio_solicitud       -0.796687      0.050747  \n",
              "precio                -0.030421     -0.017580  \n",
              "enganche              -0.094174     -0.013917  \n",
              "descuento             -0.112215      0.012399  \n",
              "semana                -0.189936     -0.018346  \n",
              "monto_financiado      -0.002362     -0.014611  \n",
              "costo_total            0.104572     -0.008483  \n",
              "monto_accesorios      -0.059894      0.034490  \n",
              "status                -0.006862     -0.018195  \n",
              "fraude                 0.131246      0.008995  \n",
              "inversion              0.091410     -0.021410  \n",
              "pagos_realizados       0.383564     -0.014689  \n",
              "reautorizacion         0.026692     -0.010285  \n",
              "puntos                 0.119593     -0.000916  \n",
              "riesgo                -0.304266      0.019927  \n",
              "score_buro            -0.454738     -0.028241  \n",
              "porc_eng              -0.095722     -0.004220  \n",
              "semana_actual          1.000000     -0.041991  \n",
              "edad_cliente          -0.041991      1.000000  "
            ],
            "text/html": [
              "\n",
              "  <div id=\"df-78175c5b-6227-44d0-b020-9273eaa61c85\" class=\"colab-df-container\">\n",
              "    <div>\n",
              "<style scoped>\n",
              "    .dataframe tbody tr th:only-of-type {\n",
              "        vertical-align: middle;\n",
              "    }\n",
              "\n",
              "    .dataframe tbody tr th {\n",
              "        vertical-align: top;\n",
              "    }\n",
              "\n",
              "    .dataframe thead th {\n",
              "        text-align: right;\n",
              "    }\n",
              "</style>\n",
              "<table border=\"1\" class=\"dataframe\">\n",
              "  <thead>\n",
              "    <tr style=\"text-align: right;\">\n",
              "      <th></th>\n",
              "      <th>folio</th>\n",
              "      <th>folio_solicitud</th>\n",
              "      <th>precio</th>\n",
              "      <th>enganche</th>\n",
              "      <th>descuento</th>\n",
              "      <th>semana</th>\n",
              "      <th>monto_financiado</th>\n",
              "      <th>costo_total</th>\n",
              "      <th>monto_accesorios</th>\n",
              "      <th>status</th>\n",
              "      <th>fraude</th>\n",
              "      <th>inversion</th>\n",
              "      <th>pagos_realizados</th>\n",
              "      <th>reautorizacion</th>\n",
              "      <th>puntos</th>\n",
              "      <th>riesgo</th>\n",
              "      <th>score_buro</th>\n",
              "      <th>porc_eng</th>\n",
              "      <th>semana_actual</th>\n",
              "      <th>edad_cliente</th>\n",
              "    </tr>\n",
              "  </thead>\n",
              "  <tbody>\n",
              "    <tr>\n",
              "      <th>folio</th>\n",
              "      <td>1.000000</td>\n",
              "      <td>0.971332</td>\n",
              "      <td>0.098971</td>\n",
              "      <td>0.124622</td>\n",
              "      <td>0.130377</td>\n",
              "      <td>0.094659</td>\n",
              "      <td>0.075446</td>\n",
              "      <td>0.027103</td>\n",
              "      <td>0.081637</td>\n",
              "      <td>-0.381641</td>\n",
              "      <td>-0.051590</td>\n",
              "      <td>-0.139744</td>\n",
              "      <td>-0.477863</td>\n",
              "      <td>-0.267134</td>\n",
              "      <td>-0.120736</td>\n",
              "      <td>0.352654</td>\n",
              "      <td>0.548206</td>\n",
              "      <td>0.069327</td>\n",
              "      <td>-0.819061</td>\n",
              "      <td>0.047807</td>\n",
              "    </tr>\n",
              "    <tr>\n",
              "      <th>folio_solicitud</th>\n",
              "      <td>0.971332</td>\n",
              "      <td>1.000000</td>\n",
              "      <td>0.099934</td>\n",
              "      <td>0.121863</td>\n",
              "      <td>0.127074</td>\n",
              "      <td>0.097633</td>\n",
              "      <td>0.077342</td>\n",
              "      <td>0.029438</td>\n",
              "      <td>0.071465</td>\n",
              "      <td>-0.378045</td>\n",
              "      <td>-0.051017</td>\n",
              "      <td>-0.130940</td>\n",
              "      <td>-0.467299</td>\n",
              "      <td>-0.250896</td>\n",
              "      <td>-0.136859</td>\n",
              "      <td>0.340098</td>\n",
              "      <td>0.527624</td>\n",
              "      <td>0.063868</td>\n",
              "      <td>-0.796687</td>\n",
              "      <td>0.050747</td>\n",
              "    </tr>\n",
              "    <tr>\n",
              "      <th>precio</th>\n",
              "      <td>0.098971</td>\n",
              "      <td>0.099934</td>\n",
              "      <td>1.000000</td>\n",
              "      <td>0.678519</td>\n",
              "      <td>0.009883</td>\n",
              "      <td>0.672673</td>\n",
              "      <td>0.947080</td>\n",
              "      <td>0.872403</td>\n",
              "      <td>0.019097</td>\n",
              "      <td>-0.096183</td>\n",
              "      <td>0.060723</td>\n",
              "      <td>0.004445</td>\n",
              "      <td>0.017000</td>\n",
              "      <td>-0.057546</td>\n",
              "      <td>0.073077</td>\n",
              "      <td>-0.042888</td>\n",
              "      <td>0.080220</td>\n",
              "      <td>-0.011328</td>\n",
              "      <td>-0.030421</td>\n",
              "      <td>-0.017580</td>\n",
              "    </tr>\n",
              "    <tr>\n",
              "      <th>enganche</th>\n",
              "      <td>0.124622</td>\n",
              "      <td>0.121863</td>\n",
              "      <td>0.678519</td>\n",
              "      <td>1.000000</td>\n",
              "      <td>-0.025689</td>\n",
              "      <td>0.339912</td>\n",
              "      <td>0.408276</td>\n",
              "      <td>0.355694</td>\n",
              "      <td>0.031409</td>\n",
              "      <td>-0.032450</td>\n",
              "      <td>0.051645</td>\n",
              "      <td>-0.071798</td>\n",
              "      <td>-0.080730</td>\n",
              "      <td>-0.022209</td>\n",
              "      <td>-0.175815</td>\n",
              "      <td>0.272575</td>\n",
              "      <td>0.059764</td>\n",
              "      <td>0.676520</td>\n",
              "      <td>-0.094174</td>\n",
              "      <td>-0.013917</td>\n",
              "    </tr>\n",
              "    <tr>\n",
              "      <th>descuento</th>\n",
              "      <td>0.130377</td>\n",
              "      <td>0.127074</td>\n",
              "      <td>0.009883</td>\n",
              "      <td>-0.025689</td>\n",
              "      <td>1.000000</td>\n",
              "      <td>-0.026317</td>\n",
              "      <td>0.024136</td>\n",
              "      <td>0.036940</td>\n",
              "      <td>-0.006212</td>\n",
              "      <td>-0.076093</td>\n",
              "      <td>-0.035743</td>\n",
              "      <td>0.240813</td>\n",
              "      <td>0.040920</td>\n",
              "      <td>-0.016730</td>\n",
              "      <td>-0.087252</td>\n",
              "      <td>0.036555</td>\n",
              "      <td>0.103998</td>\n",
              "      <td>-0.050813</td>\n",
              "      <td>-0.112215</td>\n",
              "      <td>0.012399</td>\n",
              "    </tr>\n",
              "    <tr>\n",
              "      <th>semana</th>\n",
              "      <td>0.094659</td>\n",
              "      <td>0.097633</td>\n",
              "      <td>0.672673</td>\n",
              "      <td>0.339912</td>\n",
              "      <td>-0.026317</td>\n",
              "      <td>1.000000</td>\n",
              "      <td>0.688111</td>\n",
              "      <td>0.411911</td>\n",
              "      <td>0.028635</td>\n",
              "      <td>0.143145</td>\n",
              "      <td>0.028683</td>\n",
              "      <td>0.036724</td>\n",
              "      <td>-0.133589</td>\n",
              "      <td>0.006011</td>\n",
              "      <td>0.084821</td>\n",
              "      <td>-0.091175</td>\n",
              "      <td>0.072555</td>\n",
              "      <td>-0.158246</td>\n",
              "      <td>-0.189936</td>\n",
              "      <td>-0.018346</td>\n",
              "    </tr>\n",
              "    <tr>\n",
              "      <th>monto_financiado</th>\n",
              "      <td>0.075446</td>\n",
              "      <td>0.077342</td>\n",
              "      <td>0.947080</td>\n",
              "      <td>0.408276</td>\n",
              "      <td>0.024136</td>\n",
              "      <td>0.688111</td>\n",
              "      <td>1.000000</td>\n",
              "      <td>0.929859</td>\n",
              "      <td>0.030831</td>\n",
              "      <td>-0.108464</td>\n",
              "      <td>0.052949</td>\n",
              "      <td>0.036326</td>\n",
              "      <td>0.052593</td>\n",
              "      <td>-0.062734</td>\n",
              "      <td>0.165852</td>\n",
              "      <td>-0.169037</td>\n",
              "      <td>0.076027</td>\n",
              "      <td>-0.307681</td>\n",
              "      <td>-0.002362</td>\n",
              "      <td>-0.014611</td>\n",
              "    </tr>\n",
              "    <tr>\n",
              "      <th>costo_total</th>\n",
              "      <td>0.027103</td>\n",
              "      <td>0.029438</td>\n",
              "      <td>0.872403</td>\n",
              "      <td>0.355694</td>\n",
              "      <td>0.036940</td>\n",
              "      <td>0.411911</td>\n",
              "      <td>0.929859</td>\n",
              "      <td>1.000000</td>\n",
              "      <td>0.063101</td>\n",
              "      <td>-0.195627</td>\n",
              "      <td>0.060782</td>\n",
              "      <td>0.024614</td>\n",
              "      <td>0.132380</td>\n",
              "      <td>-0.086438</td>\n",
              "      <td>0.159682</td>\n",
              "      <td>-0.171733</td>\n",
              "      <td>0.060079</td>\n",
              "      <td>-0.305885</td>\n",
              "      <td>0.104572</td>\n",
              "      <td>-0.008483</td>\n",
              "    </tr>\n",
              "    <tr>\n",
              "      <th>monto_accesorios</th>\n",
              "      <td>0.081637</td>\n",
              "      <td>0.071465</td>\n",
              "      <td>0.019097</td>\n",
              "      <td>0.031409</td>\n",
              "      <td>-0.006212</td>\n",
              "      <td>0.028635</td>\n",
              "      <td>0.030831</td>\n",
              "      <td>0.063101</td>\n",
              "      <td>1.000000</td>\n",
              "      <td>-0.043031</td>\n",
              "      <td>0.029445</td>\n",
              "      <td>-0.050677</td>\n",
              "      <td>-0.062232</td>\n",
              "      <td>-0.026971</td>\n",
              "      <td>-0.040392</td>\n",
              "      <td>0.078120</td>\n",
              "      <td>0.039010</td>\n",
              "      <td>0.029359</td>\n",
              "      <td>-0.059894</td>\n",
              "      <td>0.034490</td>\n",
              "    </tr>\n",
              "    <tr>\n",
              "      <th>status</th>\n",
              "      <td>-0.381641</td>\n",
              "      <td>-0.378045</td>\n",
              "      <td>-0.096183</td>\n",
              "      <td>-0.032450</td>\n",
              "      <td>-0.076093</td>\n",
              "      <td>0.143145</td>\n",
              "      <td>-0.108464</td>\n",
              "      <td>-0.195627</td>\n",
              "      <td>-0.043031</td>\n",
              "      <td>1.000000</td>\n",
              "      <td>-0.155148</td>\n",
              "      <td>0.077710</td>\n",
              "      <td>0.251670</td>\n",
              "      <td>0.281953</td>\n",
              "      <td>0.062583</td>\n",
              "      <td>-0.143361</td>\n",
              "      <td>-0.240651</td>\n",
              "      <td>0.049292</td>\n",
              "      <td>-0.006862</td>\n",
              "      <td>-0.018195</td>\n",
              "    </tr>\n",
              "    <tr>\n",
              "      <th>fraude</th>\n",
              "      <td>-0.051590</td>\n",
              "      <td>-0.051017</td>\n",
              "      <td>0.060723</td>\n",
              "      <td>0.051645</td>\n",
              "      <td>-0.035743</td>\n",
              "      <td>0.028683</td>\n",
              "      <td>0.052949</td>\n",
              "      <td>0.060782</td>\n",
              "      <td>0.029445</td>\n",
              "      <td>-0.155148</td>\n",
              "      <td>1.000000</td>\n",
              "      <td>-0.045808</td>\n",
              "      <td>-0.290140</td>\n",
              "      <td>-0.053387</td>\n",
              "      <td>-0.000143</td>\n",
              "      <td>0.033686</td>\n",
              "      <td>-0.024286</td>\n",
              "      <td>0.023888</td>\n",
              "      <td>0.131246</td>\n",
              "      <td>0.008995</td>\n",
              "    </tr>\n",
              "    <tr>\n",
              "      <th>inversion</th>\n",
              "      <td>-0.139744</td>\n",
              "      <td>-0.130940</td>\n",
              "      <td>0.004445</td>\n",
              "      <td>-0.071798</td>\n",
              "      <td>0.240813</td>\n",
              "      <td>0.036724</td>\n",
              "      <td>0.036326</td>\n",
              "      <td>0.024614</td>\n",
              "      <td>-0.050677</td>\n",
              "      <td>0.077710</td>\n",
              "      <td>-0.045808</td>\n",
              "      <td>1.000000</td>\n",
              "      <td>0.183455</td>\n",
              "      <td>0.083254</td>\n",
              "      <td>0.079687</td>\n",
              "      <td>-0.134503</td>\n",
              "      <td>-0.097543</td>\n",
              "      <td>-0.131851</td>\n",
              "      <td>0.091410</td>\n",
              "      <td>-0.021410</td>\n",
              "    </tr>\n",
              "    <tr>\n",
              "      <th>pagos_realizados</th>\n",
              "      <td>-0.477863</td>\n",
              "      <td>-0.467299</td>\n",
              "      <td>0.017000</td>\n",
              "      <td>-0.080730</td>\n",
              "      <td>0.040920</td>\n",
              "      <td>-0.133589</td>\n",
              "      <td>0.052593</td>\n",
              "      <td>0.132380</td>\n",
              "      <td>-0.062232</td>\n",
              "      <td>0.251670</td>\n",
              "      <td>-0.290140</td>\n",
              "      <td>0.183455</td>\n",
              "      <td>1.000000</td>\n",
              "      <td>0.191830</td>\n",
              "      <td>0.173756</td>\n",
              "      <td>-0.239008</td>\n",
              "      <td>-0.220372</td>\n",
              "      <td>-0.143488</td>\n",
              "      <td>0.383564</td>\n",
              "      <td>-0.014689</td>\n",
              "    </tr>\n",
              "    <tr>\n",
              "      <th>reautorizacion</th>\n",
              "      <td>-0.267134</td>\n",
              "      <td>-0.250896</td>\n",
              "      <td>-0.057546</td>\n",
              "      <td>-0.022209</td>\n",
              "      <td>-0.016730</td>\n",
              "      <td>0.006011</td>\n",
              "      <td>-0.062734</td>\n",
              "      <td>-0.086438</td>\n",
              "      <td>-0.026971</td>\n",
              "      <td>0.281953</td>\n",
              "      <td>-0.053387</td>\n",
              "      <td>0.083254</td>\n",
              "      <td>0.191830</td>\n",
              "      <td>1.000000</td>\n",
              "      <td>-0.203217</td>\n",
              "      <td>-0.057144</td>\n",
              "      <td>-0.188628</td>\n",
              "      <td>0.027921</td>\n",
              "      <td>0.026692</td>\n",
              "      <td>-0.010285</td>\n",
              "    </tr>\n",
              "    <tr>\n",
              "      <th>puntos</th>\n",
              "      <td>-0.120736</td>\n",
              "      <td>-0.136859</td>\n",
              "      <td>0.073077</td>\n",
              "      <td>-0.175815</td>\n",
              "      <td>-0.087252</td>\n",
              "      <td>0.084821</td>\n",
              "      <td>0.165852</td>\n",
              "      <td>0.159682</td>\n",
              "      <td>-0.040392</td>\n",
              "      <td>0.062583</td>\n",
              "      <td>-0.000143</td>\n",
              "      <td>0.079687</td>\n",
              "      <td>0.173756</td>\n",
              "      <td>-0.203217</td>\n",
              "      <td>1.000000</td>\n",
              "      <td>-0.455606</td>\n",
              "      <td>-0.224206</td>\n",
              "      <td>-0.357969</td>\n",
              "      <td>0.119593</td>\n",
              "      <td>-0.000916</td>\n",
              "    </tr>\n",
              "    <tr>\n",
              "      <th>riesgo</th>\n",
              "      <td>0.352654</td>\n",
              "      <td>0.340098</td>\n",
              "      <td>-0.042888</td>\n",
              "      <td>0.272575</td>\n",
              "      <td>0.036555</td>\n",
              "      <td>-0.091175</td>\n",
              "      <td>-0.169037</td>\n",
              "      <td>-0.171733</td>\n",
              "      <td>0.078120</td>\n",
              "      <td>-0.143361</td>\n",
              "      <td>0.033686</td>\n",
              "      <td>-0.134503</td>\n",
              "      <td>-0.239008</td>\n",
              "      <td>-0.057144</td>\n",
              "      <td>-0.455606</td>\n",
              "      <td>1.000000</td>\n",
              "      <td>-0.067350</td>\n",
              "      <td>0.474009</td>\n",
              "      <td>-0.304266</td>\n",
              "      <td>0.019927</td>\n",
              "    </tr>\n",
              "    <tr>\n",
              "      <th>score_buro</th>\n",
              "      <td>0.548206</td>\n",
              "      <td>0.527624</td>\n",
              "      <td>0.080220</td>\n",
              "      <td>0.059764</td>\n",
              "      <td>0.103998</td>\n",
              "      <td>0.072555</td>\n",
              "      <td>0.076027</td>\n",
              "      <td>0.060079</td>\n",
              "      <td>0.039010</td>\n",
              "      <td>-0.240651</td>\n",
              "      <td>-0.024286</td>\n",
              "      <td>-0.097543</td>\n",
              "      <td>-0.220372</td>\n",
              "      <td>-0.188628</td>\n",
              "      <td>-0.224206</td>\n",
              "      <td>-0.067350</td>\n",
              "      <td>1.000000</td>\n",
              "      <td>0.006687</td>\n",
              "      <td>-0.454738</td>\n",
              "      <td>-0.028241</td>\n",
              "    </tr>\n",
              "    <tr>\n",
              "      <th>porc_eng</th>\n",
              "      <td>0.069327</td>\n",
              "      <td>0.063868</td>\n",
              "      <td>-0.011328</td>\n",
              "      <td>0.676520</td>\n",
              "      <td>-0.050813</td>\n",
              "      <td>-0.158246</td>\n",
              "      <td>-0.307681</td>\n",
              "      <td>-0.305885</td>\n",
              "      <td>0.029359</td>\n",
              "      <td>0.049292</td>\n",
              "      <td>0.023888</td>\n",
              "      <td>-0.131851</td>\n",
              "      <td>-0.143488</td>\n",
              "      <td>0.027921</td>\n",
              "      <td>-0.357969</td>\n",
              "      <td>0.474009</td>\n",
              "      <td>0.006687</td>\n",
              "      <td>1.000000</td>\n",
              "      <td>-0.095722</td>\n",
              "      <td>-0.004220</td>\n",
              "    </tr>\n",
              "    <tr>\n",
              "      <th>semana_actual</th>\n",
              "      <td>-0.819061</td>\n",
              "      <td>-0.796687</td>\n",
              "      <td>-0.030421</td>\n",
              "      <td>-0.094174</td>\n",
              "      <td>-0.112215</td>\n",
              "      <td>-0.189936</td>\n",
              "      <td>-0.002362</td>\n",
              "      <td>0.104572</td>\n",
              "      <td>-0.059894</td>\n",
              "      <td>-0.006862</td>\n",
              "      <td>0.131246</td>\n",
              "      <td>0.091410</td>\n",
              "      <td>0.383564</td>\n",
              "      <td>0.026692</td>\n",
              "      <td>0.119593</td>\n",
              "      <td>-0.304266</td>\n",
              "      <td>-0.454738</td>\n",
              "      <td>-0.095722</td>\n",
              "      <td>1.000000</td>\n",
              "      <td>-0.041991</td>\n",
              "    </tr>\n",
              "    <tr>\n",
              "      <th>edad_cliente</th>\n",
              "      <td>0.047807</td>\n",
              "      <td>0.050747</td>\n",
              "      <td>-0.017580</td>\n",
              "      <td>-0.013917</td>\n",
              "      <td>0.012399</td>\n",
              "      <td>-0.018346</td>\n",
              "      <td>-0.014611</td>\n",
              "      <td>-0.008483</td>\n",
              "      <td>0.034490</td>\n",
              "      <td>-0.018195</td>\n",
              "      <td>0.008995</td>\n",
              "      <td>-0.021410</td>\n",
              "      <td>-0.014689</td>\n",
              "      <td>-0.010285</td>\n",
              "      <td>-0.000916</td>\n",
              "      <td>0.019927</td>\n",
              "      <td>-0.028241</td>\n",
              "      <td>-0.004220</td>\n",
              "      <td>-0.041991</td>\n",
              "      <td>1.000000</td>\n",
              "    </tr>\n",
              "  </tbody>\n",
              "</table>\n",
              "</div>\n",
              "    <div class=\"colab-df-buttons\">\n",
              "\n",
              "  <div class=\"colab-df-container\">\n",
              "    <button class=\"colab-df-convert\" onclick=\"convertToInteractive('df-78175c5b-6227-44d0-b020-9273eaa61c85')\"\n",
              "            title=\"Convert this dataframe to an interactive table.\"\n",
              "            style=\"display:none;\">\n",
              "\n",
              "  <svg xmlns=\"http://www.w3.org/2000/svg\" height=\"24px\" viewBox=\"0 -960 960 960\">\n",
              "    <path d=\"M120-120v-720h720v720H120Zm60-500h600v-160H180v160Zm220 220h160v-160H400v160Zm0 220h160v-160H400v160ZM180-400h160v-160H180v160Zm440 0h160v-160H620v160ZM180-180h160v-160H180v160Zm440 0h160v-160H620v160Z\"/>\n",
              "  </svg>\n",
              "    </button>\n",
              "\n",
              "  <style>\n",
              "    .colab-df-container {\n",
              "      display:flex;\n",
              "      gap: 12px;\n",
              "    }\n",
              "\n",
              "    .colab-df-convert {\n",
              "      background-color: #E8F0FE;\n",
              "      border: none;\n",
              "      border-radius: 50%;\n",
              "      cursor: pointer;\n",
              "      display: none;\n",
              "      fill: #1967D2;\n",
              "      height: 32px;\n",
              "      padding: 0 0 0 0;\n",
              "      width: 32px;\n",
              "    }\n",
              "\n",
              "    .colab-df-convert:hover {\n",
              "      background-color: #E2EBFA;\n",
              "      box-shadow: 0px 1px 2px rgba(60, 64, 67, 0.3), 0px 1px 3px 1px rgba(60, 64, 67, 0.15);\n",
              "      fill: #174EA6;\n",
              "    }\n",
              "\n",
              "    .colab-df-buttons div {\n",
              "      margin-bottom: 4px;\n",
              "    }\n",
              "\n",
              "    [theme=dark] .colab-df-convert {\n",
              "      background-color: #3B4455;\n",
              "      fill: #D2E3FC;\n",
              "    }\n",
              "\n",
              "    [theme=dark] .colab-df-convert:hover {\n",
              "      background-color: #434B5C;\n",
              "      box-shadow: 0px 1px 3px 1px rgba(0, 0, 0, 0.15);\n",
              "      filter: drop-shadow(0px 1px 2px rgba(0, 0, 0, 0.3));\n",
              "      fill: #FFFFFF;\n",
              "    }\n",
              "  </style>\n",
              "\n",
              "    <script>\n",
              "      const buttonEl =\n",
              "        document.querySelector('#df-78175c5b-6227-44d0-b020-9273eaa61c85 button.colab-df-convert');\n",
              "      buttonEl.style.display =\n",
              "        google.colab.kernel.accessAllowed ? 'block' : 'none';\n",
              "\n",
              "      async function convertToInteractive(key) {\n",
              "        const element = document.querySelector('#df-78175c5b-6227-44d0-b020-9273eaa61c85');\n",
              "        const dataTable =\n",
              "          await google.colab.kernel.invokeFunction('convertToInteractive',\n",
              "                                                    [key], {});\n",
              "        if (!dataTable) return;\n",
              "\n",
              "        const docLinkHtml = 'Like what you see? Visit the ' +\n",
              "          '<a target=\"_blank\" href=https://colab.research.google.com/notebooks/data_table.ipynb>data table notebook</a>'\n",
              "          + ' to learn more about interactive tables.';\n",
              "        element.innerHTML = '';\n",
              "        dataTable['output_type'] = 'display_data';\n",
              "        await google.colab.output.renderOutput(dataTable, element);\n",
              "        const docLink = document.createElement('div');\n",
              "        docLink.innerHTML = docLinkHtml;\n",
              "        element.appendChild(docLink);\n",
              "      }\n",
              "    </script>\n",
              "  </div>\n",
              "\n",
              "\n",
              "<div id=\"df-d0cbcac2-808d-4d1a-a5e8-78c796398cde\">\n",
              "  <button class=\"colab-df-quickchart\" onclick=\"quickchart('df-d0cbcac2-808d-4d1a-a5e8-78c796398cde')\"\n",
              "            title=\"Suggest charts.\"\n",
              "            style=\"display:none;\">\n",
              "\n",
              "<svg xmlns=\"http://www.w3.org/2000/svg\" height=\"24px\"viewBox=\"0 0 24 24\"\n",
              "     width=\"24px\">\n",
              "    <g>\n",
              "        <path d=\"M19 3H5c-1.1 0-2 .9-2 2v14c0 1.1.9 2 2 2h14c1.1 0 2-.9 2-2V5c0-1.1-.9-2-2-2zM9 17H7v-7h2v7zm4 0h-2V7h2v10zm4 0h-2v-4h2v4z\"/>\n",
              "    </g>\n",
              "</svg>\n",
              "  </button>\n",
              "\n",
              "<style>\n",
              "  .colab-df-quickchart {\n",
              "      --bg-color: #E8F0FE;\n",
              "      --fill-color: #1967D2;\n",
              "      --hover-bg-color: #E2EBFA;\n",
              "      --hover-fill-color: #174EA6;\n",
              "      --disabled-fill-color: #AAA;\n",
              "      --disabled-bg-color: #DDD;\n",
              "  }\n",
              "\n",
              "  [theme=dark] .colab-df-quickchart {\n",
              "      --bg-color: #3B4455;\n",
              "      --fill-color: #D2E3FC;\n",
              "      --hover-bg-color: #434B5C;\n",
              "      --hover-fill-color: #FFFFFF;\n",
              "      --disabled-bg-color: #3B4455;\n",
              "      --disabled-fill-color: #666;\n",
              "  }\n",
              "\n",
              "  .colab-df-quickchart {\n",
              "    background-color: var(--bg-color);\n",
              "    border: none;\n",
              "    border-radius: 50%;\n",
              "    cursor: pointer;\n",
              "    display: none;\n",
              "    fill: var(--fill-color);\n",
              "    height: 32px;\n",
              "    padding: 0;\n",
              "    width: 32px;\n",
              "  }\n",
              "\n",
              "  .colab-df-quickchart:hover {\n",
              "    background-color: var(--hover-bg-color);\n",
              "    box-shadow: 0 1px 2px rgba(60, 64, 67, 0.3), 0 1px 3px 1px rgba(60, 64, 67, 0.15);\n",
              "    fill: var(--button-hover-fill-color);\n",
              "  }\n",
              "\n",
              "  .colab-df-quickchart-complete:disabled,\n",
              "  .colab-df-quickchart-complete:disabled:hover {\n",
              "    background-color: var(--disabled-bg-color);\n",
              "    fill: var(--disabled-fill-color);\n",
              "    box-shadow: none;\n",
              "  }\n",
              "\n",
              "  .colab-df-spinner {\n",
              "    border: 2px solid var(--fill-color);\n",
              "    border-color: transparent;\n",
              "    border-bottom-color: var(--fill-color);\n",
              "    animation:\n",
              "      spin 1s steps(1) infinite;\n",
              "  }\n",
              "\n",
              "  @keyframes spin {\n",
              "    0% {\n",
              "      border-color: transparent;\n",
              "      border-bottom-color: var(--fill-color);\n",
              "      border-left-color: var(--fill-color);\n",
              "    }\n",
              "    20% {\n",
              "      border-color: transparent;\n",
              "      border-left-color: var(--fill-color);\n",
              "      border-top-color: var(--fill-color);\n",
              "    }\n",
              "    30% {\n",
              "      border-color: transparent;\n",
              "      border-left-color: var(--fill-color);\n",
              "      border-top-color: var(--fill-color);\n",
              "      border-right-color: var(--fill-color);\n",
              "    }\n",
              "    40% {\n",
              "      border-color: transparent;\n",
              "      border-right-color: var(--fill-color);\n",
              "      border-top-color: var(--fill-color);\n",
              "    }\n",
              "    60% {\n",
              "      border-color: transparent;\n",
              "      border-right-color: var(--fill-color);\n",
              "    }\n",
              "    80% {\n",
              "      border-color: transparent;\n",
              "      border-right-color: var(--fill-color);\n",
              "      border-bottom-color: var(--fill-color);\n",
              "    }\n",
              "    90% {\n",
              "      border-color: transparent;\n",
              "      border-bottom-color: var(--fill-color);\n",
              "    }\n",
              "  }\n",
              "</style>\n",
              "\n",
              "  <script>\n",
              "    async function quickchart(key) {\n",
              "      const quickchartButtonEl =\n",
              "        document.querySelector('#' + key + ' button');\n",
              "      quickchartButtonEl.disabled = true;  // To prevent multiple clicks.\n",
              "      quickchartButtonEl.classList.add('colab-df-spinner');\n",
              "      try {\n",
              "        const charts = await google.colab.kernel.invokeFunction(\n",
              "            'suggestCharts', [key], {});\n",
              "      } catch (error) {\n",
              "        console.error('Error during call to suggestCharts:', error);\n",
              "      }\n",
              "      quickchartButtonEl.classList.remove('colab-df-spinner');\n",
              "      quickchartButtonEl.classList.add('colab-df-quickchart-complete');\n",
              "    }\n",
              "    (() => {\n",
              "      let quickchartButtonEl =\n",
              "        document.querySelector('#df-d0cbcac2-808d-4d1a-a5e8-78c796398cde button');\n",
              "      quickchartButtonEl.style.display =\n",
              "        google.colab.kernel.accessAllowed ? 'block' : 'none';\n",
              "    })();\n",
              "  </script>\n",
              "</div>\n",
              "    </div>\n",
              "  </div>\n"
            ]
          },
          "metadata": {},
          "execution_count": 366
        }
      ]
    },
    {
      "cell_type": "code",
      "source": [
        "matriz.n = np.abs(matriz)\n",
        "matriz.n"
      ],
      "metadata": {
        "colab": {
          "base_uri": "https://localhost:8080/",
          "height": 731
        },
        "id": "VTSqiWvxiJMp",
        "outputId": "ceb61e06-c335-4917-c1d6-9caadb0bd3ed"
      },
      "execution_count": 367,
      "outputs": [
        {
          "output_type": "stream",
          "name": "stderr",
          "text": [
            "<ipython-input-367-eedb82ff93a6>:1: UserWarning: Pandas doesn't allow columns to be created via a new attribute name - see https://pandas.pydata.org/pandas-docs/stable/indexing.html#attribute-access\n",
            "  matriz.n = np.abs(matriz)\n"
          ]
        },
        {
          "output_type": "execute_result",
          "data": {
            "text/plain": [
              "                     folio  folio_solicitud    precio  enganche  descuento  \\\n",
              "folio             1.000000         0.971332  0.098971  0.124622   0.130377   \n",
              "folio_solicitud   0.971332         1.000000  0.099934  0.121863   0.127074   \n",
              "precio            0.098971         0.099934  1.000000  0.678519   0.009883   \n",
              "enganche          0.124622         0.121863  0.678519  1.000000   0.025689   \n",
              "descuento         0.130377         0.127074  0.009883  0.025689   1.000000   \n",
              "semana            0.094659         0.097633  0.672673  0.339912   0.026317   \n",
              "monto_financiado  0.075446         0.077342  0.947080  0.408276   0.024136   \n",
              "costo_total       0.027103         0.029438  0.872403  0.355694   0.036940   \n",
              "monto_accesorios  0.081637         0.071465  0.019097  0.031409   0.006212   \n",
              "status            0.381641         0.378045  0.096183  0.032450   0.076093   \n",
              "fraude            0.051590         0.051017  0.060723  0.051645   0.035743   \n",
              "inversion         0.139744         0.130940  0.004445  0.071798   0.240813   \n",
              "pagos_realizados  0.477863         0.467299  0.017000  0.080730   0.040920   \n",
              "reautorizacion    0.267134         0.250896  0.057546  0.022209   0.016730   \n",
              "puntos            0.120736         0.136859  0.073077  0.175815   0.087252   \n",
              "riesgo            0.352654         0.340098  0.042888  0.272575   0.036555   \n",
              "score_buro        0.548206         0.527624  0.080220  0.059764   0.103998   \n",
              "porc_eng          0.069327         0.063868  0.011328  0.676520   0.050813   \n",
              "semana_actual     0.819061         0.796687  0.030421  0.094174   0.112215   \n",
              "edad_cliente      0.047807         0.050747  0.017580  0.013917   0.012399   \n",
              "\n",
              "                    semana  monto_financiado  costo_total  monto_accesorios  \\\n",
              "folio             0.094659          0.075446     0.027103          0.081637   \n",
              "folio_solicitud   0.097633          0.077342     0.029438          0.071465   \n",
              "precio            0.672673          0.947080     0.872403          0.019097   \n",
              "enganche          0.339912          0.408276     0.355694          0.031409   \n",
              "descuento         0.026317          0.024136     0.036940          0.006212   \n",
              "semana            1.000000          0.688111     0.411911          0.028635   \n",
              "monto_financiado  0.688111          1.000000     0.929859          0.030831   \n",
              "costo_total       0.411911          0.929859     1.000000          0.063101   \n",
              "monto_accesorios  0.028635          0.030831     0.063101          1.000000   \n",
              "status            0.143145          0.108464     0.195627          0.043031   \n",
              "fraude            0.028683          0.052949     0.060782          0.029445   \n",
              "inversion         0.036724          0.036326     0.024614          0.050677   \n",
              "pagos_realizados  0.133589          0.052593     0.132380          0.062232   \n",
              "reautorizacion    0.006011          0.062734     0.086438          0.026971   \n",
              "puntos            0.084821          0.165852     0.159682          0.040392   \n",
              "riesgo            0.091175          0.169037     0.171733          0.078120   \n",
              "score_buro        0.072555          0.076027     0.060079          0.039010   \n",
              "porc_eng          0.158246          0.307681     0.305885          0.029359   \n",
              "semana_actual     0.189936          0.002362     0.104572          0.059894   \n",
              "edad_cliente      0.018346          0.014611     0.008483          0.034490   \n",
              "\n",
              "                    status    fraude  inversion  pagos_realizados  \\\n",
              "folio             0.381641  0.051590   0.139744          0.477863   \n",
              "folio_solicitud   0.378045  0.051017   0.130940          0.467299   \n",
              "precio            0.096183  0.060723   0.004445          0.017000   \n",
              "enganche          0.032450  0.051645   0.071798          0.080730   \n",
              "descuento         0.076093  0.035743   0.240813          0.040920   \n",
              "semana            0.143145  0.028683   0.036724          0.133589   \n",
              "monto_financiado  0.108464  0.052949   0.036326          0.052593   \n",
              "costo_total       0.195627  0.060782   0.024614          0.132380   \n",
              "monto_accesorios  0.043031  0.029445   0.050677          0.062232   \n",
              "status            1.000000  0.155148   0.077710          0.251670   \n",
              "fraude            0.155148  1.000000   0.045808          0.290140   \n",
              "inversion         0.077710  0.045808   1.000000          0.183455   \n",
              "pagos_realizados  0.251670  0.290140   0.183455          1.000000   \n",
              "reautorizacion    0.281953  0.053387   0.083254          0.191830   \n",
              "puntos            0.062583  0.000143   0.079687          0.173756   \n",
              "riesgo            0.143361  0.033686   0.134503          0.239008   \n",
              "score_buro        0.240651  0.024286   0.097543          0.220372   \n",
              "porc_eng          0.049292  0.023888   0.131851          0.143488   \n",
              "semana_actual     0.006862  0.131246   0.091410          0.383564   \n",
              "edad_cliente      0.018195  0.008995   0.021410          0.014689   \n",
              "\n",
              "                  reautorizacion    puntos    riesgo  score_buro  porc_eng  \\\n",
              "folio                   0.267134  0.120736  0.352654    0.548206  0.069327   \n",
              "folio_solicitud         0.250896  0.136859  0.340098    0.527624  0.063868   \n",
              "precio                  0.057546  0.073077  0.042888    0.080220  0.011328   \n",
              "enganche                0.022209  0.175815  0.272575    0.059764  0.676520   \n",
              "descuento               0.016730  0.087252  0.036555    0.103998  0.050813   \n",
              "semana                  0.006011  0.084821  0.091175    0.072555  0.158246   \n",
              "monto_financiado        0.062734  0.165852  0.169037    0.076027  0.307681   \n",
              "costo_total             0.086438  0.159682  0.171733    0.060079  0.305885   \n",
              "monto_accesorios        0.026971  0.040392  0.078120    0.039010  0.029359   \n",
              "status                  0.281953  0.062583  0.143361    0.240651  0.049292   \n",
              "fraude                  0.053387  0.000143  0.033686    0.024286  0.023888   \n",
              "inversion               0.083254  0.079687  0.134503    0.097543  0.131851   \n",
              "pagos_realizados        0.191830  0.173756  0.239008    0.220372  0.143488   \n",
              "reautorizacion          1.000000  0.203217  0.057144    0.188628  0.027921   \n",
              "puntos                  0.203217  1.000000  0.455606    0.224206  0.357969   \n",
              "riesgo                  0.057144  0.455606  1.000000    0.067350  0.474009   \n",
              "score_buro              0.188628  0.224206  0.067350    1.000000  0.006687   \n",
              "porc_eng                0.027921  0.357969  0.474009    0.006687  1.000000   \n",
              "semana_actual           0.026692  0.119593  0.304266    0.454738  0.095722   \n",
              "edad_cliente            0.010285  0.000916  0.019927    0.028241  0.004220   \n",
              "\n",
              "                  semana_actual  edad_cliente  \n",
              "folio                  0.819061      0.047807  \n",
              "folio_solicitud        0.796687      0.050747  \n",
              "precio                 0.030421      0.017580  \n",
              "enganche               0.094174      0.013917  \n",
              "descuento              0.112215      0.012399  \n",
              "semana                 0.189936      0.018346  \n",
              "monto_financiado       0.002362      0.014611  \n",
              "costo_total            0.104572      0.008483  \n",
              "monto_accesorios       0.059894      0.034490  \n",
              "status                 0.006862      0.018195  \n",
              "fraude                 0.131246      0.008995  \n",
              "inversion              0.091410      0.021410  \n",
              "pagos_realizados       0.383564      0.014689  \n",
              "reautorizacion         0.026692      0.010285  \n",
              "puntos                 0.119593      0.000916  \n",
              "riesgo                 0.304266      0.019927  \n",
              "score_buro             0.454738      0.028241  \n",
              "porc_eng               0.095722      0.004220  \n",
              "semana_actual          1.000000      0.041991  \n",
              "edad_cliente           0.041991      1.000000  "
            ],
            "text/html": [
              "\n",
              "  <div id=\"df-59afb5e4-c788-43a6-97b1-f8d1d532855a\" class=\"colab-df-container\">\n",
              "    <div>\n",
              "<style scoped>\n",
              "    .dataframe tbody tr th:only-of-type {\n",
              "        vertical-align: middle;\n",
              "    }\n",
              "\n",
              "    .dataframe tbody tr th {\n",
              "        vertical-align: top;\n",
              "    }\n",
              "\n",
              "    .dataframe thead th {\n",
              "        text-align: right;\n",
              "    }\n",
              "</style>\n",
              "<table border=\"1\" class=\"dataframe\">\n",
              "  <thead>\n",
              "    <tr style=\"text-align: right;\">\n",
              "      <th></th>\n",
              "      <th>folio</th>\n",
              "      <th>folio_solicitud</th>\n",
              "      <th>precio</th>\n",
              "      <th>enganche</th>\n",
              "      <th>descuento</th>\n",
              "      <th>semana</th>\n",
              "      <th>monto_financiado</th>\n",
              "      <th>costo_total</th>\n",
              "      <th>monto_accesorios</th>\n",
              "      <th>status</th>\n",
              "      <th>fraude</th>\n",
              "      <th>inversion</th>\n",
              "      <th>pagos_realizados</th>\n",
              "      <th>reautorizacion</th>\n",
              "      <th>puntos</th>\n",
              "      <th>riesgo</th>\n",
              "      <th>score_buro</th>\n",
              "      <th>porc_eng</th>\n",
              "      <th>semana_actual</th>\n",
              "      <th>edad_cliente</th>\n",
              "    </tr>\n",
              "  </thead>\n",
              "  <tbody>\n",
              "    <tr>\n",
              "      <th>folio</th>\n",
              "      <td>1.000000</td>\n",
              "      <td>0.971332</td>\n",
              "      <td>0.098971</td>\n",
              "      <td>0.124622</td>\n",
              "      <td>0.130377</td>\n",
              "      <td>0.094659</td>\n",
              "      <td>0.075446</td>\n",
              "      <td>0.027103</td>\n",
              "      <td>0.081637</td>\n",
              "      <td>0.381641</td>\n",
              "      <td>0.051590</td>\n",
              "      <td>0.139744</td>\n",
              "      <td>0.477863</td>\n",
              "      <td>0.267134</td>\n",
              "      <td>0.120736</td>\n",
              "      <td>0.352654</td>\n",
              "      <td>0.548206</td>\n",
              "      <td>0.069327</td>\n",
              "      <td>0.819061</td>\n",
              "      <td>0.047807</td>\n",
              "    </tr>\n",
              "    <tr>\n",
              "      <th>folio_solicitud</th>\n",
              "      <td>0.971332</td>\n",
              "      <td>1.000000</td>\n",
              "      <td>0.099934</td>\n",
              "      <td>0.121863</td>\n",
              "      <td>0.127074</td>\n",
              "      <td>0.097633</td>\n",
              "      <td>0.077342</td>\n",
              "      <td>0.029438</td>\n",
              "      <td>0.071465</td>\n",
              "      <td>0.378045</td>\n",
              "      <td>0.051017</td>\n",
              "      <td>0.130940</td>\n",
              "      <td>0.467299</td>\n",
              "      <td>0.250896</td>\n",
              "      <td>0.136859</td>\n",
              "      <td>0.340098</td>\n",
              "      <td>0.527624</td>\n",
              "      <td>0.063868</td>\n",
              "      <td>0.796687</td>\n",
              "      <td>0.050747</td>\n",
              "    </tr>\n",
              "    <tr>\n",
              "      <th>precio</th>\n",
              "      <td>0.098971</td>\n",
              "      <td>0.099934</td>\n",
              "      <td>1.000000</td>\n",
              "      <td>0.678519</td>\n",
              "      <td>0.009883</td>\n",
              "      <td>0.672673</td>\n",
              "      <td>0.947080</td>\n",
              "      <td>0.872403</td>\n",
              "      <td>0.019097</td>\n",
              "      <td>0.096183</td>\n",
              "      <td>0.060723</td>\n",
              "      <td>0.004445</td>\n",
              "      <td>0.017000</td>\n",
              "      <td>0.057546</td>\n",
              "      <td>0.073077</td>\n",
              "      <td>0.042888</td>\n",
              "      <td>0.080220</td>\n",
              "      <td>0.011328</td>\n",
              "      <td>0.030421</td>\n",
              "      <td>0.017580</td>\n",
              "    </tr>\n",
              "    <tr>\n",
              "      <th>enganche</th>\n",
              "      <td>0.124622</td>\n",
              "      <td>0.121863</td>\n",
              "      <td>0.678519</td>\n",
              "      <td>1.000000</td>\n",
              "      <td>0.025689</td>\n",
              "      <td>0.339912</td>\n",
              "      <td>0.408276</td>\n",
              "      <td>0.355694</td>\n",
              "      <td>0.031409</td>\n",
              "      <td>0.032450</td>\n",
              "      <td>0.051645</td>\n",
              "      <td>0.071798</td>\n",
              "      <td>0.080730</td>\n",
              "      <td>0.022209</td>\n",
              "      <td>0.175815</td>\n",
              "      <td>0.272575</td>\n",
              "      <td>0.059764</td>\n",
              "      <td>0.676520</td>\n",
              "      <td>0.094174</td>\n",
              "      <td>0.013917</td>\n",
              "    </tr>\n",
              "    <tr>\n",
              "      <th>descuento</th>\n",
              "      <td>0.130377</td>\n",
              "      <td>0.127074</td>\n",
              "      <td>0.009883</td>\n",
              "      <td>0.025689</td>\n",
              "      <td>1.000000</td>\n",
              "      <td>0.026317</td>\n",
              "      <td>0.024136</td>\n",
              "      <td>0.036940</td>\n",
              "      <td>0.006212</td>\n",
              "      <td>0.076093</td>\n",
              "      <td>0.035743</td>\n",
              "      <td>0.240813</td>\n",
              "      <td>0.040920</td>\n",
              "      <td>0.016730</td>\n",
              "      <td>0.087252</td>\n",
              "      <td>0.036555</td>\n",
              "      <td>0.103998</td>\n",
              "      <td>0.050813</td>\n",
              "      <td>0.112215</td>\n",
              "      <td>0.012399</td>\n",
              "    </tr>\n",
              "    <tr>\n",
              "      <th>semana</th>\n",
              "      <td>0.094659</td>\n",
              "      <td>0.097633</td>\n",
              "      <td>0.672673</td>\n",
              "      <td>0.339912</td>\n",
              "      <td>0.026317</td>\n",
              "      <td>1.000000</td>\n",
              "      <td>0.688111</td>\n",
              "      <td>0.411911</td>\n",
              "      <td>0.028635</td>\n",
              "      <td>0.143145</td>\n",
              "      <td>0.028683</td>\n",
              "      <td>0.036724</td>\n",
              "      <td>0.133589</td>\n",
              "      <td>0.006011</td>\n",
              "      <td>0.084821</td>\n",
              "      <td>0.091175</td>\n",
              "      <td>0.072555</td>\n",
              "      <td>0.158246</td>\n",
              "      <td>0.189936</td>\n",
              "      <td>0.018346</td>\n",
              "    </tr>\n",
              "    <tr>\n",
              "      <th>monto_financiado</th>\n",
              "      <td>0.075446</td>\n",
              "      <td>0.077342</td>\n",
              "      <td>0.947080</td>\n",
              "      <td>0.408276</td>\n",
              "      <td>0.024136</td>\n",
              "      <td>0.688111</td>\n",
              "      <td>1.000000</td>\n",
              "      <td>0.929859</td>\n",
              "      <td>0.030831</td>\n",
              "      <td>0.108464</td>\n",
              "      <td>0.052949</td>\n",
              "      <td>0.036326</td>\n",
              "      <td>0.052593</td>\n",
              "      <td>0.062734</td>\n",
              "      <td>0.165852</td>\n",
              "      <td>0.169037</td>\n",
              "      <td>0.076027</td>\n",
              "      <td>0.307681</td>\n",
              "      <td>0.002362</td>\n",
              "      <td>0.014611</td>\n",
              "    </tr>\n",
              "    <tr>\n",
              "      <th>costo_total</th>\n",
              "      <td>0.027103</td>\n",
              "      <td>0.029438</td>\n",
              "      <td>0.872403</td>\n",
              "      <td>0.355694</td>\n",
              "      <td>0.036940</td>\n",
              "      <td>0.411911</td>\n",
              "      <td>0.929859</td>\n",
              "      <td>1.000000</td>\n",
              "      <td>0.063101</td>\n",
              "      <td>0.195627</td>\n",
              "      <td>0.060782</td>\n",
              "      <td>0.024614</td>\n",
              "      <td>0.132380</td>\n",
              "      <td>0.086438</td>\n",
              "      <td>0.159682</td>\n",
              "      <td>0.171733</td>\n",
              "      <td>0.060079</td>\n",
              "      <td>0.305885</td>\n",
              "      <td>0.104572</td>\n",
              "      <td>0.008483</td>\n",
              "    </tr>\n",
              "    <tr>\n",
              "      <th>monto_accesorios</th>\n",
              "      <td>0.081637</td>\n",
              "      <td>0.071465</td>\n",
              "      <td>0.019097</td>\n",
              "      <td>0.031409</td>\n",
              "      <td>0.006212</td>\n",
              "      <td>0.028635</td>\n",
              "      <td>0.030831</td>\n",
              "      <td>0.063101</td>\n",
              "      <td>1.000000</td>\n",
              "      <td>0.043031</td>\n",
              "      <td>0.029445</td>\n",
              "      <td>0.050677</td>\n",
              "      <td>0.062232</td>\n",
              "      <td>0.026971</td>\n",
              "      <td>0.040392</td>\n",
              "      <td>0.078120</td>\n",
              "      <td>0.039010</td>\n",
              "      <td>0.029359</td>\n",
              "      <td>0.059894</td>\n",
              "      <td>0.034490</td>\n",
              "    </tr>\n",
              "    <tr>\n",
              "      <th>status</th>\n",
              "      <td>0.381641</td>\n",
              "      <td>0.378045</td>\n",
              "      <td>0.096183</td>\n",
              "      <td>0.032450</td>\n",
              "      <td>0.076093</td>\n",
              "      <td>0.143145</td>\n",
              "      <td>0.108464</td>\n",
              "      <td>0.195627</td>\n",
              "      <td>0.043031</td>\n",
              "      <td>1.000000</td>\n",
              "      <td>0.155148</td>\n",
              "      <td>0.077710</td>\n",
              "      <td>0.251670</td>\n",
              "      <td>0.281953</td>\n",
              "      <td>0.062583</td>\n",
              "      <td>0.143361</td>\n",
              "      <td>0.240651</td>\n",
              "      <td>0.049292</td>\n",
              "      <td>0.006862</td>\n",
              "      <td>0.018195</td>\n",
              "    </tr>\n",
              "    <tr>\n",
              "      <th>fraude</th>\n",
              "      <td>0.051590</td>\n",
              "      <td>0.051017</td>\n",
              "      <td>0.060723</td>\n",
              "      <td>0.051645</td>\n",
              "      <td>0.035743</td>\n",
              "      <td>0.028683</td>\n",
              "      <td>0.052949</td>\n",
              "      <td>0.060782</td>\n",
              "      <td>0.029445</td>\n",
              "      <td>0.155148</td>\n",
              "      <td>1.000000</td>\n",
              "      <td>0.045808</td>\n",
              "      <td>0.290140</td>\n",
              "      <td>0.053387</td>\n",
              "      <td>0.000143</td>\n",
              "      <td>0.033686</td>\n",
              "      <td>0.024286</td>\n",
              "      <td>0.023888</td>\n",
              "      <td>0.131246</td>\n",
              "      <td>0.008995</td>\n",
              "    </tr>\n",
              "    <tr>\n",
              "      <th>inversion</th>\n",
              "      <td>0.139744</td>\n",
              "      <td>0.130940</td>\n",
              "      <td>0.004445</td>\n",
              "      <td>0.071798</td>\n",
              "      <td>0.240813</td>\n",
              "      <td>0.036724</td>\n",
              "      <td>0.036326</td>\n",
              "      <td>0.024614</td>\n",
              "      <td>0.050677</td>\n",
              "      <td>0.077710</td>\n",
              "      <td>0.045808</td>\n",
              "      <td>1.000000</td>\n",
              "      <td>0.183455</td>\n",
              "      <td>0.083254</td>\n",
              "      <td>0.079687</td>\n",
              "      <td>0.134503</td>\n",
              "      <td>0.097543</td>\n",
              "      <td>0.131851</td>\n",
              "      <td>0.091410</td>\n",
              "      <td>0.021410</td>\n",
              "    </tr>\n",
              "    <tr>\n",
              "      <th>pagos_realizados</th>\n",
              "      <td>0.477863</td>\n",
              "      <td>0.467299</td>\n",
              "      <td>0.017000</td>\n",
              "      <td>0.080730</td>\n",
              "      <td>0.040920</td>\n",
              "      <td>0.133589</td>\n",
              "      <td>0.052593</td>\n",
              "      <td>0.132380</td>\n",
              "      <td>0.062232</td>\n",
              "      <td>0.251670</td>\n",
              "      <td>0.290140</td>\n",
              "      <td>0.183455</td>\n",
              "      <td>1.000000</td>\n",
              "      <td>0.191830</td>\n",
              "      <td>0.173756</td>\n",
              "      <td>0.239008</td>\n",
              "      <td>0.220372</td>\n",
              "      <td>0.143488</td>\n",
              "      <td>0.383564</td>\n",
              "      <td>0.014689</td>\n",
              "    </tr>\n",
              "    <tr>\n",
              "      <th>reautorizacion</th>\n",
              "      <td>0.267134</td>\n",
              "      <td>0.250896</td>\n",
              "      <td>0.057546</td>\n",
              "      <td>0.022209</td>\n",
              "      <td>0.016730</td>\n",
              "      <td>0.006011</td>\n",
              "      <td>0.062734</td>\n",
              "      <td>0.086438</td>\n",
              "      <td>0.026971</td>\n",
              "      <td>0.281953</td>\n",
              "      <td>0.053387</td>\n",
              "      <td>0.083254</td>\n",
              "      <td>0.191830</td>\n",
              "      <td>1.000000</td>\n",
              "      <td>0.203217</td>\n",
              "      <td>0.057144</td>\n",
              "      <td>0.188628</td>\n",
              "      <td>0.027921</td>\n",
              "      <td>0.026692</td>\n",
              "      <td>0.010285</td>\n",
              "    </tr>\n",
              "    <tr>\n",
              "      <th>puntos</th>\n",
              "      <td>0.120736</td>\n",
              "      <td>0.136859</td>\n",
              "      <td>0.073077</td>\n",
              "      <td>0.175815</td>\n",
              "      <td>0.087252</td>\n",
              "      <td>0.084821</td>\n",
              "      <td>0.165852</td>\n",
              "      <td>0.159682</td>\n",
              "      <td>0.040392</td>\n",
              "      <td>0.062583</td>\n",
              "      <td>0.000143</td>\n",
              "      <td>0.079687</td>\n",
              "      <td>0.173756</td>\n",
              "      <td>0.203217</td>\n",
              "      <td>1.000000</td>\n",
              "      <td>0.455606</td>\n",
              "      <td>0.224206</td>\n",
              "      <td>0.357969</td>\n",
              "      <td>0.119593</td>\n",
              "      <td>0.000916</td>\n",
              "    </tr>\n",
              "    <tr>\n",
              "      <th>riesgo</th>\n",
              "      <td>0.352654</td>\n",
              "      <td>0.340098</td>\n",
              "      <td>0.042888</td>\n",
              "      <td>0.272575</td>\n",
              "      <td>0.036555</td>\n",
              "      <td>0.091175</td>\n",
              "      <td>0.169037</td>\n",
              "      <td>0.171733</td>\n",
              "      <td>0.078120</td>\n",
              "      <td>0.143361</td>\n",
              "      <td>0.033686</td>\n",
              "      <td>0.134503</td>\n",
              "      <td>0.239008</td>\n",
              "      <td>0.057144</td>\n",
              "      <td>0.455606</td>\n",
              "      <td>1.000000</td>\n",
              "      <td>0.067350</td>\n",
              "      <td>0.474009</td>\n",
              "      <td>0.304266</td>\n",
              "      <td>0.019927</td>\n",
              "    </tr>\n",
              "    <tr>\n",
              "      <th>score_buro</th>\n",
              "      <td>0.548206</td>\n",
              "      <td>0.527624</td>\n",
              "      <td>0.080220</td>\n",
              "      <td>0.059764</td>\n",
              "      <td>0.103998</td>\n",
              "      <td>0.072555</td>\n",
              "      <td>0.076027</td>\n",
              "      <td>0.060079</td>\n",
              "      <td>0.039010</td>\n",
              "      <td>0.240651</td>\n",
              "      <td>0.024286</td>\n",
              "      <td>0.097543</td>\n",
              "      <td>0.220372</td>\n",
              "      <td>0.188628</td>\n",
              "      <td>0.224206</td>\n",
              "      <td>0.067350</td>\n",
              "      <td>1.000000</td>\n",
              "      <td>0.006687</td>\n",
              "      <td>0.454738</td>\n",
              "      <td>0.028241</td>\n",
              "    </tr>\n",
              "    <tr>\n",
              "      <th>porc_eng</th>\n",
              "      <td>0.069327</td>\n",
              "      <td>0.063868</td>\n",
              "      <td>0.011328</td>\n",
              "      <td>0.676520</td>\n",
              "      <td>0.050813</td>\n",
              "      <td>0.158246</td>\n",
              "      <td>0.307681</td>\n",
              "      <td>0.305885</td>\n",
              "      <td>0.029359</td>\n",
              "      <td>0.049292</td>\n",
              "      <td>0.023888</td>\n",
              "      <td>0.131851</td>\n",
              "      <td>0.143488</td>\n",
              "      <td>0.027921</td>\n",
              "      <td>0.357969</td>\n",
              "      <td>0.474009</td>\n",
              "      <td>0.006687</td>\n",
              "      <td>1.000000</td>\n",
              "      <td>0.095722</td>\n",
              "      <td>0.004220</td>\n",
              "    </tr>\n",
              "    <tr>\n",
              "      <th>semana_actual</th>\n",
              "      <td>0.819061</td>\n",
              "      <td>0.796687</td>\n",
              "      <td>0.030421</td>\n",
              "      <td>0.094174</td>\n",
              "      <td>0.112215</td>\n",
              "      <td>0.189936</td>\n",
              "      <td>0.002362</td>\n",
              "      <td>0.104572</td>\n",
              "      <td>0.059894</td>\n",
              "      <td>0.006862</td>\n",
              "      <td>0.131246</td>\n",
              "      <td>0.091410</td>\n",
              "      <td>0.383564</td>\n",
              "      <td>0.026692</td>\n",
              "      <td>0.119593</td>\n",
              "      <td>0.304266</td>\n",
              "      <td>0.454738</td>\n",
              "      <td>0.095722</td>\n",
              "      <td>1.000000</td>\n",
              "      <td>0.041991</td>\n",
              "    </tr>\n",
              "    <tr>\n",
              "      <th>edad_cliente</th>\n",
              "      <td>0.047807</td>\n",
              "      <td>0.050747</td>\n",
              "      <td>0.017580</td>\n",
              "      <td>0.013917</td>\n",
              "      <td>0.012399</td>\n",
              "      <td>0.018346</td>\n",
              "      <td>0.014611</td>\n",
              "      <td>0.008483</td>\n",
              "      <td>0.034490</td>\n",
              "      <td>0.018195</td>\n",
              "      <td>0.008995</td>\n",
              "      <td>0.021410</td>\n",
              "      <td>0.014689</td>\n",
              "      <td>0.010285</td>\n",
              "      <td>0.000916</td>\n",
              "      <td>0.019927</td>\n",
              "      <td>0.028241</td>\n",
              "      <td>0.004220</td>\n",
              "      <td>0.041991</td>\n",
              "      <td>1.000000</td>\n",
              "    </tr>\n",
              "  </tbody>\n",
              "</table>\n",
              "</div>\n",
              "    <div class=\"colab-df-buttons\">\n",
              "\n",
              "  <div class=\"colab-df-container\">\n",
              "    <button class=\"colab-df-convert\" onclick=\"convertToInteractive('df-59afb5e4-c788-43a6-97b1-f8d1d532855a')\"\n",
              "            title=\"Convert this dataframe to an interactive table.\"\n",
              "            style=\"display:none;\">\n",
              "\n",
              "  <svg xmlns=\"http://www.w3.org/2000/svg\" height=\"24px\" viewBox=\"0 -960 960 960\">\n",
              "    <path d=\"M120-120v-720h720v720H120Zm60-500h600v-160H180v160Zm220 220h160v-160H400v160Zm0 220h160v-160H400v160ZM180-400h160v-160H180v160Zm440 0h160v-160H620v160ZM180-180h160v-160H180v160Zm440 0h160v-160H620v160Z\"/>\n",
              "  </svg>\n",
              "    </button>\n",
              "\n",
              "  <style>\n",
              "    .colab-df-container {\n",
              "      display:flex;\n",
              "      gap: 12px;\n",
              "    }\n",
              "\n",
              "    .colab-df-convert {\n",
              "      background-color: #E8F0FE;\n",
              "      border: none;\n",
              "      border-radius: 50%;\n",
              "      cursor: pointer;\n",
              "      display: none;\n",
              "      fill: #1967D2;\n",
              "      height: 32px;\n",
              "      padding: 0 0 0 0;\n",
              "      width: 32px;\n",
              "    }\n",
              "\n",
              "    .colab-df-convert:hover {\n",
              "      background-color: #E2EBFA;\n",
              "      box-shadow: 0px 1px 2px rgba(60, 64, 67, 0.3), 0px 1px 3px 1px rgba(60, 64, 67, 0.15);\n",
              "      fill: #174EA6;\n",
              "    }\n",
              "\n",
              "    .colab-df-buttons div {\n",
              "      margin-bottom: 4px;\n",
              "    }\n",
              "\n",
              "    [theme=dark] .colab-df-convert {\n",
              "      background-color: #3B4455;\n",
              "      fill: #D2E3FC;\n",
              "    }\n",
              "\n",
              "    [theme=dark] .colab-df-convert:hover {\n",
              "      background-color: #434B5C;\n",
              "      box-shadow: 0px 1px 3px 1px rgba(0, 0, 0, 0.15);\n",
              "      filter: drop-shadow(0px 1px 2px rgba(0, 0, 0, 0.3));\n",
              "      fill: #FFFFFF;\n",
              "    }\n",
              "  </style>\n",
              "\n",
              "    <script>\n",
              "      const buttonEl =\n",
              "        document.querySelector('#df-59afb5e4-c788-43a6-97b1-f8d1d532855a button.colab-df-convert');\n",
              "      buttonEl.style.display =\n",
              "        google.colab.kernel.accessAllowed ? 'block' : 'none';\n",
              "\n",
              "      async function convertToInteractive(key) {\n",
              "        const element = document.querySelector('#df-59afb5e4-c788-43a6-97b1-f8d1d532855a');\n",
              "        const dataTable =\n",
              "          await google.colab.kernel.invokeFunction('convertToInteractive',\n",
              "                                                    [key], {});\n",
              "        if (!dataTable) return;\n",
              "\n",
              "        const docLinkHtml = 'Like what you see? Visit the ' +\n",
              "          '<a target=\"_blank\" href=https://colab.research.google.com/notebooks/data_table.ipynb>data table notebook</a>'\n",
              "          + ' to learn more about interactive tables.';\n",
              "        element.innerHTML = '';\n",
              "        dataTable['output_type'] = 'display_data';\n",
              "        await google.colab.output.renderOutput(dataTable, element);\n",
              "        const docLink = document.createElement('div');\n",
              "        docLink.innerHTML = docLinkHtml;\n",
              "        element.appendChild(docLink);\n",
              "      }\n",
              "    </script>\n",
              "  </div>\n",
              "\n",
              "\n",
              "<div id=\"df-4d902929-a310-4855-8c76-f7a122864c13\">\n",
              "  <button class=\"colab-df-quickchart\" onclick=\"quickchart('df-4d902929-a310-4855-8c76-f7a122864c13')\"\n",
              "            title=\"Suggest charts.\"\n",
              "            style=\"display:none;\">\n",
              "\n",
              "<svg xmlns=\"http://www.w3.org/2000/svg\" height=\"24px\"viewBox=\"0 0 24 24\"\n",
              "     width=\"24px\">\n",
              "    <g>\n",
              "        <path d=\"M19 3H5c-1.1 0-2 .9-2 2v14c0 1.1.9 2 2 2h14c1.1 0 2-.9 2-2V5c0-1.1-.9-2-2-2zM9 17H7v-7h2v7zm4 0h-2V7h2v10zm4 0h-2v-4h2v4z\"/>\n",
              "    </g>\n",
              "</svg>\n",
              "  </button>\n",
              "\n",
              "<style>\n",
              "  .colab-df-quickchart {\n",
              "      --bg-color: #E8F0FE;\n",
              "      --fill-color: #1967D2;\n",
              "      --hover-bg-color: #E2EBFA;\n",
              "      --hover-fill-color: #174EA6;\n",
              "      --disabled-fill-color: #AAA;\n",
              "      --disabled-bg-color: #DDD;\n",
              "  }\n",
              "\n",
              "  [theme=dark] .colab-df-quickchart {\n",
              "      --bg-color: #3B4455;\n",
              "      --fill-color: #D2E3FC;\n",
              "      --hover-bg-color: #434B5C;\n",
              "      --hover-fill-color: #FFFFFF;\n",
              "      --disabled-bg-color: #3B4455;\n",
              "      --disabled-fill-color: #666;\n",
              "  }\n",
              "\n",
              "  .colab-df-quickchart {\n",
              "    background-color: var(--bg-color);\n",
              "    border: none;\n",
              "    border-radius: 50%;\n",
              "    cursor: pointer;\n",
              "    display: none;\n",
              "    fill: var(--fill-color);\n",
              "    height: 32px;\n",
              "    padding: 0;\n",
              "    width: 32px;\n",
              "  }\n",
              "\n",
              "  .colab-df-quickchart:hover {\n",
              "    background-color: var(--hover-bg-color);\n",
              "    box-shadow: 0 1px 2px rgba(60, 64, 67, 0.3), 0 1px 3px 1px rgba(60, 64, 67, 0.15);\n",
              "    fill: var(--button-hover-fill-color);\n",
              "  }\n",
              "\n",
              "  .colab-df-quickchart-complete:disabled,\n",
              "  .colab-df-quickchart-complete:disabled:hover {\n",
              "    background-color: var(--disabled-bg-color);\n",
              "    fill: var(--disabled-fill-color);\n",
              "    box-shadow: none;\n",
              "  }\n",
              "\n",
              "  .colab-df-spinner {\n",
              "    border: 2px solid var(--fill-color);\n",
              "    border-color: transparent;\n",
              "    border-bottom-color: var(--fill-color);\n",
              "    animation:\n",
              "      spin 1s steps(1) infinite;\n",
              "  }\n",
              "\n",
              "  @keyframes spin {\n",
              "    0% {\n",
              "      border-color: transparent;\n",
              "      border-bottom-color: var(--fill-color);\n",
              "      border-left-color: var(--fill-color);\n",
              "    }\n",
              "    20% {\n",
              "      border-color: transparent;\n",
              "      border-left-color: var(--fill-color);\n",
              "      border-top-color: var(--fill-color);\n",
              "    }\n",
              "    30% {\n",
              "      border-color: transparent;\n",
              "      border-left-color: var(--fill-color);\n",
              "      border-top-color: var(--fill-color);\n",
              "      border-right-color: var(--fill-color);\n",
              "    }\n",
              "    40% {\n",
              "      border-color: transparent;\n",
              "      border-right-color: var(--fill-color);\n",
              "      border-top-color: var(--fill-color);\n",
              "    }\n",
              "    60% {\n",
              "      border-color: transparent;\n",
              "      border-right-color: var(--fill-color);\n",
              "    }\n",
              "    80% {\n",
              "      border-color: transparent;\n",
              "      border-right-color: var(--fill-color);\n",
              "      border-bottom-color: var(--fill-color);\n",
              "    }\n",
              "    90% {\n",
              "      border-color: transparent;\n",
              "      border-bottom-color: var(--fill-color);\n",
              "    }\n",
              "  }\n",
              "</style>\n",
              "\n",
              "  <script>\n",
              "    async function quickchart(key) {\n",
              "      const quickchartButtonEl =\n",
              "        document.querySelector('#' + key + ' button');\n",
              "      quickchartButtonEl.disabled = true;  // To prevent multiple clicks.\n",
              "      quickchartButtonEl.classList.add('colab-df-spinner');\n",
              "      try {\n",
              "        const charts = await google.colab.kernel.invokeFunction(\n",
              "            'suggestCharts', [key], {});\n",
              "      } catch (error) {\n",
              "        console.error('Error during call to suggestCharts:', error);\n",
              "      }\n",
              "      quickchartButtonEl.classList.remove('colab-df-spinner');\n",
              "      quickchartButtonEl.classList.add('colab-df-quickchart-complete');\n",
              "    }\n",
              "    (() => {\n",
              "      let quickchartButtonEl =\n",
              "        document.querySelector('#df-4d902929-a310-4855-8c76-f7a122864c13 button');\n",
              "      quickchartButtonEl.style.display =\n",
              "        google.colab.kernel.accessAllowed ? 'block' : 'none';\n",
              "    })();\n",
              "  </script>\n",
              "</div>\n",
              "    </div>\n",
              "  </div>\n"
            ]
          },
          "metadata": {},
          "execution_count": 367
        }
      ]
    },
    {
      "cell_type": "code",
      "source": [
        "df['status']= df['status'].replace([2,3,4], 0)\n",
        "df['status'].value_counts()"
      ],
      "metadata": {
        "colab": {
          "base_uri": "https://localhost:8080/"
        },
        "id": "wIKAUJreiP_2",
        "outputId": "26a4f54d-75df-4f37-f7a3-af3f2df61d14"
      },
      "execution_count": 368,
      "outputs": [
        {
          "output_type": "execute_result",
          "data": {
            "text/plain": [
              "1    17086\n",
              "0     5649\n",
              "Name: status, dtype: int64"
            ]
          },
          "metadata": {},
          "execution_count": 368
        }
      ]
    },
    {
      "cell_type": "code",
      "source": [
        "df['marca'].value_counts()"
      ],
      "metadata": {
        "colab": {
          "base_uri": "https://localhost:8080/"
        },
        "id": "VPr8-7-1rnRI",
        "outputId": "1cc7323a-869a-467f-c325-bcb2bd95773e"
      },
      "execution_count": 369,
      "outputs": [
        {
          "output_type": "execute_result",
          "data": {
            "text/plain": [
              "Samsung         8991\n",
              "SAMSUNG         3524\n",
              "MOTOROLA        3078\n",
              "ZTE             1948\n",
              "Motorola        1658\n",
              "NOKIA           1121\n",
              "TECNO MOBILE     833\n",
              "Hisense          371\n",
              "HISENSE          270\n",
              "Nokia            262\n",
              "ALCATEL          215\n",
              "TCL              113\n",
              "Alcatel          101\n",
              "Lanix             90\n",
              "VIVO              60\n",
              "Vivo              45\n",
              "LG                20\n",
              "WIKO               9\n",
              "NYX                7\n",
              "B2M                4\n",
              "KODAK              3\n",
              "RT                 3\n",
              "LANIX              2\n",
              "INCO               2\n",
              "Huawei             1\n",
              "SENWA              1\n",
              "alcatel            1\n",
              "Senwa              1\n",
              "TECHPAD            1\n",
              "Name: marca, dtype: int64"
            ]
          },
          "metadata": {},
          "execution_count": 369
        }
      ]
    },
    {
      "cell_type": "code",
      "source": [
        "df['marca'] = df['marca'].replace([\"SAMSUNG\"], \"Samsung\")\n",
        "df['marca'] = df['marca'].apply(lambda x: 1 if x == \"Samsung\" else (1 if x == \"ZTE\" else x))\n",
        "df['marca'] = df['marca'].apply(lambda x: 0 if x != 1 else x)\n",
        "df['marca'].value_counts()"
      ],
      "metadata": {
        "colab": {
          "base_uri": "https://localhost:8080/"
        },
        "id": "t_O36rFap5Pg",
        "outputId": "ebe3d530-f80b-4aba-da46-e5af5728c427"
      },
      "execution_count": 370,
      "outputs": [
        {
          "output_type": "execute_result",
          "data": {
            "text/plain": [
              "1    14463\n",
              "0     8272\n",
              "Name: marca, dtype: int64"
            ]
          },
          "metadata": {},
          "execution_count": 370
        }
      ]
    },
    {
      "cell_type": "code",
      "source": [
        "df['modelo'].value_counts()"
      ],
      "metadata": {
        "colab": {
          "base_uri": "https://localhost:8080/"
        },
        "id": "-GDvLoVwuBN0",
        "outputId": "40732fba-8e63-4f64-b048-711155594e8a"
      },
      "execution_count": 371,
      "outputs": [
        {
          "output_type": "execute_result",
          "data": {
            "text/plain": [
              "A03s                             2231\n",
              "A03                              1715\n",
              "A13                              1089\n",
              "A04                              1039\n",
              "A04E                              817\n",
              "                                 ... \n",
              "LTE 5002B 1B 32GB Verde             1\n",
              "GALAXY A32 4+128 GB VIOLETA B       1\n",
              "K62 B AZUL                          1\n",
              "5007A 1V 2020 Verde                 1\n",
              "4G 6002A 1V  Gris Iu                1\n",
              "Name: modelo, Length: 366, dtype: int64"
            ]
          },
          "metadata": {},
          "execution_count": 371
        }
      ]
    },
    {
      "cell_type": "code",
      "source": [
        "df['modelo'] = df['modelo'].apply(lambda x: 1 if x == \"A03s\" else (1 if x == \"A03\" else (1 if x == \"A13\" else (1 if x == \"A04\" else (1 if x == \"A04E\" else x)))))\n",
        "df['modelo'] = df['modelo'].apply(lambda x: 0 if x != 1 else x)\n",
        "df['modelo'].value_counts()"
      ],
      "metadata": {
        "colab": {
          "base_uri": "https://localhost:8080/"
        },
        "id": "Tu5LZxo9uHrN",
        "outputId": "a7cfe836-33bc-4b9b-990a-2d4447f1562a"
      },
      "execution_count": 372,
      "outputs": [
        {
          "output_type": "execute_result",
          "data": {
            "text/plain": [
              "0    15844\n",
              "1     6891\n",
              "Name: modelo, dtype: int64"
            ]
          },
          "metadata": {},
          "execution_count": 372
        }
      ]
    },
    {
      "cell_type": "markdown",
      "source": [
        "##**Modelo 1**"
      ],
      "metadata": {
        "id": "DtoBh1xjiyv8"
      }
    },
    {
      "cell_type": "code",
      "source": [
        "Vars_Indep= df[['pagos_realizados', 'precio', 'score_buro']]\n",
        "Var_Dep= df['status']\n",
        "X= Vars_Indep\n",
        "y= Var_Dep"
      ],
      "metadata": {
        "id": "rUdVgeUMi1Xo"
      },
      "execution_count": 373,
      "outputs": []
    },
    {
      "cell_type": "code",
      "source": [
        "X_train, X_test, y_train, y_test = train_test_split(X, y, test_size=0.3, random_state =None)"
      ],
      "metadata": {
        "id": "JjeB4SVTl_Ok"
      },
      "execution_count": 374,
      "outputs": []
    },
    {
      "cell_type": "code",
      "source": [
        "escalar = StandardScaler()"
      ],
      "metadata": {
        "id": "OCA8kYcKmDTB"
      },
      "execution_count": 375,
      "outputs": []
    },
    {
      "cell_type": "code",
      "source": [
        "X_train = escalar.fit_transform(X_train)\n",
        "X_test = escalar.transform(X_test)"
      ],
      "metadata": {
        "id": "0C34fRgxmGIL"
      },
      "execution_count": 376,
      "outputs": []
    },
    {
      "cell_type": "code",
      "source": [
        "from sklearn.linear_model import LogisticRegression\n",
        "algoritmo = LogisticRegression()"
      ],
      "metadata": {
        "id": "UPTitL5LmPAX"
      },
      "execution_count": 377,
      "outputs": []
    },
    {
      "cell_type": "code",
      "source": [
        "algoritmo.fit(X_train, y_train)"
      ],
      "metadata": {
        "colab": {
          "base_uri": "https://localhost:8080/",
          "height": 0
        },
        "id": "GFxg56qJmQ1X",
        "outputId": "55a345a8-c5cf-40a1-be23-2c0860aeea76"
      },
      "execution_count": 378,
      "outputs": [
        {
          "output_type": "execute_result",
          "data": {
            "text/plain": [
              "LogisticRegression()"
            ],
            "text/html": [
              "<style>#sk-container-id-26 {color: black;background-color: white;}#sk-container-id-26 pre{padding: 0;}#sk-container-id-26 div.sk-toggleable {background-color: white;}#sk-container-id-26 label.sk-toggleable__label {cursor: pointer;display: block;width: 100%;margin-bottom: 0;padding: 0.3em;box-sizing: border-box;text-align: center;}#sk-container-id-26 label.sk-toggleable__label-arrow:before {content: \"▸\";float: left;margin-right: 0.25em;color: #696969;}#sk-container-id-26 label.sk-toggleable__label-arrow:hover:before {color: black;}#sk-container-id-26 div.sk-estimator:hover label.sk-toggleable__label-arrow:before {color: black;}#sk-container-id-26 div.sk-toggleable__content {max-height: 0;max-width: 0;overflow: hidden;text-align: left;background-color: #f0f8ff;}#sk-container-id-26 div.sk-toggleable__content pre {margin: 0.2em;color: black;border-radius: 0.25em;background-color: #f0f8ff;}#sk-container-id-26 input.sk-toggleable__control:checked~div.sk-toggleable__content {max-height: 200px;max-width: 100%;overflow: auto;}#sk-container-id-26 input.sk-toggleable__control:checked~label.sk-toggleable__label-arrow:before {content: \"▾\";}#sk-container-id-26 div.sk-estimator input.sk-toggleable__control:checked~label.sk-toggleable__label {background-color: #d4ebff;}#sk-container-id-26 div.sk-label input.sk-toggleable__control:checked~label.sk-toggleable__label {background-color: #d4ebff;}#sk-container-id-26 input.sk-hidden--visually {border: 0;clip: rect(1px 1px 1px 1px);clip: rect(1px, 1px, 1px, 1px);height: 1px;margin: -1px;overflow: hidden;padding: 0;position: absolute;width: 1px;}#sk-container-id-26 div.sk-estimator {font-family: monospace;background-color: #f0f8ff;border: 1px dotted black;border-radius: 0.25em;box-sizing: border-box;margin-bottom: 0.5em;}#sk-container-id-26 div.sk-estimator:hover {background-color: #d4ebff;}#sk-container-id-26 div.sk-parallel-item::after {content: \"\";width: 100%;border-bottom: 1px solid gray;flex-grow: 1;}#sk-container-id-26 div.sk-label:hover label.sk-toggleable__label {background-color: #d4ebff;}#sk-container-id-26 div.sk-serial::before {content: \"\";position: absolute;border-left: 1px solid gray;box-sizing: border-box;top: 0;bottom: 0;left: 50%;z-index: 0;}#sk-container-id-26 div.sk-serial {display: flex;flex-direction: column;align-items: center;background-color: white;padding-right: 0.2em;padding-left: 0.2em;position: relative;}#sk-container-id-26 div.sk-item {position: relative;z-index: 1;}#sk-container-id-26 div.sk-parallel {display: flex;align-items: stretch;justify-content: center;background-color: white;position: relative;}#sk-container-id-26 div.sk-item::before, #sk-container-id-26 div.sk-parallel-item::before {content: \"\";position: absolute;border-left: 1px solid gray;box-sizing: border-box;top: 0;bottom: 0;left: 50%;z-index: -1;}#sk-container-id-26 div.sk-parallel-item {display: flex;flex-direction: column;z-index: 1;position: relative;background-color: white;}#sk-container-id-26 div.sk-parallel-item:first-child::after {align-self: flex-end;width: 50%;}#sk-container-id-26 div.sk-parallel-item:last-child::after {align-self: flex-start;width: 50%;}#sk-container-id-26 div.sk-parallel-item:only-child::after {width: 0;}#sk-container-id-26 div.sk-dashed-wrapped {border: 1px dashed gray;margin: 0 0.4em 0.5em 0.4em;box-sizing: border-box;padding-bottom: 0.4em;background-color: white;}#sk-container-id-26 div.sk-label label {font-family: monospace;font-weight: bold;display: inline-block;line-height: 1.2em;}#sk-container-id-26 div.sk-label-container {text-align: center;}#sk-container-id-26 div.sk-container {/* jupyter's `normalize.less` sets `[hidden] { display: none; }` but bootstrap.min.css set `[hidden] { display: none !important; }` so we also need the `!important` here to be able to override the default hidden behavior on the sphinx rendered scikit-learn.org. See: https://github.com/scikit-learn/scikit-learn/issues/21755 */display: inline-block !important;position: relative;}#sk-container-id-26 div.sk-text-repr-fallback {display: none;}</style><div id=\"sk-container-id-26\" class=\"sk-top-container\"><div class=\"sk-text-repr-fallback\"><pre>LogisticRegression()</pre><b>In a Jupyter environment, please rerun this cell to show the HTML representation or trust the notebook. <br />On GitHub, the HTML representation is unable to render, please try loading this page with nbviewer.org.</b></div><div class=\"sk-container\" hidden><div class=\"sk-item\"><div class=\"sk-estimator sk-toggleable\"><input class=\"sk-toggleable__control sk-hidden--visually\" id=\"sk-estimator-id-26\" type=\"checkbox\" checked><label for=\"sk-estimator-id-26\" class=\"sk-toggleable__label sk-toggleable__label-arrow\">LogisticRegression</label><div class=\"sk-toggleable__content\"><pre>LogisticRegression()</pre></div></div></div></div></div>"
            ]
          },
          "metadata": {},
          "execution_count": 378
        }
      ]
    },
    {
      "cell_type": "code",
      "source": [
        "y_pred = algoritmo.predict(X_test)\n",
        "y_pred"
      ],
      "metadata": {
        "colab": {
          "base_uri": "https://localhost:8080/"
        },
        "id": "WR8rgSvKmTK0",
        "outputId": "01ad5693-6afe-4323-8323-e0f586ae389e"
      },
      "execution_count": 379,
      "outputs": [
        {
          "output_type": "execute_result",
          "data": {
            "text/plain": [
              "array([1, 1, 1, ..., 0, 1, 1])"
            ]
          },
          "metadata": {},
          "execution_count": 379
        }
      ]
    },
    {
      "cell_type": "code",
      "source": [
        "from sklearn.metrics import confusion_matrix\n",
        "matriz = confusion_matrix(y_test, y_pred)\n",
        "print('Matriz de Confusión:')\n",
        "print(matriz)"
      ],
      "metadata": {
        "colab": {
          "base_uri": "https://localhost:8080/"
        },
        "id": "YDtSr_aomVij",
        "outputId": "2425ae5a-0526-48c2-e4d0-5f0dfaecf5f3"
      },
      "execution_count": 380,
      "outputs": [
        {
          "output_type": "stream",
          "name": "stdout",
          "text": [
            "Matriz de Confusión:\n",
            "[[ 335 1372]\n",
            " [ 243 4871]]\n"
          ]
        }
      ]
    },
    {
      "cell_type": "code",
      "source": [
        "from sklearn.metrics import precision_score\n",
        "\n",
        "precision = precision_score(y_test, y_pred, average=\"binary\", pos_label=1)\n",
        "print('Precisión del modelo:')\n",
        "print(precision)"
      ],
      "metadata": {
        "colab": {
          "base_uri": "https://localhost:8080/"
        },
        "id": "Zg_JshG3mg-J",
        "outputId": "178c1768-af65-44b6-8c84-eeef50cb9aa0"
      },
      "execution_count": 381,
      "outputs": [
        {
          "output_type": "stream",
          "name": "stdout",
          "text": [
            "Precisión del modelo:\n",
            "0.7802338619253564\n"
          ]
        }
      ]
    },
    {
      "cell_type": "code",
      "source": [
        "#Calculo la exactitud del modelo\n",
        "from sklearn.metrics import accuracy_score\n",
        "\n",
        "exactitud = accuracy_score(y_test, y_pred)\n",
        "print('Exactitud del modelo:')\n",
        "print(exactitud)"
      ],
      "metadata": {
        "colab": {
          "base_uri": "https://localhost:8080/"
        },
        "id": "lRcL980smi8U",
        "outputId": "484046e8-a0cd-44bc-83a0-729189c231c6"
      },
      "execution_count": 382,
      "outputs": [
        {
          "output_type": "stream",
          "name": "stdout",
          "text": [
            "Exactitud del modelo:\n",
            "0.7632311977715878\n"
          ]
        }
      ]
    },
    {
      "cell_type": "code",
      "source": [
        "#Calculo la sensibilidad del modelo\n",
        "from sklearn.metrics import recall_score\n",
        "\n",
        "sensibilidad = recall_score(y_test, y_pred, average=\"binary\", pos_label=1)\n",
        "print('Sensibilidad del modelo:')\n",
        "print(sensibilidad)"
      ],
      "metadata": {
        "colab": {
          "base_uri": "https://localhost:8080/"
        },
        "id": "NbxV3_zTmlF3",
        "outputId": "4510a1bf-b336-42c7-a3ea-e75700b0ee80"
      },
      "execution_count": 383,
      "outputs": [
        {
          "output_type": "stream",
          "name": "stdout",
          "text": [
            "Sensibilidad del modelo:\n",
            "0.9524833789597185\n"
          ]
        }
      ]
    },
    {
      "cell_type": "code",
      "source": [
        "#Calculo el Puntaje F1 del modelo\n",
        "from sklearn.metrics import f1_score\n",
        "puntajef1 = f1_score(y_test, y_pred, average=\"binary\", pos_label=1)\n",
        "print('Puntaje F1 del modelo:')\n",
        "print(puntajef1)"
      ],
      "metadata": {
        "colab": {
          "base_uri": "https://localhost:8080/"
        },
        "id": "BfFEM7rAzUIs",
        "outputId": "a5a47b14-d991-4161-8781-1bc6576ed8cd"
      },
      "execution_count": 384,
      "outputs": [
        {
          "output_type": "stream",
          "name": "stdout",
          "text": [
            "Puntaje F1 del modelo:\n",
            "0.8577969534207978\n"
          ]
        }
      ]
    },
    {
      "cell_type": "markdown",
      "source": [
        "##**Modelo 2**"
      ],
      "metadata": {
        "id": "nt-uP_vwmrwz"
      }
    },
    {
      "cell_type": "code",
      "source": [
        "Vars_Indep= df[['pagos_realizados', 'precio', 'enganche']]\n",
        "Var_Dep= df['status']\n",
        "X= Vars_Indep\n",
        "y= Var_Dep"
      ],
      "metadata": {
        "id": "aMvbeEpemrw1"
      },
      "execution_count": 385,
      "outputs": []
    },
    {
      "cell_type": "code",
      "source": [
        "X_train, X_test, y_train, y_test = train_test_split(X, y, test_size=0.3, random_state =None)"
      ],
      "metadata": {
        "id": "hM-aBBE_mrw2"
      },
      "execution_count": 386,
      "outputs": []
    },
    {
      "cell_type": "code",
      "source": [
        "escalar = StandardScaler()"
      ],
      "metadata": {
        "id": "vMwscK18mrw2"
      },
      "execution_count": 387,
      "outputs": []
    },
    {
      "cell_type": "code",
      "source": [
        "X_train = escalar.fit_transform(X_train)\n",
        "X_test = escalar.transform(X_test)"
      ],
      "metadata": {
        "id": "E2KLyN97mrw3"
      },
      "execution_count": 388,
      "outputs": []
    },
    {
      "cell_type": "code",
      "source": [
        "from sklearn.linear_model import LogisticRegression\n",
        "algoritmo = LogisticRegression()"
      ],
      "metadata": {
        "id": "zXCwl8MRmrw3"
      },
      "execution_count": 389,
      "outputs": []
    },
    {
      "cell_type": "code",
      "source": [
        "algoritmo.fit(X_train, y_train)"
      ],
      "metadata": {
        "colab": {
          "base_uri": "https://localhost:8080/",
          "height": 0
        },
        "outputId": "c2599801-8946-40be-901f-748e5d52cf2c",
        "id": "89QOVdMImrw3"
      },
      "execution_count": 390,
      "outputs": [
        {
          "output_type": "execute_result",
          "data": {
            "text/plain": [
              "LogisticRegression()"
            ],
            "text/html": [
              "<style>#sk-container-id-27 {color: black;background-color: white;}#sk-container-id-27 pre{padding: 0;}#sk-container-id-27 div.sk-toggleable {background-color: white;}#sk-container-id-27 label.sk-toggleable__label {cursor: pointer;display: block;width: 100%;margin-bottom: 0;padding: 0.3em;box-sizing: border-box;text-align: center;}#sk-container-id-27 label.sk-toggleable__label-arrow:before {content: \"▸\";float: left;margin-right: 0.25em;color: #696969;}#sk-container-id-27 label.sk-toggleable__label-arrow:hover:before {color: black;}#sk-container-id-27 div.sk-estimator:hover label.sk-toggleable__label-arrow:before {color: black;}#sk-container-id-27 div.sk-toggleable__content {max-height: 0;max-width: 0;overflow: hidden;text-align: left;background-color: #f0f8ff;}#sk-container-id-27 div.sk-toggleable__content pre {margin: 0.2em;color: black;border-radius: 0.25em;background-color: #f0f8ff;}#sk-container-id-27 input.sk-toggleable__control:checked~div.sk-toggleable__content {max-height: 200px;max-width: 100%;overflow: auto;}#sk-container-id-27 input.sk-toggleable__control:checked~label.sk-toggleable__label-arrow:before {content: \"▾\";}#sk-container-id-27 div.sk-estimator input.sk-toggleable__control:checked~label.sk-toggleable__label {background-color: #d4ebff;}#sk-container-id-27 div.sk-label input.sk-toggleable__control:checked~label.sk-toggleable__label {background-color: #d4ebff;}#sk-container-id-27 input.sk-hidden--visually {border: 0;clip: rect(1px 1px 1px 1px);clip: rect(1px, 1px, 1px, 1px);height: 1px;margin: -1px;overflow: hidden;padding: 0;position: absolute;width: 1px;}#sk-container-id-27 div.sk-estimator {font-family: monospace;background-color: #f0f8ff;border: 1px dotted black;border-radius: 0.25em;box-sizing: border-box;margin-bottom: 0.5em;}#sk-container-id-27 div.sk-estimator:hover {background-color: #d4ebff;}#sk-container-id-27 div.sk-parallel-item::after {content: \"\";width: 100%;border-bottom: 1px solid gray;flex-grow: 1;}#sk-container-id-27 div.sk-label:hover label.sk-toggleable__label {background-color: #d4ebff;}#sk-container-id-27 div.sk-serial::before {content: \"\";position: absolute;border-left: 1px solid gray;box-sizing: border-box;top: 0;bottom: 0;left: 50%;z-index: 0;}#sk-container-id-27 div.sk-serial {display: flex;flex-direction: column;align-items: center;background-color: white;padding-right: 0.2em;padding-left: 0.2em;position: relative;}#sk-container-id-27 div.sk-item {position: relative;z-index: 1;}#sk-container-id-27 div.sk-parallel {display: flex;align-items: stretch;justify-content: center;background-color: white;position: relative;}#sk-container-id-27 div.sk-item::before, #sk-container-id-27 div.sk-parallel-item::before {content: \"\";position: absolute;border-left: 1px solid gray;box-sizing: border-box;top: 0;bottom: 0;left: 50%;z-index: -1;}#sk-container-id-27 div.sk-parallel-item {display: flex;flex-direction: column;z-index: 1;position: relative;background-color: white;}#sk-container-id-27 div.sk-parallel-item:first-child::after {align-self: flex-end;width: 50%;}#sk-container-id-27 div.sk-parallel-item:last-child::after {align-self: flex-start;width: 50%;}#sk-container-id-27 div.sk-parallel-item:only-child::after {width: 0;}#sk-container-id-27 div.sk-dashed-wrapped {border: 1px dashed gray;margin: 0 0.4em 0.5em 0.4em;box-sizing: border-box;padding-bottom: 0.4em;background-color: white;}#sk-container-id-27 div.sk-label label {font-family: monospace;font-weight: bold;display: inline-block;line-height: 1.2em;}#sk-container-id-27 div.sk-label-container {text-align: center;}#sk-container-id-27 div.sk-container {/* jupyter's `normalize.less` sets `[hidden] { display: none; }` but bootstrap.min.css set `[hidden] { display: none !important; }` so we also need the `!important` here to be able to override the default hidden behavior on the sphinx rendered scikit-learn.org. See: https://github.com/scikit-learn/scikit-learn/issues/21755 */display: inline-block !important;position: relative;}#sk-container-id-27 div.sk-text-repr-fallback {display: none;}</style><div id=\"sk-container-id-27\" class=\"sk-top-container\"><div class=\"sk-text-repr-fallback\"><pre>LogisticRegression()</pre><b>In a Jupyter environment, please rerun this cell to show the HTML representation or trust the notebook. <br />On GitHub, the HTML representation is unable to render, please try loading this page with nbviewer.org.</b></div><div class=\"sk-container\" hidden><div class=\"sk-item\"><div class=\"sk-estimator sk-toggleable\"><input class=\"sk-toggleable__control sk-hidden--visually\" id=\"sk-estimator-id-27\" type=\"checkbox\" checked><label for=\"sk-estimator-id-27\" class=\"sk-toggleable__label sk-toggleable__label-arrow\">LogisticRegression</label><div class=\"sk-toggleable__content\"><pre>LogisticRegression()</pre></div></div></div></div></div>"
            ]
          },
          "metadata": {},
          "execution_count": 390
        }
      ]
    },
    {
      "cell_type": "code",
      "source": [
        "y_pred = algoritmo.predict(X_test)\n",
        "y_pred"
      ],
      "metadata": {
        "colab": {
          "base_uri": "https://localhost:8080/"
        },
        "outputId": "63817afa-8303-406a-e37e-7f7bc40cf39b",
        "id": "cEHK-2iamrw6"
      },
      "execution_count": 391,
      "outputs": [
        {
          "output_type": "execute_result",
          "data": {
            "text/plain": [
              "array([1, 1, 1, ..., 1, 1, 1])"
            ]
          },
          "metadata": {},
          "execution_count": 391
        }
      ]
    },
    {
      "cell_type": "code",
      "source": [
        "from sklearn.metrics import confusion_matrix\n",
        "matriz = confusion_matrix(y_test, y_pred)\n",
        "print('Matriz de Confusión:')\n",
        "print(matriz)"
      ],
      "metadata": {
        "colab": {
          "base_uri": "https://localhost:8080/"
        },
        "outputId": "5650581b-8371-49cd-c879-84e04c6fb8a9",
        "id": "-hk4ism2mrw7"
      },
      "execution_count": 392,
      "outputs": [
        {
          "output_type": "stream",
          "name": "stdout",
          "text": [
            "Matriz de Confusión:\n",
            "[[ 243 1394]\n",
            " [ 233 4951]]\n"
          ]
        }
      ]
    },
    {
      "cell_type": "code",
      "source": [
        "from sklearn.metrics import precision_score\n",
        "\n",
        "precision2 = precision_score(y_test, y_pred, average=\"binary\", pos_label=1)\n",
        "print('Precisión del modelo:')\n",
        "print(precision2)"
      ],
      "metadata": {
        "colab": {
          "base_uri": "https://localhost:8080/"
        },
        "outputId": "8c4d8b61-49e8-4d28-dd35-a00516a3d9a3",
        "id": "jR-0bUPXmrw7"
      },
      "execution_count": 393,
      "outputs": [
        {
          "output_type": "stream",
          "name": "stdout",
          "text": [
            "Precisión del modelo:\n",
            "0.7802994483845548\n"
          ]
        }
      ]
    },
    {
      "cell_type": "code",
      "source": [
        "#Calculo la exactitud del modelo\n",
        "from sklearn.metrics import accuracy_score\n",
        "\n",
        "exactitud2 = accuracy_score(y_test, y_pred)\n",
        "print('Exactitud del modelo:')\n",
        "print(exactitud2)"
      ],
      "metadata": {
        "colab": {
          "base_uri": "https://localhost:8080/"
        },
        "outputId": "23b6073c-9771-44cd-a5e5-5203134c7a5f",
        "id": "9JowH1B9mrw8"
      },
      "execution_count": 394,
      "outputs": [
        {
          "output_type": "stream",
          "name": "stdout",
          "text": [
            "Exactitud del modelo:\n",
            "0.7614719249376924\n"
          ]
        }
      ]
    },
    {
      "cell_type": "code",
      "source": [
        "#Calculo la sensibilidad del modelo\n",
        "from sklearn.metrics import recall_score\n",
        "\n",
        "sensibilidad2 = recall_score(y_test, y_pred, average=\"binary\", pos_label=1)\n",
        "print('Sensibilidad del modelo:')\n",
        "print(sensibilidad2)"
      ],
      "metadata": {
        "outputId": "b4378ca9-f30a-489c-df22-8c2a601b2d0e",
        "colab": {
          "base_uri": "https://localhost:8080/"
        },
        "id": "PlsGm5n9mrw8"
      },
      "execution_count": 395,
      "outputs": [
        {
          "output_type": "stream",
          "name": "stdout",
          "text": [
            "Sensibilidad del modelo:\n",
            "0.955054012345679\n"
          ]
        }
      ]
    },
    {
      "cell_type": "code",
      "source": [
        "#Calculo el Puntaje F1 del modelo\n",
        "from sklearn.metrics import f1_score\n",
        "puntajef1 = f1_score(y_test, y_pred, average=\"binary\", pos_label=1)\n",
        "print('Puntaje F1 del modelo:')\n",
        "print(puntajef1)"
      ],
      "metadata": {
        "colab": {
          "base_uri": "https://localhost:8080/"
        },
        "id": "hPQx_5ujzb7N",
        "outputId": "a1a12e11-8b64-4b3f-b67d-4f8f47032ae4"
      },
      "execution_count": 396,
      "outputs": [
        {
          "output_type": "stream",
          "name": "stdout",
          "text": [
            "Puntaje F1 del modelo:\n",
            "0.8588776129759736\n"
          ]
        }
      ]
    },
    {
      "cell_type": "markdown",
      "source": [
        "##**Modelo 3**"
      ],
      "metadata": {
        "id": "EMq3xAAxmsyA"
      }
    },
    {
      "cell_type": "code",
      "source": [
        "Vars_Indep= df[['descuento', 'enganche', 'score_buro']]\n",
        "Var_Dep= df['status']\n",
        "X= Vars_Indep\n",
        "y= Var_Dep"
      ],
      "metadata": {
        "id": "LoHfiimmmsyC"
      },
      "execution_count": 397,
      "outputs": []
    },
    {
      "cell_type": "code",
      "source": [
        "X_train, X_test, y_train, y_test = train_test_split(X, y, test_size=0.3, random_state =None)"
      ],
      "metadata": {
        "id": "Ej5dTYPsmsyD"
      },
      "execution_count": 398,
      "outputs": []
    },
    {
      "cell_type": "code",
      "source": [
        "escalar = StandardScaler()"
      ],
      "metadata": {
        "id": "abJKm1VnmsyE"
      },
      "execution_count": 399,
      "outputs": []
    },
    {
      "cell_type": "code",
      "source": [
        "X_train = escalar.fit_transform(X_train)\n",
        "X_test = escalar.transform(X_test)"
      ],
      "metadata": {
        "id": "pXJ_SDkEmsyE"
      },
      "execution_count": 400,
      "outputs": []
    },
    {
      "cell_type": "code",
      "source": [
        "from sklearn.linear_model import LogisticRegression\n",
        "algoritmo = LogisticRegression()"
      ],
      "metadata": {
        "id": "sUvD57abmsyF"
      },
      "execution_count": 401,
      "outputs": []
    },
    {
      "cell_type": "code",
      "source": [
        "algoritmo.fit(X_train, y_train)"
      ],
      "metadata": {
        "colab": {
          "base_uri": "https://localhost:8080/",
          "height": 0
        },
        "outputId": "fadea2b5-1b97-45ff-e839-6cecec492a5f",
        "id": "wAGVzczzmsyF"
      },
      "execution_count": 402,
      "outputs": [
        {
          "output_type": "execute_result",
          "data": {
            "text/plain": [
              "LogisticRegression()"
            ],
            "text/html": [
              "<style>#sk-container-id-28 {color: black;background-color: white;}#sk-container-id-28 pre{padding: 0;}#sk-container-id-28 div.sk-toggleable {background-color: white;}#sk-container-id-28 label.sk-toggleable__label {cursor: pointer;display: block;width: 100%;margin-bottom: 0;padding: 0.3em;box-sizing: border-box;text-align: center;}#sk-container-id-28 label.sk-toggleable__label-arrow:before {content: \"▸\";float: left;margin-right: 0.25em;color: #696969;}#sk-container-id-28 label.sk-toggleable__label-arrow:hover:before {color: black;}#sk-container-id-28 div.sk-estimator:hover label.sk-toggleable__label-arrow:before {color: black;}#sk-container-id-28 div.sk-toggleable__content {max-height: 0;max-width: 0;overflow: hidden;text-align: left;background-color: #f0f8ff;}#sk-container-id-28 div.sk-toggleable__content pre {margin: 0.2em;color: black;border-radius: 0.25em;background-color: #f0f8ff;}#sk-container-id-28 input.sk-toggleable__control:checked~div.sk-toggleable__content {max-height: 200px;max-width: 100%;overflow: auto;}#sk-container-id-28 input.sk-toggleable__control:checked~label.sk-toggleable__label-arrow:before {content: \"▾\";}#sk-container-id-28 div.sk-estimator input.sk-toggleable__control:checked~label.sk-toggleable__label {background-color: #d4ebff;}#sk-container-id-28 div.sk-label input.sk-toggleable__control:checked~label.sk-toggleable__label {background-color: #d4ebff;}#sk-container-id-28 input.sk-hidden--visually {border: 0;clip: rect(1px 1px 1px 1px);clip: rect(1px, 1px, 1px, 1px);height: 1px;margin: -1px;overflow: hidden;padding: 0;position: absolute;width: 1px;}#sk-container-id-28 div.sk-estimator {font-family: monospace;background-color: #f0f8ff;border: 1px dotted black;border-radius: 0.25em;box-sizing: border-box;margin-bottom: 0.5em;}#sk-container-id-28 div.sk-estimator:hover {background-color: #d4ebff;}#sk-container-id-28 div.sk-parallel-item::after {content: \"\";width: 100%;border-bottom: 1px solid gray;flex-grow: 1;}#sk-container-id-28 div.sk-label:hover label.sk-toggleable__label {background-color: #d4ebff;}#sk-container-id-28 div.sk-serial::before {content: \"\";position: absolute;border-left: 1px solid gray;box-sizing: border-box;top: 0;bottom: 0;left: 50%;z-index: 0;}#sk-container-id-28 div.sk-serial {display: flex;flex-direction: column;align-items: center;background-color: white;padding-right: 0.2em;padding-left: 0.2em;position: relative;}#sk-container-id-28 div.sk-item {position: relative;z-index: 1;}#sk-container-id-28 div.sk-parallel {display: flex;align-items: stretch;justify-content: center;background-color: white;position: relative;}#sk-container-id-28 div.sk-item::before, #sk-container-id-28 div.sk-parallel-item::before {content: \"\";position: absolute;border-left: 1px solid gray;box-sizing: border-box;top: 0;bottom: 0;left: 50%;z-index: -1;}#sk-container-id-28 div.sk-parallel-item {display: flex;flex-direction: column;z-index: 1;position: relative;background-color: white;}#sk-container-id-28 div.sk-parallel-item:first-child::after {align-self: flex-end;width: 50%;}#sk-container-id-28 div.sk-parallel-item:last-child::after {align-self: flex-start;width: 50%;}#sk-container-id-28 div.sk-parallel-item:only-child::after {width: 0;}#sk-container-id-28 div.sk-dashed-wrapped {border: 1px dashed gray;margin: 0 0.4em 0.5em 0.4em;box-sizing: border-box;padding-bottom: 0.4em;background-color: white;}#sk-container-id-28 div.sk-label label {font-family: monospace;font-weight: bold;display: inline-block;line-height: 1.2em;}#sk-container-id-28 div.sk-label-container {text-align: center;}#sk-container-id-28 div.sk-container {/* jupyter's `normalize.less` sets `[hidden] { display: none; }` but bootstrap.min.css set `[hidden] { display: none !important; }` so we also need the `!important` here to be able to override the default hidden behavior on the sphinx rendered scikit-learn.org. See: https://github.com/scikit-learn/scikit-learn/issues/21755 */display: inline-block !important;position: relative;}#sk-container-id-28 div.sk-text-repr-fallback {display: none;}</style><div id=\"sk-container-id-28\" class=\"sk-top-container\"><div class=\"sk-text-repr-fallback\"><pre>LogisticRegression()</pre><b>In a Jupyter environment, please rerun this cell to show the HTML representation or trust the notebook. <br />On GitHub, the HTML representation is unable to render, please try loading this page with nbviewer.org.</b></div><div class=\"sk-container\" hidden><div class=\"sk-item\"><div class=\"sk-estimator sk-toggleable\"><input class=\"sk-toggleable__control sk-hidden--visually\" id=\"sk-estimator-id-28\" type=\"checkbox\" checked><label for=\"sk-estimator-id-28\" class=\"sk-toggleable__label sk-toggleable__label-arrow\">LogisticRegression</label><div class=\"sk-toggleable__content\"><pre>LogisticRegression()</pre></div></div></div></div></div>"
            ]
          },
          "metadata": {},
          "execution_count": 402
        }
      ]
    },
    {
      "cell_type": "code",
      "source": [
        "y_pred = algoritmo.predict(X_test)\n",
        "y_pred"
      ],
      "metadata": {
        "colab": {
          "base_uri": "https://localhost:8080/"
        },
        "outputId": "58dab1e2-123a-4415-9b88-b25b1a30271d",
        "id": "k-CxO7xLmsyG"
      },
      "execution_count": 403,
      "outputs": [
        {
          "output_type": "execute_result",
          "data": {
            "text/plain": [
              "array([1, 1, 1, ..., 1, 1, 1])"
            ]
          },
          "metadata": {},
          "execution_count": 403
        }
      ]
    },
    {
      "cell_type": "code",
      "source": [
        "from sklearn.metrics import confusion_matrix\n",
        "matriz = confusion_matrix(y_test, y_pred)\n",
        "print('Matriz de Confusión:')\n",
        "print(matriz)"
      ],
      "metadata": {
        "colab": {
          "base_uri": "https://localhost:8080/"
        },
        "outputId": "d98c79c7-47d5-44ca-b428-752c50bad543",
        "id": "4l08x-_CmsyG"
      },
      "execution_count": 404,
      "outputs": [
        {
          "output_type": "stream",
          "name": "stdout",
          "text": [
            "Matriz de Confusión:\n",
            "[[   0 1663]\n",
            " [   0 5158]]\n"
          ]
        }
      ]
    },
    {
      "cell_type": "code",
      "source": [
        "from sklearn.metrics import precision_score\n",
        "\n",
        "precision3 = precision_score(y_test, y_pred, average=\"binary\", pos_label=1)\n",
        "print('Precisión del modelo:')\n",
        "print(precision3)"
      ],
      "metadata": {
        "colab": {
          "base_uri": "https://localhost:8080/"
        },
        "outputId": "cfcb5fe0-8558-4cd1-d186-537f68d34d17",
        "id": "kIlt9fXtmsyH"
      },
      "execution_count": 405,
      "outputs": [
        {
          "output_type": "stream",
          "name": "stdout",
          "text": [
            "Precisión del modelo:\n",
            "0.7561941064360065\n"
          ]
        }
      ]
    },
    {
      "cell_type": "code",
      "source": [
        "#Calculo la exactitud del modelo\n",
        "from sklearn.metrics import accuracy_score\n",
        "\n",
        "exactitud3 = accuracy_score(y_test, y_pred)\n",
        "print('Exactitud del modelo:')\n",
        "print(exactitud3)"
      ],
      "metadata": {
        "colab": {
          "base_uri": "https://localhost:8080/"
        },
        "outputId": "203a4385-375b-422a-f1f2-a9d6b6a073d6",
        "id": "e9OCqlT2msyH"
      },
      "execution_count": 406,
      "outputs": [
        {
          "output_type": "stream",
          "name": "stdout",
          "text": [
            "Exactitud del modelo:\n",
            "0.7561941064360065\n"
          ]
        }
      ]
    },
    {
      "cell_type": "code",
      "source": [
        "#Calculo la sensibilidad del modelo\n",
        "from sklearn.metrics import recall_score\n",
        "\n",
        "sensibilidad3 = recall_score(y_test, y_pred, average=\"binary\", pos_label=1)\n",
        "print('Sensibilidad del modelo:')\n",
        "print(sensibilidad3)"
      ],
      "metadata": {
        "outputId": "246db4d5-a4c3-41e5-c4ce-f9bacd04be29",
        "colab": {
          "base_uri": "https://localhost:8080/"
        },
        "id": "JHKWgmMSmsyI"
      },
      "execution_count": 407,
      "outputs": [
        {
          "output_type": "stream",
          "name": "stdout",
          "text": [
            "Sensibilidad del modelo:\n",
            "1.0\n"
          ]
        }
      ]
    },
    {
      "cell_type": "code",
      "source": [
        "#Calculo el Puntaje F1 del modelo\n",
        "from sklearn.metrics import f1_score\n",
        "puntajef1 = f1_score(y_test, y_pred, average=\"binary\", pos_label=1)\n",
        "print('Puntaje F1 del modelo:')\n",
        "print(puntajef1)"
      ],
      "metadata": {
        "colab": {
          "base_uri": "https://localhost:8080/"
        },
        "id": "xEm9yDIOzdpl",
        "outputId": "135547e6-e9a3-4a3b-ee4e-c06610c0a477"
      },
      "execution_count": 408,
      "outputs": [
        {
          "output_type": "stream",
          "name": "stdout",
          "text": [
            "Puntaje F1 del modelo:\n",
            "0.8611737206778529\n"
          ]
        }
      ]
    },
    {
      "cell_type": "markdown",
      "source": [
        "##**Modelo 4**"
      ],
      "metadata": {
        "id": "mnDhc3jsmtoM"
      }
    },
    {
      "cell_type": "code",
      "source": [
        "Vars_Indep= df[['monto_financiado', 'precio', 'monto_accesorios']]\n",
        "Var_Dep= df['status']\n",
        "X= Vars_Indep\n",
        "y= Var_Dep"
      ],
      "metadata": {
        "id": "Q7Pw7f6YmtoN"
      },
      "execution_count": 409,
      "outputs": []
    },
    {
      "cell_type": "code",
      "source": [
        "X_train, X_test, y_train, y_test = train_test_split(X, y, test_size=0.3, random_state =None)"
      ],
      "metadata": {
        "id": "9Kakft6vmtoN"
      },
      "execution_count": 410,
      "outputs": []
    },
    {
      "cell_type": "code",
      "source": [
        "escalar = StandardScaler()"
      ],
      "metadata": {
        "id": "PH19cMH5mtoO"
      },
      "execution_count": 411,
      "outputs": []
    },
    {
      "cell_type": "code",
      "source": [
        "X_train = escalar.fit_transform(X_train)\n",
        "X_test = escalar.transform(X_test)"
      ],
      "metadata": {
        "id": "gVAL2z-AmtoO"
      },
      "execution_count": 412,
      "outputs": []
    },
    {
      "cell_type": "code",
      "source": [
        "from sklearn.linear_model import LogisticRegression\n",
        "algoritmo = LogisticRegression()"
      ],
      "metadata": {
        "id": "7pNdam4OmtoO"
      },
      "execution_count": 413,
      "outputs": []
    },
    {
      "cell_type": "code",
      "source": [
        "algoritmo.fit(X_train, y_train)"
      ],
      "metadata": {
        "colab": {
          "base_uri": "https://localhost:8080/",
          "height": 0
        },
        "outputId": "3e1b7090-f7bf-45f3-ec07-935f025a8812",
        "id": "bJsq8xy4mtoO"
      },
      "execution_count": 414,
      "outputs": [
        {
          "output_type": "execute_result",
          "data": {
            "text/plain": [
              "LogisticRegression()"
            ],
            "text/html": [
              "<style>#sk-container-id-29 {color: black;background-color: white;}#sk-container-id-29 pre{padding: 0;}#sk-container-id-29 div.sk-toggleable {background-color: white;}#sk-container-id-29 label.sk-toggleable__label {cursor: pointer;display: block;width: 100%;margin-bottom: 0;padding: 0.3em;box-sizing: border-box;text-align: center;}#sk-container-id-29 label.sk-toggleable__label-arrow:before {content: \"▸\";float: left;margin-right: 0.25em;color: #696969;}#sk-container-id-29 label.sk-toggleable__label-arrow:hover:before {color: black;}#sk-container-id-29 div.sk-estimator:hover label.sk-toggleable__label-arrow:before {color: black;}#sk-container-id-29 div.sk-toggleable__content {max-height: 0;max-width: 0;overflow: hidden;text-align: left;background-color: #f0f8ff;}#sk-container-id-29 div.sk-toggleable__content pre {margin: 0.2em;color: black;border-radius: 0.25em;background-color: #f0f8ff;}#sk-container-id-29 input.sk-toggleable__control:checked~div.sk-toggleable__content {max-height: 200px;max-width: 100%;overflow: auto;}#sk-container-id-29 input.sk-toggleable__control:checked~label.sk-toggleable__label-arrow:before {content: \"▾\";}#sk-container-id-29 div.sk-estimator input.sk-toggleable__control:checked~label.sk-toggleable__label {background-color: #d4ebff;}#sk-container-id-29 div.sk-label input.sk-toggleable__control:checked~label.sk-toggleable__label {background-color: #d4ebff;}#sk-container-id-29 input.sk-hidden--visually {border: 0;clip: rect(1px 1px 1px 1px);clip: rect(1px, 1px, 1px, 1px);height: 1px;margin: -1px;overflow: hidden;padding: 0;position: absolute;width: 1px;}#sk-container-id-29 div.sk-estimator {font-family: monospace;background-color: #f0f8ff;border: 1px dotted black;border-radius: 0.25em;box-sizing: border-box;margin-bottom: 0.5em;}#sk-container-id-29 div.sk-estimator:hover {background-color: #d4ebff;}#sk-container-id-29 div.sk-parallel-item::after {content: \"\";width: 100%;border-bottom: 1px solid gray;flex-grow: 1;}#sk-container-id-29 div.sk-label:hover label.sk-toggleable__label {background-color: #d4ebff;}#sk-container-id-29 div.sk-serial::before {content: \"\";position: absolute;border-left: 1px solid gray;box-sizing: border-box;top: 0;bottom: 0;left: 50%;z-index: 0;}#sk-container-id-29 div.sk-serial {display: flex;flex-direction: column;align-items: center;background-color: white;padding-right: 0.2em;padding-left: 0.2em;position: relative;}#sk-container-id-29 div.sk-item {position: relative;z-index: 1;}#sk-container-id-29 div.sk-parallel {display: flex;align-items: stretch;justify-content: center;background-color: white;position: relative;}#sk-container-id-29 div.sk-item::before, #sk-container-id-29 div.sk-parallel-item::before {content: \"\";position: absolute;border-left: 1px solid gray;box-sizing: border-box;top: 0;bottom: 0;left: 50%;z-index: -1;}#sk-container-id-29 div.sk-parallel-item {display: flex;flex-direction: column;z-index: 1;position: relative;background-color: white;}#sk-container-id-29 div.sk-parallel-item:first-child::after {align-self: flex-end;width: 50%;}#sk-container-id-29 div.sk-parallel-item:last-child::after {align-self: flex-start;width: 50%;}#sk-container-id-29 div.sk-parallel-item:only-child::after {width: 0;}#sk-container-id-29 div.sk-dashed-wrapped {border: 1px dashed gray;margin: 0 0.4em 0.5em 0.4em;box-sizing: border-box;padding-bottom: 0.4em;background-color: white;}#sk-container-id-29 div.sk-label label {font-family: monospace;font-weight: bold;display: inline-block;line-height: 1.2em;}#sk-container-id-29 div.sk-label-container {text-align: center;}#sk-container-id-29 div.sk-container {/* jupyter's `normalize.less` sets `[hidden] { display: none; }` but bootstrap.min.css set `[hidden] { display: none !important; }` so we also need the `!important` here to be able to override the default hidden behavior on the sphinx rendered scikit-learn.org. See: https://github.com/scikit-learn/scikit-learn/issues/21755 */display: inline-block !important;position: relative;}#sk-container-id-29 div.sk-text-repr-fallback {display: none;}</style><div id=\"sk-container-id-29\" class=\"sk-top-container\"><div class=\"sk-text-repr-fallback\"><pre>LogisticRegression()</pre><b>In a Jupyter environment, please rerun this cell to show the HTML representation or trust the notebook. <br />On GitHub, the HTML representation is unable to render, please try loading this page with nbviewer.org.</b></div><div class=\"sk-container\" hidden><div class=\"sk-item\"><div class=\"sk-estimator sk-toggleable\"><input class=\"sk-toggleable__control sk-hidden--visually\" id=\"sk-estimator-id-29\" type=\"checkbox\" checked><label for=\"sk-estimator-id-29\" class=\"sk-toggleable__label sk-toggleable__label-arrow\">LogisticRegression</label><div class=\"sk-toggleable__content\"><pre>LogisticRegression()</pre></div></div></div></div></div>"
            ]
          },
          "metadata": {},
          "execution_count": 414
        }
      ]
    },
    {
      "cell_type": "code",
      "source": [
        "y_pred = algoritmo.predict(X_test)\n",
        "y_pred"
      ],
      "metadata": {
        "colab": {
          "base_uri": "https://localhost:8080/"
        },
        "outputId": "4f6ed557-5b2a-4656-b68e-0912f9f28fc9",
        "id": "KAD5WDihmtoP"
      },
      "execution_count": 415,
      "outputs": [
        {
          "output_type": "execute_result",
          "data": {
            "text/plain": [
              "array([1, 1, 1, ..., 1, 1, 1])"
            ]
          },
          "metadata": {},
          "execution_count": 415
        }
      ]
    },
    {
      "cell_type": "code",
      "source": [
        "from sklearn.metrics import confusion_matrix\n",
        "matriz = confusion_matrix(y_test, y_pred)\n",
        "print('Matriz de Confusión:')\n",
        "print(matriz)"
      ],
      "metadata": {
        "colab": {
          "base_uri": "https://localhost:8080/"
        },
        "outputId": "b29d627b-79d2-4aaf-ffe8-60ef2bdc0d3b",
        "id": "bxcW8et3mtoP"
      },
      "execution_count": 416,
      "outputs": [
        {
          "output_type": "stream",
          "name": "stdout",
          "text": [
            "Matriz de Confusión:\n",
            "[[   0 1655]\n",
            " [   0 5166]]\n"
          ]
        }
      ]
    },
    {
      "cell_type": "code",
      "source": [
        "from sklearn.metrics import precision_score\n",
        "\n",
        "precision4 = precision_score(y_test, y_pred, average=\"binary\", pos_label=1)\n",
        "print('Precisión del modelo:')\n",
        "print(precision4)"
      ],
      "metadata": {
        "colab": {
          "base_uri": "https://localhost:8080/"
        },
        "outputId": "28fa30dd-e5df-4105-a9fd-166f1672c92b",
        "id": "zTG15TOsmtoP"
      },
      "execution_count": 417,
      "outputs": [
        {
          "output_type": "stream",
          "name": "stdout",
          "text": [
            "Precisión del modelo:\n",
            "0.7573669549919366\n"
          ]
        }
      ]
    },
    {
      "cell_type": "code",
      "source": [
        "#Calculo la exactitud del modelo\n",
        "from sklearn.metrics import accuracy_score\n",
        "\n",
        "exactitud4 = accuracy_score(y_test, y_pred)\n",
        "print('Exactitud del modelo:')\n",
        "print(exactitud4)"
      ],
      "metadata": {
        "colab": {
          "base_uri": "https://localhost:8080/"
        },
        "outputId": "b51ed82f-fd24-4703-a802-efdfca02b63e",
        "id": "IkUYpWn0mtoP"
      },
      "execution_count": 418,
      "outputs": [
        {
          "output_type": "stream",
          "name": "stdout",
          "text": [
            "Exactitud del modelo:\n",
            "0.7573669549919366\n"
          ]
        }
      ]
    },
    {
      "cell_type": "code",
      "source": [
        "#Calculo la sensibilidad del modelo\n",
        "from sklearn.metrics import recall_score\n",
        "\n",
        "sensibilidad4 = recall_score(y_test, y_pred, average=\"binary\", pos_label=1)\n",
        "print('Sensibilidad del modelo:')\n",
        "print(sensibilidad4)"
      ],
      "metadata": {
        "outputId": "f41e094c-b105-438e-f4d8-e41026c0f3c1",
        "colab": {
          "base_uri": "https://localhost:8080/"
        },
        "id": "xvz9d6tamtoP"
      },
      "execution_count": 419,
      "outputs": [
        {
          "output_type": "stream",
          "name": "stdout",
          "text": [
            "Sensibilidad del modelo:\n",
            "1.0\n"
          ]
        }
      ]
    },
    {
      "cell_type": "code",
      "source": [
        "#Calculo el Puntaje F1 del modelo\n",
        "from sklearn.metrics import f1_score\n",
        "puntajef1 = f1_score(y_test, y_pred, average=\"binary\", pos_label=1)\n",
        "print('Puntaje F1 del modelo:')\n",
        "print(puntajef1)"
      ],
      "metadata": {
        "colab": {
          "base_uri": "https://localhost:8080/"
        },
        "id": "35i09G7Yzfl7",
        "outputId": "c55de74a-73db-483d-f7de-576e4ae7d161"
      },
      "execution_count": 420,
      "outputs": [
        {
          "output_type": "stream",
          "name": "stdout",
          "text": [
            "Puntaje F1 del modelo:\n",
            "0.8619337615750396\n"
          ]
        }
      ]
    },
    {
      "cell_type": "markdown",
      "source": [
        "##**Modelo 5**"
      ],
      "metadata": {
        "id": "mg4fDlTqmujG"
      }
    },
    {
      "cell_type": "code",
      "source": [
        "Vars_Indep= df[['riesgo', 'porc_eng', 'score_buro']]\n",
        "Var_Dep= df['status']\n",
        "X= Vars_Indep\n",
        "y= Var_Dep"
      ],
      "metadata": {
        "id": "SESWmtDBmujG"
      },
      "execution_count": 421,
      "outputs": []
    },
    {
      "cell_type": "code",
      "source": [
        "X_train, X_test, y_train, y_test = train_test_split(X, y, test_size=0.3, random_state =None)"
      ],
      "metadata": {
        "id": "FBjw8b3UmujH"
      },
      "execution_count": 422,
      "outputs": []
    },
    {
      "cell_type": "code",
      "source": [
        "escalar = StandardScaler()"
      ],
      "metadata": {
        "id": "gic4OFUimujH"
      },
      "execution_count": 423,
      "outputs": []
    },
    {
      "cell_type": "code",
      "source": [
        "X_train = escalar.fit_transform(X_train)\n",
        "X_test = escalar.transform(X_test)"
      ],
      "metadata": {
        "id": "hKOTrIGimujI"
      },
      "execution_count": 424,
      "outputs": []
    },
    {
      "cell_type": "code",
      "source": [
        "from sklearn.linear_model import LogisticRegression\n",
        "algoritmo = LogisticRegression()"
      ],
      "metadata": {
        "id": "8rkEIP0MmujI"
      },
      "execution_count": 425,
      "outputs": []
    },
    {
      "cell_type": "code",
      "source": [
        "algoritmo.fit(X_train, y_train)"
      ],
      "metadata": {
        "colab": {
          "base_uri": "https://localhost:8080/",
          "height": 0
        },
        "outputId": "1754716c-d854-4f06-aa0b-ea751e2b10e1",
        "id": "aKjsL6ntmujI"
      },
      "execution_count": 426,
      "outputs": [
        {
          "output_type": "execute_result",
          "data": {
            "text/plain": [
              "LogisticRegression()"
            ],
            "text/html": [
              "<style>#sk-container-id-30 {color: black;background-color: white;}#sk-container-id-30 pre{padding: 0;}#sk-container-id-30 div.sk-toggleable {background-color: white;}#sk-container-id-30 label.sk-toggleable__label {cursor: pointer;display: block;width: 100%;margin-bottom: 0;padding: 0.3em;box-sizing: border-box;text-align: center;}#sk-container-id-30 label.sk-toggleable__label-arrow:before {content: \"▸\";float: left;margin-right: 0.25em;color: #696969;}#sk-container-id-30 label.sk-toggleable__label-arrow:hover:before {color: black;}#sk-container-id-30 div.sk-estimator:hover label.sk-toggleable__label-arrow:before {color: black;}#sk-container-id-30 div.sk-toggleable__content {max-height: 0;max-width: 0;overflow: hidden;text-align: left;background-color: #f0f8ff;}#sk-container-id-30 div.sk-toggleable__content pre {margin: 0.2em;color: black;border-radius: 0.25em;background-color: #f0f8ff;}#sk-container-id-30 input.sk-toggleable__control:checked~div.sk-toggleable__content {max-height: 200px;max-width: 100%;overflow: auto;}#sk-container-id-30 input.sk-toggleable__control:checked~label.sk-toggleable__label-arrow:before {content: \"▾\";}#sk-container-id-30 div.sk-estimator input.sk-toggleable__control:checked~label.sk-toggleable__label {background-color: #d4ebff;}#sk-container-id-30 div.sk-label input.sk-toggleable__control:checked~label.sk-toggleable__label {background-color: #d4ebff;}#sk-container-id-30 input.sk-hidden--visually {border: 0;clip: rect(1px 1px 1px 1px);clip: rect(1px, 1px, 1px, 1px);height: 1px;margin: -1px;overflow: hidden;padding: 0;position: absolute;width: 1px;}#sk-container-id-30 div.sk-estimator {font-family: monospace;background-color: #f0f8ff;border: 1px dotted black;border-radius: 0.25em;box-sizing: border-box;margin-bottom: 0.5em;}#sk-container-id-30 div.sk-estimator:hover {background-color: #d4ebff;}#sk-container-id-30 div.sk-parallel-item::after {content: \"\";width: 100%;border-bottom: 1px solid gray;flex-grow: 1;}#sk-container-id-30 div.sk-label:hover label.sk-toggleable__label {background-color: #d4ebff;}#sk-container-id-30 div.sk-serial::before {content: \"\";position: absolute;border-left: 1px solid gray;box-sizing: border-box;top: 0;bottom: 0;left: 50%;z-index: 0;}#sk-container-id-30 div.sk-serial {display: flex;flex-direction: column;align-items: center;background-color: white;padding-right: 0.2em;padding-left: 0.2em;position: relative;}#sk-container-id-30 div.sk-item {position: relative;z-index: 1;}#sk-container-id-30 div.sk-parallel {display: flex;align-items: stretch;justify-content: center;background-color: white;position: relative;}#sk-container-id-30 div.sk-item::before, #sk-container-id-30 div.sk-parallel-item::before {content: \"\";position: absolute;border-left: 1px solid gray;box-sizing: border-box;top: 0;bottom: 0;left: 50%;z-index: -1;}#sk-container-id-30 div.sk-parallel-item {display: flex;flex-direction: column;z-index: 1;position: relative;background-color: white;}#sk-container-id-30 div.sk-parallel-item:first-child::after {align-self: flex-end;width: 50%;}#sk-container-id-30 div.sk-parallel-item:last-child::after {align-self: flex-start;width: 50%;}#sk-container-id-30 div.sk-parallel-item:only-child::after {width: 0;}#sk-container-id-30 div.sk-dashed-wrapped {border: 1px dashed gray;margin: 0 0.4em 0.5em 0.4em;box-sizing: border-box;padding-bottom: 0.4em;background-color: white;}#sk-container-id-30 div.sk-label label {font-family: monospace;font-weight: bold;display: inline-block;line-height: 1.2em;}#sk-container-id-30 div.sk-label-container {text-align: center;}#sk-container-id-30 div.sk-container {/* jupyter's `normalize.less` sets `[hidden] { display: none; }` but bootstrap.min.css set `[hidden] { display: none !important; }` so we also need the `!important` here to be able to override the default hidden behavior on the sphinx rendered scikit-learn.org. See: https://github.com/scikit-learn/scikit-learn/issues/21755 */display: inline-block !important;position: relative;}#sk-container-id-30 div.sk-text-repr-fallback {display: none;}</style><div id=\"sk-container-id-30\" class=\"sk-top-container\"><div class=\"sk-text-repr-fallback\"><pre>LogisticRegression()</pre><b>In a Jupyter environment, please rerun this cell to show the HTML representation or trust the notebook. <br />On GitHub, the HTML representation is unable to render, please try loading this page with nbviewer.org.</b></div><div class=\"sk-container\" hidden><div class=\"sk-item\"><div class=\"sk-estimator sk-toggleable\"><input class=\"sk-toggleable__control sk-hidden--visually\" id=\"sk-estimator-id-30\" type=\"checkbox\" checked><label for=\"sk-estimator-id-30\" class=\"sk-toggleable__label sk-toggleable__label-arrow\">LogisticRegression</label><div class=\"sk-toggleable__content\"><pre>LogisticRegression()</pre></div></div></div></div></div>"
            ]
          },
          "metadata": {},
          "execution_count": 426
        }
      ]
    },
    {
      "cell_type": "code",
      "source": [
        "y_pred = algoritmo.predict(X_test)\n",
        "y_pred"
      ],
      "metadata": {
        "colab": {
          "base_uri": "https://localhost:8080/"
        },
        "outputId": "9a521d2c-3e04-4f9b-b155-fc74439f43eb",
        "id": "t967HuOSmujJ"
      },
      "execution_count": 427,
      "outputs": [
        {
          "output_type": "execute_result",
          "data": {
            "text/plain": [
              "array([0, 1, 1, ..., 1, 1, 1])"
            ]
          },
          "metadata": {},
          "execution_count": 427
        }
      ]
    },
    {
      "cell_type": "code",
      "source": [
        "from sklearn.metrics import confusion_matrix\n",
        "matriz = confusion_matrix(y_test, y_pred)\n",
        "print('Matriz de Confusión:')\n",
        "print(matriz)"
      ],
      "metadata": {
        "colab": {
          "base_uri": "https://localhost:8080/"
        },
        "outputId": "479c92b6-a1a0-45e1-8bf9-4b5dc8ebab44",
        "id": "HGbJiCrtmujJ"
      },
      "execution_count": 428,
      "outputs": [
        {
          "output_type": "stream",
          "name": "stdout",
          "text": [
            "Matriz de Confusión:\n",
            "[[ 268 1351]\n",
            " [ 305 4897]]\n"
          ]
        }
      ]
    },
    {
      "cell_type": "code",
      "source": [
        "from sklearn.metrics import precision_score\n",
        "\n",
        "precision5 = precision_score(y_test, y_pred, average=\"binary\", pos_label=1)\n",
        "print('Precisión del modelo:')\n",
        "print(precision5)"
      ],
      "metadata": {
        "colab": {
          "base_uri": "https://localhost:8080/"
        },
        "outputId": "9919fa4f-69e5-4e9e-dd41-e52b8ed247be",
        "id": "IN6OaOEpmujJ"
      },
      "execution_count": 429,
      "outputs": [
        {
          "output_type": "stream",
          "name": "stdout",
          "text": [
            "Precisión del modelo:\n",
            "0.7837708066581306\n"
          ]
        }
      ]
    },
    {
      "cell_type": "code",
      "source": [
        "#Calculo la exactitud del modelo\n",
        "from sklearn.metrics import accuracy_score\n",
        "\n",
        "exactitud5 = accuracy_score(y_test, y_pred)\n",
        "print('Exactitud del modelo:')\n",
        "print(exactitud5)"
      ],
      "metadata": {
        "colab": {
          "base_uri": "https://localhost:8080/"
        },
        "outputId": "cc986d17-3745-482b-c21d-2d67c0b2bd53",
        "id": "LKRvj6rfmujK"
      },
      "execution_count": 430,
      "outputs": [
        {
          "output_type": "stream",
          "name": "stdout",
          "text": [
            "Exactitud del modelo:\n",
            "0.7572203489224454\n"
          ]
        }
      ]
    },
    {
      "cell_type": "code",
      "source": [
        "#Calculo la sensibilidad del modelo\n",
        "from sklearn.metrics import recall_score\n",
        "\n",
        "sensibilidad5 = recall_score(y_test, y_pred, average=\"binary\", pos_label=1)\n",
        "print('Sensibilidad del modelo:')\n",
        "print(sensibilidad5)"
      ],
      "metadata": {
        "outputId": "8defc0e8-2a3e-4606-df0f-dced9f73327c",
        "colab": {
          "base_uri": "https://localhost:8080/"
        },
        "id": "hLeVwGT4mujK"
      },
      "execution_count": 431,
      "outputs": [
        {
          "output_type": "stream",
          "name": "stdout",
          "text": [
            "Sensibilidad del modelo:\n",
            "0.9413687043444829\n"
          ]
        }
      ]
    },
    {
      "cell_type": "code",
      "source": [
        "#Calculo el Puntaje F1 del modelo\n",
        "from sklearn.metrics import f1_score\n",
        "puntajef1 = f1_score(y_test, y_pred, average=\"binary\", pos_label=1)\n",
        "print('Puntaje F1 del modelo:')\n",
        "print(puntajef1)"
      ],
      "metadata": {
        "colab": {
          "base_uri": "https://localhost:8080/"
        },
        "id": "X2GiXyjZzhKm",
        "outputId": "11699a76-7af6-44d3-f23a-908069685955"
      },
      "execution_count": 432,
      "outputs": [
        {
          "output_type": "stream",
          "name": "stdout",
          "text": [
            "Puntaje F1 del modelo:\n",
            "0.8553711790393013\n"
          ]
        }
      ]
    },
    {
      "cell_type": "markdown",
      "source": [
        "##**Modelo 6**"
      ],
      "metadata": {
        "id": "UVGvpauUmyy2"
      }
    },
    {
      "cell_type": "code",
      "source": [
        "Vars_Indep= df[['pagos_realizados', 'precio', 'score_buro']]\n",
        "Var_Dep= df['marca']\n",
        "X= Vars_Indep\n",
        "y= Var_Dep"
      ],
      "metadata": {
        "id": "4HXk5jOImyzf"
      },
      "execution_count": 433,
      "outputs": []
    },
    {
      "cell_type": "code",
      "source": [
        "X_train, X_test, y_train, y_test = train_test_split(X, y, test_size=0.3, random_state =None)"
      ],
      "metadata": {
        "id": "-L1WAM1xmyzg"
      },
      "execution_count": 434,
      "outputs": []
    },
    {
      "cell_type": "code",
      "source": [
        "escalar = StandardScaler()"
      ],
      "metadata": {
        "id": "2_vtO-Pjmyzh"
      },
      "execution_count": 435,
      "outputs": []
    },
    {
      "cell_type": "code",
      "source": [
        "X_train = escalar.fit_transform(X_train)\n",
        "X_test = escalar.transform(X_test)"
      ],
      "metadata": {
        "id": "0dH2kC7cmyzi"
      },
      "execution_count": 436,
      "outputs": []
    },
    {
      "cell_type": "code",
      "source": [
        "from sklearn.linear_model import LogisticRegression\n",
        "algoritmo = LogisticRegression()"
      ],
      "metadata": {
        "id": "LQUDwwVemyzi"
      },
      "execution_count": 437,
      "outputs": []
    },
    {
      "cell_type": "code",
      "source": [
        "algoritmo.fit(X_train, y_train)"
      ],
      "metadata": {
        "colab": {
          "base_uri": "https://localhost:8080/",
          "height": 0
        },
        "outputId": "bcf21585-5a3b-43a5-8c66-f405f89837d1",
        "id": "gstSyen1myzj"
      },
      "execution_count": 438,
      "outputs": [
        {
          "output_type": "execute_result",
          "data": {
            "text/plain": [
              "LogisticRegression()"
            ],
            "text/html": [
              "<style>#sk-container-id-31 {color: black;background-color: white;}#sk-container-id-31 pre{padding: 0;}#sk-container-id-31 div.sk-toggleable {background-color: white;}#sk-container-id-31 label.sk-toggleable__label {cursor: pointer;display: block;width: 100%;margin-bottom: 0;padding: 0.3em;box-sizing: border-box;text-align: center;}#sk-container-id-31 label.sk-toggleable__label-arrow:before {content: \"▸\";float: left;margin-right: 0.25em;color: #696969;}#sk-container-id-31 label.sk-toggleable__label-arrow:hover:before {color: black;}#sk-container-id-31 div.sk-estimator:hover label.sk-toggleable__label-arrow:before {color: black;}#sk-container-id-31 div.sk-toggleable__content {max-height: 0;max-width: 0;overflow: hidden;text-align: left;background-color: #f0f8ff;}#sk-container-id-31 div.sk-toggleable__content pre {margin: 0.2em;color: black;border-radius: 0.25em;background-color: #f0f8ff;}#sk-container-id-31 input.sk-toggleable__control:checked~div.sk-toggleable__content {max-height: 200px;max-width: 100%;overflow: auto;}#sk-container-id-31 input.sk-toggleable__control:checked~label.sk-toggleable__label-arrow:before {content: \"▾\";}#sk-container-id-31 div.sk-estimator input.sk-toggleable__control:checked~label.sk-toggleable__label {background-color: #d4ebff;}#sk-container-id-31 div.sk-label input.sk-toggleable__control:checked~label.sk-toggleable__label {background-color: #d4ebff;}#sk-container-id-31 input.sk-hidden--visually {border: 0;clip: rect(1px 1px 1px 1px);clip: rect(1px, 1px, 1px, 1px);height: 1px;margin: -1px;overflow: hidden;padding: 0;position: absolute;width: 1px;}#sk-container-id-31 div.sk-estimator {font-family: monospace;background-color: #f0f8ff;border: 1px dotted black;border-radius: 0.25em;box-sizing: border-box;margin-bottom: 0.5em;}#sk-container-id-31 div.sk-estimator:hover {background-color: #d4ebff;}#sk-container-id-31 div.sk-parallel-item::after {content: \"\";width: 100%;border-bottom: 1px solid gray;flex-grow: 1;}#sk-container-id-31 div.sk-label:hover label.sk-toggleable__label {background-color: #d4ebff;}#sk-container-id-31 div.sk-serial::before {content: \"\";position: absolute;border-left: 1px solid gray;box-sizing: border-box;top: 0;bottom: 0;left: 50%;z-index: 0;}#sk-container-id-31 div.sk-serial {display: flex;flex-direction: column;align-items: center;background-color: white;padding-right: 0.2em;padding-left: 0.2em;position: relative;}#sk-container-id-31 div.sk-item {position: relative;z-index: 1;}#sk-container-id-31 div.sk-parallel {display: flex;align-items: stretch;justify-content: center;background-color: white;position: relative;}#sk-container-id-31 div.sk-item::before, #sk-container-id-31 div.sk-parallel-item::before {content: \"\";position: absolute;border-left: 1px solid gray;box-sizing: border-box;top: 0;bottom: 0;left: 50%;z-index: -1;}#sk-container-id-31 div.sk-parallel-item {display: flex;flex-direction: column;z-index: 1;position: relative;background-color: white;}#sk-container-id-31 div.sk-parallel-item:first-child::after {align-self: flex-end;width: 50%;}#sk-container-id-31 div.sk-parallel-item:last-child::after {align-self: flex-start;width: 50%;}#sk-container-id-31 div.sk-parallel-item:only-child::after {width: 0;}#sk-container-id-31 div.sk-dashed-wrapped {border: 1px dashed gray;margin: 0 0.4em 0.5em 0.4em;box-sizing: border-box;padding-bottom: 0.4em;background-color: white;}#sk-container-id-31 div.sk-label label {font-family: monospace;font-weight: bold;display: inline-block;line-height: 1.2em;}#sk-container-id-31 div.sk-label-container {text-align: center;}#sk-container-id-31 div.sk-container {/* jupyter's `normalize.less` sets `[hidden] { display: none; }` but bootstrap.min.css set `[hidden] { display: none !important; }` so we also need the `!important` here to be able to override the default hidden behavior on the sphinx rendered scikit-learn.org. See: https://github.com/scikit-learn/scikit-learn/issues/21755 */display: inline-block !important;position: relative;}#sk-container-id-31 div.sk-text-repr-fallback {display: none;}</style><div id=\"sk-container-id-31\" class=\"sk-top-container\"><div class=\"sk-text-repr-fallback\"><pre>LogisticRegression()</pre><b>In a Jupyter environment, please rerun this cell to show the HTML representation or trust the notebook. <br />On GitHub, the HTML representation is unable to render, please try loading this page with nbviewer.org.</b></div><div class=\"sk-container\" hidden><div class=\"sk-item\"><div class=\"sk-estimator sk-toggleable\"><input class=\"sk-toggleable__control sk-hidden--visually\" id=\"sk-estimator-id-31\" type=\"checkbox\" checked><label for=\"sk-estimator-id-31\" class=\"sk-toggleable__label sk-toggleable__label-arrow\">LogisticRegression</label><div class=\"sk-toggleable__content\"><pre>LogisticRegression()</pre></div></div></div></div></div>"
            ]
          },
          "metadata": {},
          "execution_count": 438
        }
      ]
    },
    {
      "cell_type": "code",
      "source": [
        "y_pred = algoritmo.predict(X_test)\n",
        "y_pred"
      ],
      "metadata": {
        "colab": {
          "base_uri": "https://localhost:8080/"
        },
        "outputId": "f61b93cc-f970-4a30-9d0a-9a2088792aef",
        "id": "5Jdj7pDGmyzj"
      },
      "execution_count": 439,
      "outputs": [
        {
          "output_type": "execute_result",
          "data": {
            "text/plain": [
              "array([1, 1, 1, ..., 1, 1, 1])"
            ]
          },
          "metadata": {},
          "execution_count": 439
        }
      ]
    },
    {
      "cell_type": "code",
      "source": [
        "from sklearn.metrics import confusion_matrix\n",
        "matriz = confusion_matrix(y_test, y_pred)\n",
        "print('Matriz de Confusión:')\n",
        "print(matriz)"
      ],
      "metadata": {
        "colab": {
          "base_uri": "https://localhost:8080/"
        },
        "outputId": "3ab94968-c224-4b1f-a78d-f38b94c48772",
        "id": "gpaIc4Rgmyzk"
      },
      "execution_count": 440,
      "outputs": [
        {
          "output_type": "stream",
          "name": "stdout",
          "text": [
            "Matriz de Confusión:\n",
            "[[   0 2461]\n",
            " [   0 4360]]\n"
          ]
        }
      ]
    },
    {
      "cell_type": "code",
      "source": [
        "from sklearn.metrics import precision_score\n",
        "\n",
        "precision6 = precision_score(y_test, y_pred, average=\"binary\", pos_label=1)\n",
        "print('Precisión del modelo:')\n",
        "print(precision6)"
      ],
      "metadata": {
        "colab": {
          "base_uri": "https://localhost:8080/"
        },
        "outputId": "2f95574c-790c-4318-f875-57d4cddb1d41",
        "id": "rUS8FXmemyzk"
      },
      "execution_count": 441,
      "outputs": [
        {
          "output_type": "stream",
          "name": "stdout",
          "text": [
            "Precisión del modelo:\n",
            "0.6392024629819675\n"
          ]
        }
      ]
    },
    {
      "cell_type": "code",
      "source": [
        "#Calculo la exactitud del modelo\n",
        "from sklearn.metrics import accuracy_score\n",
        "\n",
        "exactitud6 = accuracy_score(y_test, y_pred)\n",
        "print('Exactitud del modelo:')\n",
        "print(exactitud6)"
      ],
      "metadata": {
        "colab": {
          "base_uri": "https://localhost:8080/"
        },
        "outputId": "a7e68142-a429-497e-ef34-59119f5019f7",
        "id": "XB4UyJBymyzk"
      },
      "execution_count": 442,
      "outputs": [
        {
          "output_type": "stream",
          "name": "stdout",
          "text": [
            "Exactitud del modelo:\n",
            "0.6392024629819675\n"
          ]
        }
      ]
    },
    {
      "cell_type": "code",
      "source": [
        "#Calculo la sensibilidad del modelo\n",
        "from sklearn.metrics import recall_score\n",
        "\n",
        "sensibilidad6 = recall_score(y_test, y_pred, average=\"binary\", pos_label=1)\n",
        "print('Sensibilidad del modelo:')\n",
        "print(sensibilidad6)"
      ],
      "metadata": {
        "outputId": "5648f8dd-3182-46e7-eecb-61303e74aaed",
        "colab": {
          "base_uri": "https://localhost:8080/"
        },
        "id": "3lqjGWZYmyzl"
      },
      "execution_count": 443,
      "outputs": [
        {
          "output_type": "stream",
          "name": "stdout",
          "text": [
            "Sensibilidad del modelo:\n",
            "1.0\n"
          ]
        }
      ]
    },
    {
      "cell_type": "code",
      "source": [
        "#Calculo el Puntaje F1 del modelo\n",
        "from sklearn.metrics import f1_score\n",
        "puntajef1 = f1_score(y_test, y_pred, average=\"binary\", pos_label=1)\n",
        "print('Puntaje F1 del modelo:')\n",
        "print(puntajef1)"
      ],
      "metadata": {
        "colab": {
          "base_uri": "https://localhost:8080/"
        },
        "id": "DWlCiXDqzi47",
        "outputId": "40b0a769-e118-4af1-861b-73e2a4c652c5"
      },
      "execution_count": 444,
      "outputs": [
        {
          "output_type": "stream",
          "name": "stdout",
          "text": [
            "Puntaje F1 del modelo:\n",
            "0.7798944638225561\n"
          ]
        }
      ]
    },
    {
      "cell_type": "markdown",
      "source": [
        "##**Modelo 7**"
      ],
      "metadata": {
        "id": "vrPxtTdsmz08"
      }
    },
    {
      "cell_type": "code",
      "source": [
        "Vars_Indep= df[['monto_financiado', 'precio', 'monto_accesorios']]\n",
        "Var_Dep= df['marca']\n",
        "X= Vars_Indep\n",
        "y= Var_Dep"
      ],
      "metadata": {
        "id": "2aTGX6Ltmz09"
      },
      "execution_count": 445,
      "outputs": []
    },
    {
      "cell_type": "code",
      "source": [
        "X_train, X_test, y_train, y_test = train_test_split(X, y, test_size=0.3, random_state =None)"
      ],
      "metadata": {
        "id": "MfdYMM8-mz09"
      },
      "execution_count": 446,
      "outputs": []
    },
    {
      "cell_type": "code",
      "source": [
        "escalar = StandardScaler()"
      ],
      "metadata": {
        "id": "lbyjVkwlmz09"
      },
      "execution_count": 447,
      "outputs": []
    },
    {
      "cell_type": "code",
      "source": [
        "X_train = escalar.fit_transform(X_train)\n",
        "X_test = escalar.transform(X_test)"
      ],
      "metadata": {
        "id": "aW-XknHumz09"
      },
      "execution_count": 448,
      "outputs": []
    },
    {
      "cell_type": "code",
      "source": [
        "from sklearn.linear_model import LogisticRegression\n",
        "algoritmo = LogisticRegression()"
      ],
      "metadata": {
        "id": "QiK1PAnSmz0-"
      },
      "execution_count": 449,
      "outputs": []
    },
    {
      "cell_type": "code",
      "source": [
        "algoritmo.fit(X_train, y_train)"
      ],
      "metadata": {
        "colab": {
          "base_uri": "https://localhost:8080/",
          "height": 0
        },
        "outputId": "e09a62c8-b41e-426c-963f-5f951647ba38",
        "id": "sbFhguaXmz0-"
      },
      "execution_count": 450,
      "outputs": [
        {
          "output_type": "execute_result",
          "data": {
            "text/plain": [
              "LogisticRegression()"
            ],
            "text/html": [
              "<style>#sk-container-id-32 {color: black;background-color: white;}#sk-container-id-32 pre{padding: 0;}#sk-container-id-32 div.sk-toggleable {background-color: white;}#sk-container-id-32 label.sk-toggleable__label {cursor: pointer;display: block;width: 100%;margin-bottom: 0;padding: 0.3em;box-sizing: border-box;text-align: center;}#sk-container-id-32 label.sk-toggleable__label-arrow:before {content: \"▸\";float: left;margin-right: 0.25em;color: #696969;}#sk-container-id-32 label.sk-toggleable__label-arrow:hover:before {color: black;}#sk-container-id-32 div.sk-estimator:hover label.sk-toggleable__label-arrow:before {color: black;}#sk-container-id-32 div.sk-toggleable__content {max-height: 0;max-width: 0;overflow: hidden;text-align: left;background-color: #f0f8ff;}#sk-container-id-32 div.sk-toggleable__content pre {margin: 0.2em;color: black;border-radius: 0.25em;background-color: #f0f8ff;}#sk-container-id-32 input.sk-toggleable__control:checked~div.sk-toggleable__content {max-height: 200px;max-width: 100%;overflow: auto;}#sk-container-id-32 input.sk-toggleable__control:checked~label.sk-toggleable__label-arrow:before {content: \"▾\";}#sk-container-id-32 div.sk-estimator input.sk-toggleable__control:checked~label.sk-toggleable__label {background-color: #d4ebff;}#sk-container-id-32 div.sk-label input.sk-toggleable__control:checked~label.sk-toggleable__label {background-color: #d4ebff;}#sk-container-id-32 input.sk-hidden--visually {border: 0;clip: rect(1px 1px 1px 1px);clip: rect(1px, 1px, 1px, 1px);height: 1px;margin: -1px;overflow: hidden;padding: 0;position: absolute;width: 1px;}#sk-container-id-32 div.sk-estimator {font-family: monospace;background-color: #f0f8ff;border: 1px dotted black;border-radius: 0.25em;box-sizing: border-box;margin-bottom: 0.5em;}#sk-container-id-32 div.sk-estimator:hover {background-color: #d4ebff;}#sk-container-id-32 div.sk-parallel-item::after {content: \"\";width: 100%;border-bottom: 1px solid gray;flex-grow: 1;}#sk-container-id-32 div.sk-label:hover label.sk-toggleable__label {background-color: #d4ebff;}#sk-container-id-32 div.sk-serial::before {content: \"\";position: absolute;border-left: 1px solid gray;box-sizing: border-box;top: 0;bottom: 0;left: 50%;z-index: 0;}#sk-container-id-32 div.sk-serial {display: flex;flex-direction: column;align-items: center;background-color: white;padding-right: 0.2em;padding-left: 0.2em;position: relative;}#sk-container-id-32 div.sk-item {position: relative;z-index: 1;}#sk-container-id-32 div.sk-parallel {display: flex;align-items: stretch;justify-content: center;background-color: white;position: relative;}#sk-container-id-32 div.sk-item::before, #sk-container-id-32 div.sk-parallel-item::before {content: \"\";position: absolute;border-left: 1px solid gray;box-sizing: border-box;top: 0;bottom: 0;left: 50%;z-index: -1;}#sk-container-id-32 div.sk-parallel-item {display: flex;flex-direction: column;z-index: 1;position: relative;background-color: white;}#sk-container-id-32 div.sk-parallel-item:first-child::after {align-self: flex-end;width: 50%;}#sk-container-id-32 div.sk-parallel-item:last-child::after {align-self: flex-start;width: 50%;}#sk-container-id-32 div.sk-parallel-item:only-child::after {width: 0;}#sk-container-id-32 div.sk-dashed-wrapped {border: 1px dashed gray;margin: 0 0.4em 0.5em 0.4em;box-sizing: border-box;padding-bottom: 0.4em;background-color: white;}#sk-container-id-32 div.sk-label label {font-family: monospace;font-weight: bold;display: inline-block;line-height: 1.2em;}#sk-container-id-32 div.sk-label-container {text-align: center;}#sk-container-id-32 div.sk-container {/* jupyter's `normalize.less` sets `[hidden] { display: none; }` but bootstrap.min.css set `[hidden] { display: none !important; }` so we also need the `!important` here to be able to override the default hidden behavior on the sphinx rendered scikit-learn.org. See: https://github.com/scikit-learn/scikit-learn/issues/21755 */display: inline-block !important;position: relative;}#sk-container-id-32 div.sk-text-repr-fallback {display: none;}</style><div id=\"sk-container-id-32\" class=\"sk-top-container\"><div class=\"sk-text-repr-fallback\"><pre>LogisticRegression()</pre><b>In a Jupyter environment, please rerun this cell to show the HTML representation or trust the notebook. <br />On GitHub, the HTML representation is unable to render, please try loading this page with nbviewer.org.</b></div><div class=\"sk-container\" hidden><div class=\"sk-item\"><div class=\"sk-estimator sk-toggleable\"><input class=\"sk-toggleable__control sk-hidden--visually\" id=\"sk-estimator-id-32\" type=\"checkbox\" checked><label for=\"sk-estimator-id-32\" class=\"sk-toggleable__label sk-toggleable__label-arrow\">LogisticRegression</label><div class=\"sk-toggleable__content\"><pre>LogisticRegression()</pre></div></div></div></div></div>"
            ]
          },
          "metadata": {},
          "execution_count": 450
        }
      ]
    },
    {
      "cell_type": "code",
      "source": [
        "y_pred = algoritmo.predict(X_test)\n",
        "y_pred"
      ],
      "metadata": {
        "colab": {
          "base_uri": "https://localhost:8080/"
        },
        "outputId": "cf82d3e7-5907-4952-b442-5ea995512a8a",
        "id": "qMroQR5fmz0-"
      },
      "execution_count": 451,
      "outputs": [
        {
          "output_type": "execute_result",
          "data": {
            "text/plain": [
              "array([1, 1, 1, ..., 1, 1, 1])"
            ]
          },
          "metadata": {},
          "execution_count": 451
        }
      ]
    },
    {
      "cell_type": "code",
      "source": [
        "from sklearn.metrics import confusion_matrix\n",
        "matriz = confusion_matrix(y_test, y_pred)\n",
        "print('Matriz de Confusión:')\n",
        "print(matriz)"
      ],
      "metadata": {
        "colab": {
          "base_uri": "https://localhost:8080/"
        },
        "outputId": "faec127f-47e1-4ffc-b130-a29208852852",
        "id": "w_Dn9Il8mz0_"
      },
      "execution_count": 452,
      "outputs": [
        {
          "output_type": "stream",
          "name": "stdout",
          "text": [
            "Matriz de Confusión:\n",
            "[[  37 2384]\n",
            " [  51 4349]]\n"
          ]
        }
      ]
    },
    {
      "cell_type": "code",
      "source": [
        "from sklearn.metrics import precision_score\n",
        "\n",
        "precision7 = precision_score(y_test, y_pred, average=\"binary\", pos_label=1)\n",
        "print('Precisión del modelo:')\n",
        "print(precision7)"
      ],
      "metadata": {
        "colab": {
          "base_uri": "https://localhost:8080/"
        },
        "outputId": "9c805a91-99ff-4317-830a-1dc2e055b373",
        "id": "MukkmTCYmz0_"
      },
      "execution_count": 453,
      "outputs": [
        {
          "output_type": "stream",
          "name": "stdout",
          "text": [
            "Precisión del modelo:\n",
            "0.645923065498292\n"
          ]
        }
      ]
    },
    {
      "cell_type": "code",
      "source": [
        "#Calculo la exactitud del modelo\n",
        "from sklearn.metrics import accuracy_score\n",
        "\n",
        "exactitud7 = accuracy_score(y_test, y_pred)\n",
        "print('Exactitud del modelo:')\n",
        "print(exactitud7)"
      ],
      "metadata": {
        "colab": {
          "base_uri": "https://localhost:8080/"
        },
        "outputId": "a75425d2-af3d-4f29-d08d-2eab04d5753d",
        "id": "Fl2JVs56mz0_"
      },
      "execution_count": 454,
      "outputs": [
        {
          "output_type": "stream",
          "name": "stdout",
          "text": [
            "Exactitud del modelo:\n",
            "0.6430142207887407\n"
          ]
        }
      ]
    },
    {
      "cell_type": "code",
      "source": [
        "#Calculo la sensibilidad del modelo\n",
        "from sklearn.metrics import recall_score\n",
        "\n",
        "sensibilidad7 = recall_score(y_test, y_pred, average=\"binary\", pos_label=1)\n",
        "print('Sensibilidad del modelo:')\n",
        "print(sensibilidad7)"
      ],
      "metadata": {
        "outputId": "12fb1243-b128-4861-aa2a-b8d5db88768b",
        "colab": {
          "base_uri": "https://localhost:8080/"
        },
        "id": "42g7ok2Gmz0_"
      },
      "execution_count": 455,
      "outputs": [
        {
          "output_type": "stream",
          "name": "stdout",
          "text": [
            "Sensibilidad del modelo:\n",
            "0.9884090909090909\n"
          ]
        }
      ]
    },
    {
      "cell_type": "code",
      "source": [
        "#Calculo el Puntaje F1 del modelo\n",
        "from sklearn.metrics import f1_score\n",
        "puntajef1 = f1_score(y_test, y_pred, average=\"binary\", pos_label=1)\n",
        "print('Puntaje F1 del modelo:')\n",
        "print(puntajef1)"
      ],
      "metadata": {
        "colab": {
          "base_uri": "https://localhost:8080/"
        },
        "id": "nOocZVIGzkfF",
        "outputId": "3ae58c4f-4621-4e1f-9bc2-7e33364e95a0"
      },
      "execution_count": 456,
      "outputs": [
        {
          "output_type": "stream",
          "name": "stdout",
          "text": [
            "Puntaje F1 del modelo:\n",
            "0.7812808766729543\n"
          ]
        }
      ]
    },
    {
      "cell_type": "markdown",
      "source": [
        "##**Modelo 8**"
      ],
      "metadata": {
        "id": "9Dad5ky6m0gX"
      }
    },
    {
      "cell_type": "code",
      "source": [
        "Vars_Indep= df[['riesgo', 'porc_eng', 'edad_cliente']]\n",
        "Var_Dep= df['marca']\n",
        "X= Vars_Indep\n",
        "y= Var_Dep"
      ],
      "metadata": {
        "id": "KZspB6xTm0gY"
      },
      "execution_count": 457,
      "outputs": []
    },
    {
      "cell_type": "code",
      "source": [
        "X_train, X_test, y_train, y_test = train_test_split(X, y, test_size=0.3, random_state =None)"
      ],
      "metadata": {
        "id": "rTghySRpm0gY"
      },
      "execution_count": 458,
      "outputs": []
    },
    {
      "cell_type": "code",
      "source": [
        "escalar = StandardScaler()"
      ],
      "metadata": {
        "id": "xbEozTSqm0gZ"
      },
      "execution_count": 459,
      "outputs": []
    },
    {
      "cell_type": "code",
      "source": [
        "X_train = escalar.fit_transform(X_train)\n",
        "X_test = escalar.transform(X_test)"
      ],
      "metadata": {
        "id": "KTaZM0o-m0gZ"
      },
      "execution_count": 460,
      "outputs": []
    },
    {
      "cell_type": "code",
      "source": [
        "from sklearn.linear_model import LogisticRegression\n",
        "algoritmo = LogisticRegression()"
      ],
      "metadata": {
        "id": "MZUkF3W5m0gZ"
      },
      "execution_count": 461,
      "outputs": []
    },
    {
      "cell_type": "code",
      "source": [
        "algoritmo.fit(X_train, y_train)"
      ],
      "metadata": {
        "colab": {
          "base_uri": "https://localhost:8080/",
          "height": 0
        },
        "outputId": "4270d950-ae2b-4132-bdce-3a396c0a53e9",
        "id": "bhoPR5GEm0ga"
      },
      "execution_count": 462,
      "outputs": [
        {
          "output_type": "execute_result",
          "data": {
            "text/plain": [
              "LogisticRegression()"
            ],
            "text/html": [
              "<style>#sk-container-id-33 {color: black;background-color: white;}#sk-container-id-33 pre{padding: 0;}#sk-container-id-33 div.sk-toggleable {background-color: white;}#sk-container-id-33 label.sk-toggleable__label {cursor: pointer;display: block;width: 100%;margin-bottom: 0;padding: 0.3em;box-sizing: border-box;text-align: center;}#sk-container-id-33 label.sk-toggleable__label-arrow:before {content: \"▸\";float: left;margin-right: 0.25em;color: #696969;}#sk-container-id-33 label.sk-toggleable__label-arrow:hover:before {color: black;}#sk-container-id-33 div.sk-estimator:hover label.sk-toggleable__label-arrow:before {color: black;}#sk-container-id-33 div.sk-toggleable__content {max-height: 0;max-width: 0;overflow: hidden;text-align: left;background-color: #f0f8ff;}#sk-container-id-33 div.sk-toggleable__content pre {margin: 0.2em;color: black;border-radius: 0.25em;background-color: #f0f8ff;}#sk-container-id-33 input.sk-toggleable__control:checked~div.sk-toggleable__content {max-height: 200px;max-width: 100%;overflow: auto;}#sk-container-id-33 input.sk-toggleable__control:checked~label.sk-toggleable__label-arrow:before {content: \"▾\";}#sk-container-id-33 div.sk-estimator input.sk-toggleable__control:checked~label.sk-toggleable__label {background-color: #d4ebff;}#sk-container-id-33 div.sk-label input.sk-toggleable__control:checked~label.sk-toggleable__label {background-color: #d4ebff;}#sk-container-id-33 input.sk-hidden--visually {border: 0;clip: rect(1px 1px 1px 1px);clip: rect(1px, 1px, 1px, 1px);height: 1px;margin: -1px;overflow: hidden;padding: 0;position: absolute;width: 1px;}#sk-container-id-33 div.sk-estimator {font-family: monospace;background-color: #f0f8ff;border: 1px dotted black;border-radius: 0.25em;box-sizing: border-box;margin-bottom: 0.5em;}#sk-container-id-33 div.sk-estimator:hover {background-color: #d4ebff;}#sk-container-id-33 div.sk-parallel-item::after {content: \"\";width: 100%;border-bottom: 1px solid gray;flex-grow: 1;}#sk-container-id-33 div.sk-label:hover label.sk-toggleable__label {background-color: #d4ebff;}#sk-container-id-33 div.sk-serial::before {content: \"\";position: absolute;border-left: 1px solid gray;box-sizing: border-box;top: 0;bottom: 0;left: 50%;z-index: 0;}#sk-container-id-33 div.sk-serial {display: flex;flex-direction: column;align-items: center;background-color: white;padding-right: 0.2em;padding-left: 0.2em;position: relative;}#sk-container-id-33 div.sk-item {position: relative;z-index: 1;}#sk-container-id-33 div.sk-parallel {display: flex;align-items: stretch;justify-content: center;background-color: white;position: relative;}#sk-container-id-33 div.sk-item::before, #sk-container-id-33 div.sk-parallel-item::before {content: \"\";position: absolute;border-left: 1px solid gray;box-sizing: border-box;top: 0;bottom: 0;left: 50%;z-index: -1;}#sk-container-id-33 div.sk-parallel-item {display: flex;flex-direction: column;z-index: 1;position: relative;background-color: white;}#sk-container-id-33 div.sk-parallel-item:first-child::after {align-self: flex-end;width: 50%;}#sk-container-id-33 div.sk-parallel-item:last-child::after {align-self: flex-start;width: 50%;}#sk-container-id-33 div.sk-parallel-item:only-child::after {width: 0;}#sk-container-id-33 div.sk-dashed-wrapped {border: 1px dashed gray;margin: 0 0.4em 0.5em 0.4em;box-sizing: border-box;padding-bottom: 0.4em;background-color: white;}#sk-container-id-33 div.sk-label label {font-family: monospace;font-weight: bold;display: inline-block;line-height: 1.2em;}#sk-container-id-33 div.sk-label-container {text-align: center;}#sk-container-id-33 div.sk-container {/* jupyter's `normalize.less` sets `[hidden] { display: none; }` but bootstrap.min.css set `[hidden] { display: none !important; }` so we also need the `!important` here to be able to override the default hidden behavior on the sphinx rendered scikit-learn.org. See: https://github.com/scikit-learn/scikit-learn/issues/21755 */display: inline-block !important;position: relative;}#sk-container-id-33 div.sk-text-repr-fallback {display: none;}</style><div id=\"sk-container-id-33\" class=\"sk-top-container\"><div class=\"sk-text-repr-fallback\"><pre>LogisticRegression()</pre><b>In a Jupyter environment, please rerun this cell to show the HTML representation or trust the notebook. <br />On GitHub, the HTML representation is unable to render, please try loading this page with nbviewer.org.</b></div><div class=\"sk-container\" hidden><div class=\"sk-item\"><div class=\"sk-estimator sk-toggleable\"><input class=\"sk-toggleable__control sk-hidden--visually\" id=\"sk-estimator-id-33\" type=\"checkbox\" checked><label for=\"sk-estimator-id-33\" class=\"sk-toggleable__label sk-toggleable__label-arrow\">LogisticRegression</label><div class=\"sk-toggleable__content\"><pre>LogisticRegression()</pre></div></div></div></div></div>"
            ]
          },
          "metadata": {},
          "execution_count": 462
        }
      ]
    },
    {
      "cell_type": "code",
      "source": [
        "y_pred = algoritmo.predict(X_test)\n",
        "y_pred"
      ],
      "metadata": {
        "colab": {
          "base_uri": "https://localhost:8080/"
        },
        "outputId": "82b139d6-3e1b-4861-8729-fa98dbc23624",
        "id": "7sR-JKrWm0ga"
      },
      "execution_count": 463,
      "outputs": [
        {
          "output_type": "execute_result",
          "data": {
            "text/plain": [
              "array([1, 1, 1, ..., 1, 1, 1])"
            ]
          },
          "metadata": {},
          "execution_count": 463
        }
      ]
    },
    {
      "cell_type": "code",
      "source": [
        "from sklearn.metrics import confusion_matrix\n",
        "matriz = confusion_matrix(y_test, y_pred)\n",
        "print('Matriz de Confusión:')\n",
        "print(matriz)"
      ],
      "metadata": {
        "colab": {
          "base_uri": "https://localhost:8080/"
        },
        "outputId": "5114578c-0e56-4a0c-eb00-74d91e26c90d",
        "id": "LHoDTlLsm0ga"
      },
      "execution_count": 464,
      "outputs": [
        {
          "output_type": "stream",
          "name": "stdout",
          "text": [
            "Matriz de Confusión:\n",
            "[[  19 2507]\n",
            " [  36 4259]]\n"
          ]
        }
      ]
    },
    {
      "cell_type": "code",
      "source": [
        "from sklearn.metrics import precision_score\n",
        "\n",
        "precision8 = precision_score(y_test, y_pred, average=\"binary\", pos_label=1)\n",
        "print('Precisión del modelo:')\n",
        "print(precision8)"
      ],
      "metadata": {
        "colab": {
          "base_uri": "https://localhost:8080/"
        },
        "outputId": "ea5aa3ad-867c-4eaa-c82f-8264b2606bc3",
        "id": "6NHoJb3Cm0gb"
      },
      "execution_count": 465,
      "outputs": [
        {
          "output_type": "stream",
          "name": "stdout",
          "text": [
            "Precisión del modelo:\n",
            "0.6294708838309193\n"
          ]
        }
      ]
    },
    {
      "cell_type": "code",
      "source": [
        "#Calculo la exactitud del modelo\n",
        "from sklearn.metrics import accuracy_score\n",
        "\n",
        "exactitud8 = accuracy_score(y_test, y_pred)\n",
        "print('Exactitud del modelo:')\n",
        "print(exactitud8)"
      ],
      "metadata": {
        "colab": {
          "base_uri": "https://localhost:8080/"
        },
        "outputId": "11605c42-1495-45d2-cce9-d1459ea16b90",
        "id": "jezxihW1m0gb"
      },
      "execution_count": 466,
      "outputs": [
        {
          "output_type": "stream",
          "name": "stdout",
          "text": [
            "Exactitud del modelo:\n",
            "0.6271807652836827\n"
          ]
        }
      ]
    },
    {
      "cell_type": "code",
      "source": [
        "#Calculo la sensibilidad del modelo\n",
        "from sklearn.metrics import recall_score\n",
        "\n",
        "sensibilidad8 = recall_score(y_test, y_pred, average=\"binary\", pos_label=1)\n",
        "print('Sensibilidad del modelo:')\n",
        "print(sensibilidad8)"
      ],
      "metadata": {
        "outputId": "f683345e-e83a-4b60-a879-f20a5a0dd54f",
        "colab": {
          "base_uri": "https://localhost:8080/"
        },
        "id": "jc_EhgkOm0gc"
      },
      "execution_count": 467,
      "outputs": [
        {
          "output_type": "stream",
          "name": "stdout",
          "text": [
            "Sensibilidad del modelo:\n",
            "0.9916181606519209\n"
          ]
        }
      ]
    },
    {
      "cell_type": "code",
      "source": [
        "#Calculo el Puntaje F1 del modelo\n",
        "from sklearn.metrics import f1_score\n",
        "puntajef1 = f1_score(y_test, y_pred, average=\"binary\", pos_label=1)\n",
        "print('Puntaje F1 del modelo:')\n",
        "print(puntajef1)"
      ],
      "metadata": {
        "colab": {
          "base_uri": "https://localhost:8080/"
        },
        "id": "S_vBX5n1zmVi",
        "outputId": "ccd3991e-8f19-448a-9ba0-3c450c23e5ba"
      },
      "execution_count": 468,
      "outputs": [
        {
          "output_type": "stream",
          "name": "stdout",
          "text": [
            "Puntaje F1 del modelo:\n",
            "0.7700931199710696\n"
          ]
        }
      ]
    },
    {
      "cell_type": "markdown",
      "source": [
        "##**Modelo 9**"
      ],
      "metadata": {
        "id": "xZCKVyg9m24_"
      }
    },
    {
      "cell_type": "code",
      "source": [
        "Vars_Indep= df[['pagos_realizados', 'precio', 'reautorizacion']]\n",
        "Var_Dep= df['modelo']\n",
        "X= Vars_Indep\n",
        "y= Var_Dep"
      ],
      "metadata": {
        "id": "01fXTRFnm25T"
      },
      "execution_count": 469,
      "outputs": []
    },
    {
      "cell_type": "code",
      "source": [
        "X_train, X_test, y_train, y_test = train_test_split(X, y, test_size=0.3, random_state =None)"
      ],
      "metadata": {
        "id": "0HU6UtCFm25T"
      },
      "execution_count": 470,
      "outputs": []
    },
    {
      "cell_type": "code",
      "source": [
        "escalar = StandardScaler()"
      ],
      "metadata": {
        "id": "m-NCc4pwm25U"
      },
      "execution_count": 471,
      "outputs": []
    },
    {
      "cell_type": "code",
      "source": [
        "X_train = escalar.fit_transform(X_train)\n",
        "X_test = escalar.transform(X_test)"
      ],
      "metadata": {
        "id": "nazYlIkmm25U"
      },
      "execution_count": 472,
      "outputs": []
    },
    {
      "cell_type": "code",
      "source": [
        "from sklearn.linear_model import LogisticRegression\n",
        "algoritmo = LogisticRegression()"
      ],
      "metadata": {
        "id": "KqlvdFVhm25U"
      },
      "execution_count": 473,
      "outputs": []
    },
    {
      "cell_type": "code",
      "source": [
        "algoritmo.fit(X_train, y_train)"
      ],
      "metadata": {
        "colab": {
          "base_uri": "https://localhost:8080/",
          "height": 0
        },
        "outputId": "bacf8a26-2174-4294-d97e-cfc98bf03746",
        "id": "bRYOP-ZUm25U"
      },
      "execution_count": 474,
      "outputs": [
        {
          "output_type": "execute_result",
          "data": {
            "text/plain": [
              "LogisticRegression()"
            ],
            "text/html": [
              "<style>#sk-container-id-34 {color: black;background-color: white;}#sk-container-id-34 pre{padding: 0;}#sk-container-id-34 div.sk-toggleable {background-color: white;}#sk-container-id-34 label.sk-toggleable__label {cursor: pointer;display: block;width: 100%;margin-bottom: 0;padding: 0.3em;box-sizing: border-box;text-align: center;}#sk-container-id-34 label.sk-toggleable__label-arrow:before {content: \"▸\";float: left;margin-right: 0.25em;color: #696969;}#sk-container-id-34 label.sk-toggleable__label-arrow:hover:before {color: black;}#sk-container-id-34 div.sk-estimator:hover label.sk-toggleable__label-arrow:before {color: black;}#sk-container-id-34 div.sk-toggleable__content {max-height: 0;max-width: 0;overflow: hidden;text-align: left;background-color: #f0f8ff;}#sk-container-id-34 div.sk-toggleable__content pre {margin: 0.2em;color: black;border-radius: 0.25em;background-color: #f0f8ff;}#sk-container-id-34 input.sk-toggleable__control:checked~div.sk-toggleable__content {max-height: 200px;max-width: 100%;overflow: auto;}#sk-container-id-34 input.sk-toggleable__control:checked~label.sk-toggleable__label-arrow:before {content: \"▾\";}#sk-container-id-34 div.sk-estimator input.sk-toggleable__control:checked~label.sk-toggleable__label {background-color: #d4ebff;}#sk-container-id-34 div.sk-label input.sk-toggleable__control:checked~label.sk-toggleable__label {background-color: #d4ebff;}#sk-container-id-34 input.sk-hidden--visually {border: 0;clip: rect(1px 1px 1px 1px);clip: rect(1px, 1px, 1px, 1px);height: 1px;margin: -1px;overflow: hidden;padding: 0;position: absolute;width: 1px;}#sk-container-id-34 div.sk-estimator {font-family: monospace;background-color: #f0f8ff;border: 1px dotted black;border-radius: 0.25em;box-sizing: border-box;margin-bottom: 0.5em;}#sk-container-id-34 div.sk-estimator:hover {background-color: #d4ebff;}#sk-container-id-34 div.sk-parallel-item::after {content: \"\";width: 100%;border-bottom: 1px solid gray;flex-grow: 1;}#sk-container-id-34 div.sk-label:hover label.sk-toggleable__label {background-color: #d4ebff;}#sk-container-id-34 div.sk-serial::before {content: \"\";position: absolute;border-left: 1px solid gray;box-sizing: border-box;top: 0;bottom: 0;left: 50%;z-index: 0;}#sk-container-id-34 div.sk-serial {display: flex;flex-direction: column;align-items: center;background-color: white;padding-right: 0.2em;padding-left: 0.2em;position: relative;}#sk-container-id-34 div.sk-item {position: relative;z-index: 1;}#sk-container-id-34 div.sk-parallel {display: flex;align-items: stretch;justify-content: center;background-color: white;position: relative;}#sk-container-id-34 div.sk-item::before, #sk-container-id-34 div.sk-parallel-item::before {content: \"\";position: absolute;border-left: 1px solid gray;box-sizing: border-box;top: 0;bottom: 0;left: 50%;z-index: -1;}#sk-container-id-34 div.sk-parallel-item {display: flex;flex-direction: column;z-index: 1;position: relative;background-color: white;}#sk-container-id-34 div.sk-parallel-item:first-child::after {align-self: flex-end;width: 50%;}#sk-container-id-34 div.sk-parallel-item:last-child::after {align-self: flex-start;width: 50%;}#sk-container-id-34 div.sk-parallel-item:only-child::after {width: 0;}#sk-container-id-34 div.sk-dashed-wrapped {border: 1px dashed gray;margin: 0 0.4em 0.5em 0.4em;box-sizing: border-box;padding-bottom: 0.4em;background-color: white;}#sk-container-id-34 div.sk-label label {font-family: monospace;font-weight: bold;display: inline-block;line-height: 1.2em;}#sk-container-id-34 div.sk-label-container {text-align: center;}#sk-container-id-34 div.sk-container {/* jupyter's `normalize.less` sets `[hidden] { display: none; }` but bootstrap.min.css set `[hidden] { display: none !important; }` so we also need the `!important` here to be able to override the default hidden behavior on the sphinx rendered scikit-learn.org. See: https://github.com/scikit-learn/scikit-learn/issues/21755 */display: inline-block !important;position: relative;}#sk-container-id-34 div.sk-text-repr-fallback {display: none;}</style><div id=\"sk-container-id-34\" class=\"sk-top-container\"><div class=\"sk-text-repr-fallback\"><pre>LogisticRegression()</pre><b>In a Jupyter environment, please rerun this cell to show the HTML representation or trust the notebook. <br />On GitHub, the HTML representation is unable to render, please try loading this page with nbviewer.org.</b></div><div class=\"sk-container\" hidden><div class=\"sk-item\"><div class=\"sk-estimator sk-toggleable\"><input class=\"sk-toggleable__control sk-hidden--visually\" id=\"sk-estimator-id-34\" type=\"checkbox\" checked><label for=\"sk-estimator-id-34\" class=\"sk-toggleable__label sk-toggleable__label-arrow\">LogisticRegression</label><div class=\"sk-toggleable__content\"><pre>LogisticRegression()</pre></div></div></div></div></div>"
            ]
          },
          "metadata": {},
          "execution_count": 474
        }
      ]
    },
    {
      "cell_type": "code",
      "source": [
        "y_pred = algoritmo.predict(X_test)\n",
        "y_pred"
      ],
      "metadata": {
        "colab": {
          "base_uri": "https://localhost:8080/"
        },
        "outputId": "4a57d6bb-641b-402b-9b61-f80ae57b6bc1",
        "id": "03qgBCR1m25U"
      },
      "execution_count": 475,
      "outputs": [
        {
          "output_type": "execute_result",
          "data": {
            "text/plain": [
              "array([0, 0, 0, ..., 0, 0, 0])"
            ]
          },
          "metadata": {},
          "execution_count": 475
        }
      ]
    },
    {
      "cell_type": "code",
      "source": [
        "from sklearn.metrics import confusion_matrix\n",
        "matriz = confusion_matrix(y_test, y_pred)\n",
        "print('Matriz de Confusión:')\n",
        "print(matriz)"
      ],
      "metadata": {
        "colab": {
          "base_uri": "https://localhost:8080/"
        },
        "outputId": "9e8218e1-a8f1-4fc1-c082-2cd4d79c8bb3",
        "id": "-IRZWgvtm25U"
      },
      "execution_count": 476,
      "outputs": [
        {
          "output_type": "stream",
          "name": "stdout",
          "text": [
            "Matriz de Confusión:\n",
            "[[4673   34]\n",
            " [2095   19]]\n"
          ]
        }
      ]
    },
    {
      "cell_type": "code",
      "source": [
        "from sklearn.metrics import precision_score\n",
        "\n",
        "precision9 = precision_score(y_test, y_pred, average=\"binary\", pos_label=1)\n",
        "print('Precisión del modelo:')\n",
        "print(precision9)"
      ],
      "metadata": {
        "colab": {
          "base_uri": "https://localhost:8080/"
        },
        "outputId": "42bf1025-db65-4dc6-9c91-22c38c4413c6",
        "id": "JRMhldlpm25V"
      },
      "execution_count": 477,
      "outputs": [
        {
          "output_type": "stream",
          "name": "stdout",
          "text": [
            "Precisión del modelo:\n",
            "0.3584905660377358\n"
          ]
        }
      ]
    },
    {
      "cell_type": "code",
      "source": [
        "#Calculo la exactitud del modelo\n",
        "from sklearn.metrics import accuracy_score\n",
        "\n",
        "exactitud9 = accuracy_score(y_test, y_pred)\n",
        "print('Exactitud del modelo:')\n",
        "print(exactitud9)"
      ],
      "metadata": {
        "colab": {
          "base_uri": "https://localhost:8080/"
        },
        "outputId": "823c963e-c26f-4d1a-bb79-6ddef5544543",
        "id": "EAXWg-Hlm25V"
      },
      "execution_count": 478,
      "outputs": [
        {
          "output_type": "stream",
          "name": "stdout",
          "text": [
            "Exactitud del modelo:\n",
            "0.6878756780530714\n"
          ]
        }
      ]
    },
    {
      "cell_type": "code",
      "source": [
        "#Calculo la sensibilidad del modelo\n",
        "from sklearn.metrics import recall_score\n",
        "\n",
        "sensibilidad9 = recall_score(y_test, y_pred, average=\"binary\", pos_label=1)\n",
        "print('Sensibilidad del modelo:')\n",
        "print(sensibilidad9)"
      ],
      "metadata": {
        "outputId": "36255575-9ceb-4cb0-e902-198308835a50",
        "colab": {
          "base_uri": "https://localhost:8080/"
        },
        "id": "UMTDT5Pmm25V"
      },
      "execution_count": 479,
      "outputs": [
        {
          "output_type": "stream",
          "name": "stdout",
          "text": [
            "Sensibilidad del modelo:\n",
            "0.008987701040681173\n"
          ]
        }
      ]
    },
    {
      "cell_type": "code",
      "source": [
        "#Calculo el Puntaje F1 del modelo\n",
        "from sklearn.metrics import f1_score\n",
        "puntajef1 = f1_score(y_test, y_pred, average=\"binary\", pos_label=1)\n",
        "print('Puntaje F1 del modelo:')\n",
        "print(puntajef1)"
      ],
      "metadata": {
        "colab": {
          "base_uri": "https://localhost:8080/"
        },
        "id": "n7b4f42Vzn9S",
        "outputId": "8e9a7e36-b1a3-4e14-f9b2-d3950e0f698e"
      },
      "execution_count": 480,
      "outputs": [
        {
          "output_type": "stream",
          "name": "stdout",
          "text": [
            "Puntaje F1 del modelo:\n",
            "0.017535763728657127\n"
          ]
        }
      ]
    },
    {
      "cell_type": "markdown",
      "source": [
        "##**Modelo 10**"
      ],
      "metadata": {
        "id": "atrFH_DMm3j2"
      }
    },
    {
      "cell_type": "code",
      "source": [
        "Vars_Indep= df[['edad_cliente', 'precio', 'score_buro']]\n",
        "Var_Dep= df['marca']\n",
        "X= Vars_Indep\n",
        "y= Var_Dep"
      ],
      "metadata": {
        "id": "E4-Hw5LEm3j3"
      },
      "execution_count": 481,
      "outputs": []
    },
    {
      "cell_type": "code",
      "source": [
        "X_train, X_test, y_train, y_test = train_test_split(X, y, test_size=0.3, random_state =None)"
      ],
      "metadata": {
        "id": "vmgNyEyGm3j4"
      },
      "execution_count": 482,
      "outputs": []
    },
    {
      "cell_type": "code",
      "source": [
        "escalar = StandardScaler()"
      ],
      "metadata": {
        "id": "vLmcyerdm3j5"
      },
      "execution_count": 483,
      "outputs": []
    },
    {
      "cell_type": "code",
      "source": [
        "X_train = escalar.fit_transform(X_train)\n",
        "X_test = escalar.transform(X_test)"
      ],
      "metadata": {
        "id": "5cmV5npdm3j6"
      },
      "execution_count": 484,
      "outputs": []
    },
    {
      "cell_type": "code",
      "source": [
        "from sklearn.linear_model import LogisticRegression\n",
        "algoritmo = LogisticRegression()"
      ],
      "metadata": {
        "id": "vKXaKw2Em3j6"
      },
      "execution_count": 485,
      "outputs": []
    },
    {
      "cell_type": "code",
      "source": [
        "algoritmo.fit(X_train, y_train)"
      ],
      "metadata": {
        "colab": {
          "base_uri": "https://localhost:8080/",
          "height": 0
        },
        "outputId": "3b08777f-0893-4090-99cb-51463993f993",
        "id": "yVl_Qq2Hm3j6"
      },
      "execution_count": 486,
      "outputs": [
        {
          "output_type": "execute_result",
          "data": {
            "text/plain": [
              "LogisticRegression()"
            ],
            "text/html": [
              "<style>#sk-container-id-35 {color: black;background-color: white;}#sk-container-id-35 pre{padding: 0;}#sk-container-id-35 div.sk-toggleable {background-color: white;}#sk-container-id-35 label.sk-toggleable__label {cursor: pointer;display: block;width: 100%;margin-bottom: 0;padding: 0.3em;box-sizing: border-box;text-align: center;}#sk-container-id-35 label.sk-toggleable__label-arrow:before {content: \"▸\";float: left;margin-right: 0.25em;color: #696969;}#sk-container-id-35 label.sk-toggleable__label-arrow:hover:before {color: black;}#sk-container-id-35 div.sk-estimator:hover label.sk-toggleable__label-arrow:before {color: black;}#sk-container-id-35 div.sk-toggleable__content {max-height: 0;max-width: 0;overflow: hidden;text-align: left;background-color: #f0f8ff;}#sk-container-id-35 div.sk-toggleable__content pre {margin: 0.2em;color: black;border-radius: 0.25em;background-color: #f0f8ff;}#sk-container-id-35 input.sk-toggleable__control:checked~div.sk-toggleable__content {max-height: 200px;max-width: 100%;overflow: auto;}#sk-container-id-35 input.sk-toggleable__control:checked~label.sk-toggleable__label-arrow:before {content: \"▾\";}#sk-container-id-35 div.sk-estimator input.sk-toggleable__control:checked~label.sk-toggleable__label {background-color: #d4ebff;}#sk-container-id-35 div.sk-label input.sk-toggleable__control:checked~label.sk-toggleable__label {background-color: #d4ebff;}#sk-container-id-35 input.sk-hidden--visually {border: 0;clip: rect(1px 1px 1px 1px);clip: rect(1px, 1px, 1px, 1px);height: 1px;margin: -1px;overflow: hidden;padding: 0;position: absolute;width: 1px;}#sk-container-id-35 div.sk-estimator {font-family: monospace;background-color: #f0f8ff;border: 1px dotted black;border-radius: 0.25em;box-sizing: border-box;margin-bottom: 0.5em;}#sk-container-id-35 div.sk-estimator:hover {background-color: #d4ebff;}#sk-container-id-35 div.sk-parallel-item::after {content: \"\";width: 100%;border-bottom: 1px solid gray;flex-grow: 1;}#sk-container-id-35 div.sk-label:hover label.sk-toggleable__label {background-color: #d4ebff;}#sk-container-id-35 div.sk-serial::before {content: \"\";position: absolute;border-left: 1px solid gray;box-sizing: border-box;top: 0;bottom: 0;left: 50%;z-index: 0;}#sk-container-id-35 div.sk-serial {display: flex;flex-direction: column;align-items: center;background-color: white;padding-right: 0.2em;padding-left: 0.2em;position: relative;}#sk-container-id-35 div.sk-item {position: relative;z-index: 1;}#sk-container-id-35 div.sk-parallel {display: flex;align-items: stretch;justify-content: center;background-color: white;position: relative;}#sk-container-id-35 div.sk-item::before, #sk-container-id-35 div.sk-parallel-item::before {content: \"\";position: absolute;border-left: 1px solid gray;box-sizing: border-box;top: 0;bottom: 0;left: 50%;z-index: -1;}#sk-container-id-35 div.sk-parallel-item {display: flex;flex-direction: column;z-index: 1;position: relative;background-color: white;}#sk-container-id-35 div.sk-parallel-item:first-child::after {align-self: flex-end;width: 50%;}#sk-container-id-35 div.sk-parallel-item:last-child::after {align-self: flex-start;width: 50%;}#sk-container-id-35 div.sk-parallel-item:only-child::after {width: 0;}#sk-container-id-35 div.sk-dashed-wrapped {border: 1px dashed gray;margin: 0 0.4em 0.5em 0.4em;box-sizing: border-box;padding-bottom: 0.4em;background-color: white;}#sk-container-id-35 div.sk-label label {font-family: monospace;font-weight: bold;display: inline-block;line-height: 1.2em;}#sk-container-id-35 div.sk-label-container {text-align: center;}#sk-container-id-35 div.sk-container {/* jupyter's `normalize.less` sets `[hidden] { display: none; }` but bootstrap.min.css set `[hidden] { display: none !important; }` so we also need the `!important` here to be able to override the default hidden behavior on the sphinx rendered scikit-learn.org. See: https://github.com/scikit-learn/scikit-learn/issues/21755 */display: inline-block !important;position: relative;}#sk-container-id-35 div.sk-text-repr-fallback {display: none;}</style><div id=\"sk-container-id-35\" class=\"sk-top-container\"><div class=\"sk-text-repr-fallback\"><pre>LogisticRegression()</pre><b>In a Jupyter environment, please rerun this cell to show the HTML representation or trust the notebook. <br />On GitHub, the HTML representation is unable to render, please try loading this page with nbviewer.org.</b></div><div class=\"sk-container\" hidden><div class=\"sk-item\"><div class=\"sk-estimator sk-toggleable\"><input class=\"sk-toggleable__control sk-hidden--visually\" id=\"sk-estimator-id-35\" type=\"checkbox\" checked><label for=\"sk-estimator-id-35\" class=\"sk-toggleable__label sk-toggleable__label-arrow\">LogisticRegression</label><div class=\"sk-toggleable__content\"><pre>LogisticRegression()</pre></div></div></div></div></div>"
            ]
          },
          "metadata": {},
          "execution_count": 486
        }
      ]
    },
    {
      "cell_type": "code",
      "source": [
        "y_pred = algoritmo.predict(X_test)\n",
        "y_pred"
      ],
      "metadata": {
        "colab": {
          "base_uri": "https://localhost:8080/"
        },
        "outputId": "6a629d87-766f-4af2-ca34-ea3f31dcba5d",
        "id": "Ftoq_BItm3j7"
      },
      "execution_count": 487,
      "outputs": [
        {
          "output_type": "execute_result",
          "data": {
            "text/plain": [
              "array([1, 1, 1, ..., 1, 1, 1])"
            ]
          },
          "metadata": {},
          "execution_count": 487
        }
      ]
    },
    {
      "cell_type": "code",
      "source": [
        "from sklearn.metrics import confusion_matrix\n",
        "matriz = confusion_matrix(y_test, y_pred)\n",
        "print('Matriz de Confusión:')\n",
        "print(matriz)"
      ],
      "metadata": {
        "colab": {
          "base_uri": "https://localhost:8080/"
        },
        "outputId": "49230935-1de1-4377-876b-4e9d4e28726e",
        "id": "WLtTmkzfm3j7"
      },
      "execution_count": 488,
      "outputs": [
        {
          "output_type": "stream",
          "name": "stdout",
          "text": [
            "Matriz de Confusión:\n",
            "[[   0 2514]\n",
            " [   0 4307]]\n"
          ]
        }
      ]
    },
    {
      "cell_type": "code",
      "source": [
        "from sklearn.metrics import precision_score\n",
        "\n",
        "precision10 = precision_score(y_test, y_pred, average=\"binary\", pos_label=1)\n",
        "print('Precisión del modelo:')\n",
        "print(precision10)"
      ],
      "metadata": {
        "colab": {
          "base_uri": "https://localhost:8080/"
        },
        "outputId": "d9a9c7e3-d8b0-414a-d87f-bc02418d1904",
        "id": "z6gqaWDtm3j8"
      },
      "execution_count": 489,
      "outputs": [
        {
          "output_type": "stream",
          "name": "stdout",
          "text": [
            "Precisión del modelo:\n",
            "0.6314323412989298\n"
          ]
        }
      ]
    },
    {
      "cell_type": "code",
      "source": [
        "#Calculo la exactitud del modelo\n",
        "from sklearn.metrics import accuracy_score\n",
        "\n",
        "exactitud10 = accuracy_score(y_test, y_pred)\n",
        "print('Exactitud del modelo:')\n",
        "print(exactitud10)"
      ],
      "metadata": {
        "colab": {
          "base_uri": "https://localhost:8080/"
        },
        "outputId": "e65ddd29-96fd-4756-edc5-ce6d90454799",
        "id": "_pbS1E_Rm3j8"
      },
      "execution_count": 490,
      "outputs": [
        {
          "output_type": "stream",
          "name": "stdout",
          "text": [
            "Exactitud del modelo:\n",
            "0.6314323412989298\n"
          ]
        }
      ]
    },
    {
      "cell_type": "code",
      "source": [
        "#Calculo la sensibilidad del modelo\n",
        "from sklearn.metrics import recall_score\n",
        "\n",
        "sensibilidad10 = recall_score(y_test, y_pred, average=\"binary\", pos_label=1)\n",
        "print('Sensibilidad del modelo:')\n",
        "print(sensibilidad10)"
      ],
      "metadata": {
        "outputId": "549c14b8-aa39-422c-d993-87b37bb6a58a",
        "colab": {
          "base_uri": "https://localhost:8080/"
        },
        "id": "bPqTtnCFm3j8"
      },
      "execution_count": 491,
      "outputs": [
        {
          "output_type": "stream",
          "name": "stdout",
          "text": [
            "Sensibilidad del modelo:\n",
            "1.0\n"
          ]
        }
      ]
    },
    {
      "cell_type": "code",
      "source": [
        "#Calculo el Puntaje F1 del modelo\n",
        "from sklearn.metrics import f1_score\n",
        "puntajef1 = f1_score(y_test, y_pred, average=\"binary\", pos_label=1)\n",
        "print('Puntaje F1 del modelo:')\n",
        "print(puntajef1)"
      ],
      "metadata": {
        "colab": {
          "base_uri": "https://localhost:8080/"
        },
        "id": "f_fIBFv_zqAG",
        "outputId": "00032dfa-586b-44b4-a9b2-58cd35e97cbe"
      },
      "execution_count": 492,
      "outputs": [
        {
          "output_type": "stream",
          "name": "stdout",
          "text": [
            "Puntaje F1 del modelo:\n",
            "0.7740833932422717\n"
          ]
        }
      ]
    },
    {
      "cell_type": "markdown",
      "source": [
        "##**Tablas**"
      ],
      "metadata": {
        "id": "jmVdYskGwDYA"
      }
    },
    {
      "cell_type": "code",
      "source": [
        "coeficientes = pd.DataFrame({'Precision': [precision, precision2, precision3, precision4, precision5, precision6, precision7, precision8, precision9, precision10],\n",
        "                             'Exactitud': [exactitud, exactitud2, exactitud3, exactitud4, exactitud5, exactitud6, exactitud7, exactitud8, exactitud9, exactitud10],\n",
        "                             'Sensibilidad': [sensibilidad, sensibilidad2, sensibilidad3, sensibilidad4, sensibilidad5, sensibilidad6, sensibilidad7, sensibilidad8, sensibilidad9, sensibilidad10],})\n",
        "indice = ['Modelo 1', 'Modelo 2', 'Modelo 3', 'Modelo 4', 'Modelo 5', 'Modelo 6', 'Modelo 7', 'Modelo 8', 'Modelo 9', 'Modelo 10']\n",
        "coeficientes.index = indice\n",
        "coeficientes"
      ],
      "metadata": {
        "colab": {
          "base_uri": "https://localhost:8080/",
          "height": 0
        },
        "id": "dae3u3tvydTX",
        "outputId": "da0e008b-a8f9-42b6-cc5b-a9e5f43708a1"
      },
      "execution_count": 493,
      "outputs": [
        {
          "output_type": "execute_result",
          "data": {
            "text/plain": [
              "           Precision  Exactitud  Sensibilidad\n",
              "Modelo 1    0.780234   0.763231      0.952483\n",
              "Modelo 2    0.780299   0.761472      0.955054\n",
              "Modelo 3    0.756194   0.756194      1.000000\n",
              "Modelo 4    0.757367   0.757367      1.000000\n",
              "Modelo 5    0.783771   0.757220      0.941369\n",
              "Modelo 6    0.639202   0.639202      1.000000\n",
              "Modelo 7    0.645923   0.643014      0.988409\n",
              "Modelo 8    0.629471   0.627181      0.991618\n",
              "Modelo 9    0.358491   0.687876      0.008988\n",
              "Modelo 10   0.631432   0.631432      1.000000"
            ],
            "text/html": [
              "\n",
              "  <div id=\"df-5d86c849-a78c-421a-8bc8-cb632388dc68\" class=\"colab-df-container\">\n",
              "    <div>\n",
              "<style scoped>\n",
              "    .dataframe tbody tr th:only-of-type {\n",
              "        vertical-align: middle;\n",
              "    }\n",
              "\n",
              "    .dataframe tbody tr th {\n",
              "        vertical-align: top;\n",
              "    }\n",
              "\n",
              "    .dataframe thead th {\n",
              "        text-align: right;\n",
              "    }\n",
              "</style>\n",
              "<table border=\"1\" class=\"dataframe\">\n",
              "  <thead>\n",
              "    <tr style=\"text-align: right;\">\n",
              "      <th></th>\n",
              "      <th>Precision</th>\n",
              "      <th>Exactitud</th>\n",
              "      <th>Sensibilidad</th>\n",
              "    </tr>\n",
              "  </thead>\n",
              "  <tbody>\n",
              "    <tr>\n",
              "      <th>Modelo 1</th>\n",
              "      <td>0.780234</td>\n",
              "      <td>0.763231</td>\n",
              "      <td>0.952483</td>\n",
              "    </tr>\n",
              "    <tr>\n",
              "      <th>Modelo 2</th>\n",
              "      <td>0.780299</td>\n",
              "      <td>0.761472</td>\n",
              "      <td>0.955054</td>\n",
              "    </tr>\n",
              "    <tr>\n",
              "      <th>Modelo 3</th>\n",
              "      <td>0.756194</td>\n",
              "      <td>0.756194</td>\n",
              "      <td>1.000000</td>\n",
              "    </tr>\n",
              "    <tr>\n",
              "      <th>Modelo 4</th>\n",
              "      <td>0.757367</td>\n",
              "      <td>0.757367</td>\n",
              "      <td>1.000000</td>\n",
              "    </tr>\n",
              "    <tr>\n",
              "      <th>Modelo 5</th>\n",
              "      <td>0.783771</td>\n",
              "      <td>0.757220</td>\n",
              "      <td>0.941369</td>\n",
              "    </tr>\n",
              "    <tr>\n",
              "      <th>Modelo 6</th>\n",
              "      <td>0.639202</td>\n",
              "      <td>0.639202</td>\n",
              "      <td>1.000000</td>\n",
              "    </tr>\n",
              "    <tr>\n",
              "      <th>Modelo 7</th>\n",
              "      <td>0.645923</td>\n",
              "      <td>0.643014</td>\n",
              "      <td>0.988409</td>\n",
              "    </tr>\n",
              "    <tr>\n",
              "      <th>Modelo 8</th>\n",
              "      <td>0.629471</td>\n",
              "      <td>0.627181</td>\n",
              "      <td>0.991618</td>\n",
              "    </tr>\n",
              "    <tr>\n",
              "      <th>Modelo 9</th>\n",
              "      <td>0.358491</td>\n",
              "      <td>0.687876</td>\n",
              "      <td>0.008988</td>\n",
              "    </tr>\n",
              "    <tr>\n",
              "      <th>Modelo 10</th>\n",
              "      <td>0.631432</td>\n",
              "      <td>0.631432</td>\n",
              "      <td>1.000000</td>\n",
              "    </tr>\n",
              "  </tbody>\n",
              "</table>\n",
              "</div>\n",
              "    <div class=\"colab-df-buttons\">\n",
              "\n",
              "  <div class=\"colab-df-container\">\n",
              "    <button class=\"colab-df-convert\" onclick=\"convertToInteractive('df-5d86c849-a78c-421a-8bc8-cb632388dc68')\"\n",
              "            title=\"Convert this dataframe to an interactive table.\"\n",
              "            style=\"display:none;\">\n",
              "\n",
              "  <svg xmlns=\"http://www.w3.org/2000/svg\" height=\"24px\" viewBox=\"0 -960 960 960\">\n",
              "    <path d=\"M120-120v-720h720v720H120Zm60-500h600v-160H180v160Zm220 220h160v-160H400v160Zm0 220h160v-160H400v160ZM180-400h160v-160H180v160Zm440 0h160v-160H620v160ZM180-180h160v-160H180v160Zm440 0h160v-160H620v160Z\"/>\n",
              "  </svg>\n",
              "    </button>\n",
              "\n",
              "  <style>\n",
              "    .colab-df-container {\n",
              "      display:flex;\n",
              "      gap: 12px;\n",
              "    }\n",
              "\n",
              "    .colab-df-convert {\n",
              "      background-color: #E8F0FE;\n",
              "      border: none;\n",
              "      border-radius: 50%;\n",
              "      cursor: pointer;\n",
              "      display: none;\n",
              "      fill: #1967D2;\n",
              "      height: 32px;\n",
              "      padding: 0 0 0 0;\n",
              "      width: 32px;\n",
              "    }\n",
              "\n",
              "    .colab-df-convert:hover {\n",
              "      background-color: #E2EBFA;\n",
              "      box-shadow: 0px 1px 2px rgba(60, 64, 67, 0.3), 0px 1px 3px 1px rgba(60, 64, 67, 0.15);\n",
              "      fill: #174EA6;\n",
              "    }\n",
              "\n",
              "    .colab-df-buttons div {\n",
              "      margin-bottom: 4px;\n",
              "    }\n",
              "\n",
              "    [theme=dark] .colab-df-convert {\n",
              "      background-color: #3B4455;\n",
              "      fill: #D2E3FC;\n",
              "    }\n",
              "\n",
              "    [theme=dark] .colab-df-convert:hover {\n",
              "      background-color: #434B5C;\n",
              "      box-shadow: 0px 1px 3px 1px rgba(0, 0, 0, 0.15);\n",
              "      filter: drop-shadow(0px 1px 2px rgba(0, 0, 0, 0.3));\n",
              "      fill: #FFFFFF;\n",
              "    }\n",
              "  </style>\n",
              "\n",
              "    <script>\n",
              "      const buttonEl =\n",
              "        document.querySelector('#df-5d86c849-a78c-421a-8bc8-cb632388dc68 button.colab-df-convert');\n",
              "      buttonEl.style.display =\n",
              "        google.colab.kernel.accessAllowed ? 'block' : 'none';\n",
              "\n",
              "      async function convertToInteractive(key) {\n",
              "        const element = document.querySelector('#df-5d86c849-a78c-421a-8bc8-cb632388dc68');\n",
              "        const dataTable =\n",
              "          await google.colab.kernel.invokeFunction('convertToInteractive',\n",
              "                                                    [key], {});\n",
              "        if (!dataTable) return;\n",
              "\n",
              "        const docLinkHtml = 'Like what you see? Visit the ' +\n",
              "          '<a target=\"_blank\" href=https://colab.research.google.com/notebooks/data_table.ipynb>data table notebook</a>'\n",
              "          + ' to learn more about interactive tables.';\n",
              "        element.innerHTML = '';\n",
              "        dataTable['output_type'] = 'display_data';\n",
              "        await google.colab.output.renderOutput(dataTable, element);\n",
              "        const docLink = document.createElement('div');\n",
              "        docLink.innerHTML = docLinkHtml;\n",
              "        element.appendChild(docLink);\n",
              "      }\n",
              "    </script>\n",
              "  </div>\n",
              "\n",
              "\n",
              "<div id=\"df-72f146fa-b0b3-4ad7-835e-379a469671c3\">\n",
              "  <button class=\"colab-df-quickchart\" onclick=\"quickchart('df-72f146fa-b0b3-4ad7-835e-379a469671c3')\"\n",
              "            title=\"Suggest charts.\"\n",
              "            style=\"display:none;\">\n",
              "\n",
              "<svg xmlns=\"http://www.w3.org/2000/svg\" height=\"24px\"viewBox=\"0 0 24 24\"\n",
              "     width=\"24px\">\n",
              "    <g>\n",
              "        <path d=\"M19 3H5c-1.1 0-2 .9-2 2v14c0 1.1.9 2 2 2h14c1.1 0 2-.9 2-2V5c0-1.1-.9-2-2-2zM9 17H7v-7h2v7zm4 0h-2V7h2v10zm4 0h-2v-4h2v4z\"/>\n",
              "    </g>\n",
              "</svg>\n",
              "  </button>\n",
              "\n",
              "<style>\n",
              "  .colab-df-quickchart {\n",
              "      --bg-color: #E8F0FE;\n",
              "      --fill-color: #1967D2;\n",
              "      --hover-bg-color: #E2EBFA;\n",
              "      --hover-fill-color: #174EA6;\n",
              "      --disabled-fill-color: #AAA;\n",
              "      --disabled-bg-color: #DDD;\n",
              "  }\n",
              "\n",
              "  [theme=dark] .colab-df-quickchart {\n",
              "      --bg-color: #3B4455;\n",
              "      --fill-color: #D2E3FC;\n",
              "      --hover-bg-color: #434B5C;\n",
              "      --hover-fill-color: #FFFFFF;\n",
              "      --disabled-bg-color: #3B4455;\n",
              "      --disabled-fill-color: #666;\n",
              "  }\n",
              "\n",
              "  .colab-df-quickchart {\n",
              "    background-color: var(--bg-color);\n",
              "    border: none;\n",
              "    border-radius: 50%;\n",
              "    cursor: pointer;\n",
              "    display: none;\n",
              "    fill: var(--fill-color);\n",
              "    height: 32px;\n",
              "    padding: 0;\n",
              "    width: 32px;\n",
              "  }\n",
              "\n",
              "  .colab-df-quickchart:hover {\n",
              "    background-color: var(--hover-bg-color);\n",
              "    box-shadow: 0 1px 2px rgba(60, 64, 67, 0.3), 0 1px 3px 1px rgba(60, 64, 67, 0.15);\n",
              "    fill: var(--button-hover-fill-color);\n",
              "  }\n",
              "\n",
              "  .colab-df-quickchart-complete:disabled,\n",
              "  .colab-df-quickchart-complete:disabled:hover {\n",
              "    background-color: var(--disabled-bg-color);\n",
              "    fill: var(--disabled-fill-color);\n",
              "    box-shadow: none;\n",
              "  }\n",
              "\n",
              "  .colab-df-spinner {\n",
              "    border: 2px solid var(--fill-color);\n",
              "    border-color: transparent;\n",
              "    border-bottom-color: var(--fill-color);\n",
              "    animation:\n",
              "      spin 1s steps(1) infinite;\n",
              "  }\n",
              "\n",
              "  @keyframes spin {\n",
              "    0% {\n",
              "      border-color: transparent;\n",
              "      border-bottom-color: var(--fill-color);\n",
              "      border-left-color: var(--fill-color);\n",
              "    }\n",
              "    20% {\n",
              "      border-color: transparent;\n",
              "      border-left-color: var(--fill-color);\n",
              "      border-top-color: var(--fill-color);\n",
              "    }\n",
              "    30% {\n",
              "      border-color: transparent;\n",
              "      border-left-color: var(--fill-color);\n",
              "      border-top-color: var(--fill-color);\n",
              "      border-right-color: var(--fill-color);\n",
              "    }\n",
              "    40% {\n",
              "      border-color: transparent;\n",
              "      border-right-color: var(--fill-color);\n",
              "      border-top-color: var(--fill-color);\n",
              "    }\n",
              "    60% {\n",
              "      border-color: transparent;\n",
              "      border-right-color: var(--fill-color);\n",
              "    }\n",
              "    80% {\n",
              "      border-color: transparent;\n",
              "      border-right-color: var(--fill-color);\n",
              "      border-bottom-color: var(--fill-color);\n",
              "    }\n",
              "    90% {\n",
              "      border-color: transparent;\n",
              "      border-bottom-color: var(--fill-color);\n",
              "    }\n",
              "  }\n",
              "</style>\n",
              "\n",
              "  <script>\n",
              "    async function quickchart(key) {\n",
              "      const quickchartButtonEl =\n",
              "        document.querySelector('#' + key + ' button');\n",
              "      quickchartButtonEl.disabled = true;  // To prevent multiple clicks.\n",
              "      quickchartButtonEl.classList.add('colab-df-spinner');\n",
              "      try {\n",
              "        const charts = await google.colab.kernel.invokeFunction(\n",
              "            'suggestCharts', [key], {});\n",
              "      } catch (error) {\n",
              "        console.error('Error during call to suggestCharts:', error);\n",
              "      }\n",
              "      quickchartButtonEl.classList.remove('colab-df-spinner');\n",
              "      quickchartButtonEl.classList.add('colab-df-quickchart-complete');\n",
              "    }\n",
              "    (() => {\n",
              "      let quickchartButtonEl =\n",
              "        document.querySelector('#df-72f146fa-b0b3-4ad7-835e-379a469671c3 button');\n",
              "      quickchartButtonEl.style.display =\n",
              "        google.colab.kernel.accessAllowed ? 'block' : 'none';\n",
              "    })();\n",
              "  </script>\n",
              "</div>\n",
              "    </div>\n",
              "  </div>\n"
            ]
          },
          "metadata": {},
          "execution_count": 493
        }
      ]
    }
  ]
}